{
 "cells": [
  {
   "cell_type": "markdown",
   "id": "b017bb67",
   "metadata": {},
   "source": [
    "### Load the Libraries"
   ]
  },
  {
   "cell_type": "code",
   "execution_count": 32,
   "id": "a622a032",
   "metadata": {},
   "outputs": [
    {
     "name": "stderr",
     "output_type": "stream",
     "text": [
      "Loading required package: Matrix\n",
      "\n",
      "Loaded glmnet 4.1-8\n",
      "\n"
     ]
    }
   ],
   "source": [
    "# loading the library\n",
    "library(ggplot2)\n",
    "library(leaps)\n",
    "library(glmnet)"
   ]
  },
  {
   "cell_type": "markdown",
   "id": "3574ba36",
   "metadata": {},
   "source": [
    "### Read the Data "
   ]
  },
  {
   "cell_type": "code",
   "execution_count": 4,
   "id": "fb2e4d5e",
   "metadata": {},
   "outputs": [],
   "source": [
    "path <- \"./\"\n",
    "filename <- \"BioProduct_2.csv\""
   ]
  },
  {
   "cell_type": "code",
   "execution_count": 5,
   "id": "14b1b33d",
   "metadata": {},
   "outputs": [],
   "source": [
    "# setting to current working directory\n",
    "setwd(path)"
   ]
  },
  {
   "cell_type": "code",
   "execution_count": 6,
   "id": "b6c6e572",
   "metadata": {},
   "outputs": [
    {
     "data": {
      "text/html": [
       "<table class=\"dataframe\">\n",
       "<caption>A data.frame: 5 × 21</caption>\n",
       "<thead>\n",
       "\t<tr><th></th><th scope=col>Yield</th><th scope=col>Material_1</th><th scope=col>Material_2</th><th scope=col>Material_3</th><th scope=col>Material_4</th><th scope=col>Material_5</th><th scope=col>Material_6</th><th scope=col>Material_7</th><th scope=col>Material_8</th><th scope=col>Material_9</th><th scope=col>⋯</th><th scope=col>Process_1</th><th scope=col>Process_2</th><th scope=col>Process_3</th><th scope=col>Process_4</th><th scope=col>Process_5</th><th scope=col>Process_6</th><th scope=col>Process_7</th><th scope=col>Process_8</th><th scope=col>Process_9</th><th scope=col>Process_10</th></tr>\n",
       "\t<tr><th></th><th scope=col>&lt;dbl&gt;</th><th scope=col>&lt;dbl&gt;</th><th scope=col>&lt;dbl&gt;</th><th scope=col>&lt;dbl&gt;</th><th scope=col>&lt;dbl&gt;</th><th scope=col>&lt;dbl&gt;</th><th scope=col>&lt;dbl&gt;</th><th scope=col>&lt;dbl&gt;</th><th scope=col>&lt;dbl&gt;</th><th scope=col>&lt;dbl&gt;</th><th scope=col>⋯</th><th scope=col>&lt;dbl&gt;</th><th scope=col>&lt;dbl&gt;</th><th scope=col>&lt;dbl&gt;</th><th scope=col>&lt;dbl&gt;</th><th scope=col>&lt;dbl&gt;</th><th scope=col>&lt;dbl&gt;</th><th scope=col>&lt;dbl&gt;</th><th scope=col>&lt;dbl&gt;</th><th scope=col>&lt;dbl&gt;</th><th scope=col>&lt;int&gt;</th></tr>\n",
       "</thead>\n",
       "<tbody>\n",
       "\t<tr><th scope=row>1</th><td>42.44</td><td>8.01</td><td>60.97</td><td>67.48</td><td>14.65</td><td>19.36</td><td>53.14</td><td>19.04</td><td>12.55</td><td>3.46</td><td>⋯</td><td> 0.0</td><td>1032.2</td><td>210.0</td><td>46.57</td><td>9.6</td><td> 9.8</td><td>34.0</td><td>34.0</td><td>11.2</td><td>3</td></tr>\n",
       "\t<tr><th scope=row>2</th><td>42.03</td><td>8.01</td><td>60.97</td><td>67.48</td><td>14.65</td><td>19.36</td><td>53.14</td><td>19.04</td><td>12.55</td><td>3.46</td><td>⋯</td><td> 0.0</td><td>1003.6</td><td>207.1</td><td>45.07</td><td>9.4</td><td>10.2</td><td>34.8</td><td>34.8</td><td>11.1</td><td>2</td></tr>\n",
       "\t<tr><th scope=row>3</th><td>41.42</td><td>8.01</td><td>60.97</td><td>67.48</td><td>14.65</td><td>19.36</td><td>53.14</td><td>19.04</td><td>12.55</td><td>3.46</td><td>⋯</td><td> 0.0</td><td>1014.6</td><td>213.3</td><td>44.92</td><td>9.6</td><td>10.2</td><td>34.8</td><td>34.8</td><td>11.1</td><td>2</td></tr>\n",
       "\t<tr><th scope=row>4</th><td>42.49</td><td>7.47</td><td>63.33</td><td>72.25</td><td>14.02</td><td>17.91</td><td>54.66</td><td>18.22</td><td>12.80</td><td>3.05</td><td>⋯</td><td>10.7</td><td>1027.5</td><td>205.7</td><td>44.96</td><td>9.0</td><td>10.0</td><td>34.6</td><td>33.9</td><td>11.3</td><td>2</td></tr>\n",
       "\t<tr><th scope=row>5</th><td>43.57</td><td>6.12</td><td>58.36</td><td>65.31</td><td>15.17</td><td>21.79</td><td>51.23</td><td>18.30</td><td>12.13</td><td>3.78</td><td>⋯</td><td>12.0</td><td>1016.8</td><td>208.9</td><td>45.32</td><td>9.5</td><td>10.6</td><td>34.0</td><td>33.4</td><td>11.4</td><td>2</td></tr>\n",
       "</tbody>\n",
       "</table>\n"
      ],
      "text/latex": [
       "A data.frame: 5 × 21\n",
       "\\begin{tabular}{r|lllllllllllllllllllll}\n",
       "  & Yield & Material\\_1 & Material\\_2 & Material\\_3 & Material\\_4 & Material\\_5 & Material\\_6 & Material\\_7 & Material\\_8 & Material\\_9 & ⋯ & Process\\_1 & Process\\_2 & Process\\_3 & Process\\_4 & Process\\_5 & Process\\_6 & Process\\_7 & Process\\_8 & Process\\_9 & Process\\_10\\\\\n",
       "  & <dbl> & <dbl> & <dbl> & <dbl> & <dbl> & <dbl> & <dbl> & <dbl> & <dbl> & <dbl> & ⋯ & <dbl> & <dbl> & <dbl> & <dbl> & <dbl> & <dbl> & <dbl> & <dbl> & <dbl> & <int>\\\\\n",
       "\\hline\n",
       "\t1 & 42.44 & 8.01 & 60.97 & 67.48 & 14.65 & 19.36 & 53.14 & 19.04 & 12.55 & 3.46 & ⋯ &  0.0 & 1032.2 & 210.0 & 46.57 & 9.6 &  9.8 & 34.0 & 34.0 & 11.2 & 3\\\\\n",
       "\t2 & 42.03 & 8.01 & 60.97 & 67.48 & 14.65 & 19.36 & 53.14 & 19.04 & 12.55 & 3.46 & ⋯ &  0.0 & 1003.6 & 207.1 & 45.07 & 9.4 & 10.2 & 34.8 & 34.8 & 11.1 & 2\\\\\n",
       "\t3 & 41.42 & 8.01 & 60.97 & 67.48 & 14.65 & 19.36 & 53.14 & 19.04 & 12.55 & 3.46 & ⋯ &  0.0 & 1014.6 & 213.3 & 44.92 & 9.6 & 10.2 & 34.8 & 34.8 & 11.1 & 2\\\\\n",
       "\t4 & 42.49 & 7.47 & 63.33 & 72.25 & 14.02 & 17.91 & 54.66 & 18.22 & 12.80 & 3.05 & ⋯ & 10.7 & 1027.5 & 205.7 & 44.96 & 9.0 & 10.0 & 34.6 & 33.9 & 11.3 & 2\\\\\n",
       "\t5 & 43.57 & 6.12 & 58.36 & 65.31 & 15.17 & 21.79 & 51.23 & 18.30 & 12.13 & 3.78 & ⋯ & 12.0 & 1016.8 & 208.9 & 45.32 & 9.5 & 10.6 & 34.0 & 33.4 & 11.4 & 2\\\\\n",
       "\\end{tabular}\n"
      ],
      "text/markdown": [
       "\n",
       "A data.frame: 5 × 21\n",
       "\n",
       "| <!--/--> | Yield &lt;dbl&gt; | Material_1 &lt;dbl&gt; | Material_2 &lt;dbl&gt; | Material_3 &lt;dbl&gt; | Material_4 &lt;dbl&gt; | Material_5 &lt;dbl&gt; | Material_6 &lt;dbl&gt; | Material_7 &lt;dbl&gt; | Material_8 &lt;dbl&gt; | Material_9 &lt;dbl&gt; | ⋯ ⋯ | Process_1 &lt;dbl&gt; | Process_2 &lt;dbl&gt; | Process_3 &lt;dbl&gt; | Process_4 &lt;dbl&gt; | Process_5 &lt;dbl&gt; | Process_6 &lt;dbl&gt; | Process_7 &lt;dbl&gt; | Process_8 &lt;dbl&gt; | Process_9 &lt;dbl&gt; | Process_10 &lt;int&gt; |\n",
       "|---|---|---|---|---|---|---|---|---|---|---|---|---|---|---|---|---|---|---|---|---|---|\n",
       "| 1 | 42.44 | 8.01 | 60.97 | 67.48 | 14.65 | 19.36 | 53.14 | 19.04 | 12.55 | 3.46 | ⋯ |  0.0 | 1032.2 | 210.0 | 46.57 | 9.6 |  9.8 | 34.0 | 34.0 | 11.2 | 3 |\n",
       "| 2 | 42.03 | 8.01 | 60.97 | 67.48 | 14.65 | 19.36 | 53.14 | 19.04 | 12.55 | 3.46 | ⋯ |  0.0 | 1003.6 | 207.1 | 45.07 | 9.4 | 10.2 | 34.8 | 34.8 | 11.1 | 2 |\n",
       "| 3 | 41.42 | 8.01 | 60.97 | 67.48 | 14.65 | 19.36 | 53.14 | 19.04 | 12.55 | 3.46 | ⋯ |  0.0 | 1014.6 | 213.3 | 44.92 | 9.6 | 10.2 | 34.8 | 34.8 | 11.1 | 2 |\n",
       "| 4 | 42.49 | 7.47 | 63.33 | 72.25 | 14.02 | 17.91 | 54.66 | 18.22 | 12.80 | 3.05 | ⋯ | 10.7 | 1027.5 | 205.7 | 44.96 | 9.0 | 10.0 | 34.6 | 33.9 | 11.3 | 2 |\n",
       "| 5 | 43.57 | 6.12 | 58.36 | 65.31 | 15.17 | 21.79 | 51.23 | 18.30 | 12.13 | 3.78 | ⋯ | 12.0 | 1016.8 | 208.9 | 45.32 | 9.5 | 10.6 | 34.0 | 33.4 | 11.4 | 2 |\n",
       "\n"
      ],
      "text/plain": [
       "  Yield Material_1 Material_2 Material_3 Material_4 Material_5 Material_6\n",
       "1 42.44 8.01       60.97      67.48      14.65      19.36      53.14     \n",
       "2 42.03 8.01       60.97      67.48      14.65      19.36      53.14     \n",
       "3 41.42 8.01       60.97      67.48      14.65      19.36      53.14     \n",
       "4 42.49 7.47       63.33      72.25      14.02      17.91      54.66     \n",
       "5 43.57 6.12       58.36      65.31      15.17      21.79      51.23     \n",
       "  Material_7 Material_8 Material_9 ⋯ Process_1 Process_2 Process_3 Process_4\n",
       "1 19.04      12.55      3.46       ⋯  0.0      1032.2    210.0     46.57    \n",
       "2 19.04      12.55      3.46       ⋯  0.0      1003.6    207.1     45.07    \n",
       "3 19.04      12.55      3.46       ⋯  0.0      1014.6    213.3     44.92    \n",
       "4 18.22      12.80      3.05       ⋯ 10.7      1027.5    205.7     44.96    \n",
       "5 18.30      12.13      3.78       ⋯ 12.0      1016.8    208.9     45.32    \n",
       "  Process_5 Process_6 Process_7 Process_8 Process_9 Process_10\n",
       "1 9.6        9.8      34.0      34.0      11.2      3         \n",
       "2 9.4       10.2      34.8      34.8      11.1      2         \n",
       "3 9.6       10.2      34.8      34.8      11.1      2         \n",
       "4 9.0       10.0      34.6      33.9      11.3      2         \n",
       "5 9.5       10.6      34.0      33.4      11.4      2         "
      ]
     },
     "metadata": {},
     "output_type": "display_data"
    }
   ],
   "source": [
    "# reading the csv file\n",
    "bio_prod_data <- read.csv(filename)\n",
    "head(bio_prod_data, 5)"
   ]
  },
  {
   "cell_type": "markdown",
   "id": "70cba398",
   "metadata": {},
   "source": [
    "### EDA "
   ]
  },
  {
   "cell_type": "code",
   "execution_count": 8,
   "id": "efdf599f",
   "metadata": {},
   "outputs": [
    {
     "data": {
      "image/png": "[encoded data removed]",
      "text/plain": [
       "plot without title"
      ]
     },
     "metadata": {
      "image/png": {
       "height": 420,
       "width": 420
      }
     },
     "output_type": "display_data"
    }
   ],
   "source": [
    "#density plot for the numerical variable \"Yield\"\n",
    "ggplot(data = bio_prod_data, aes(x = Yield)) +\n",
    "  geom_density(fill = \"lightgreen\", alpha = 0.5) +\n",
    "  geom_vline(aes(xintercept = mean(Yield)), color = \"red\", linetype = \"dashed\", linewidth = 1) +\n",
    "  geom_vline(aes(xintercept = median(Yield)), color = \"blue\", linetype = \"dashed\", linewidth = 1) +\n",
    "  labs(x = \"Yield\", y = \"Density\", title = \"Density Plot of Yield with Mean and Median\") +\n",
    "  theme_bw()"
   ]
  },
  {
   "cell_type": "code",
   "execution_count": 9,
   "id": "18b25c8e",
   "metadata": {},
   "outputs": [
    {
     "name": "stderr",
     "output_type": "stream",
     "text": [
      "Warning message:\n",
      "\"\u001b[1m\u001b[22mThe dot-dot notation (`..density..`) was deprecated in ggplot2 3.4.0.\n",
      "\u001b[36mℹ\u001b[39m Please use `after_stat(density)` instead.\"\n",
      "\u001b[1m\u001b[22m`stat_bin()` using `bins = 30`. Pick better value with `binwidth`.\n"
     ]
    },
    {
     "data": {
      "image/png": "[encoded data removed]",
      "text/plain": [
       "plot without title"
      ]
     },
     "metadata": {
      "image/png": {
       "height": 420,
       "width": 420
      }
     },
     "output_type": "display_data"
    }
   ],
   "source": [
    "# density plot with histogram for the numerical variable \"Yield\"\n",
    "ggplot(bio_prod_data, aes(x=Yield)) + \n",
    "  geom_histogram(aes(y=..density..), colour=\"black\", fill=\"white\")+\n",
    "  geom_density(alpha=.2, fill=\"lightgreen\") +\n",
    "  # Adding a vertical line for the mean\n",
    "  geom_vline(aes(xintercept = mean(Yield)), color = \"red\", linetype = \"dashed\", linewidth = 1) +\n",
    "  # Adding a vertical line for the median\n",
    "  geom_vline(aes(xintercept = median(Yield)), color = \"blue\", linetype = \"dashed\", linewidth = 1) +\n",
    "  # labels for the x and y axes\n",
    "  labs(x = \"Yield\", y = \"Density\", title=\"Density Plot with histogram of Yield with Mean and Median\")"
   ]
  },
  {
   "cell_type": "markdown",
   "id": "c69e16ee",
   "metadata": {},
   "source": [
    "### Train Test Split - 75 and 25% Ratio "
   ]
  },
  {
   "cell_type": "code",
   "execution_count": 10,
   "id": "d98a1d47",
   "metadata": {},
   "outputs": [],
   "source": [
    "# random number to reproduce\n",
    "set.seed(123)\n",
    "# splitting the data into 75% train and 25% test set\n",
    "train_index_1 <- sample(nrow(bio_prod_data), nrow(bio_prod_data)*0.75)\n",
    "train_data_1 <- bio_prod_data[train_index_1,]\n",
    "test_data_1 <- bio_prod_data[-train_index_1,]"
   ]
  },
  {
   "cell_type": "code",
   "execution_count": 11,
   "id": "0dab5f06",
   "metadata": {},
   "outputs": [
    {
     "data": {
      "text/html": [
       "<table class=\"dataframe\">\n",
       "<caption>A data.frame: 5 × 21</caption>\n",
       "<thead>\n",
       "\t<tr><th></th><th scope=col>Yield</th><th scope=col>Material_1</th><th scope=col>Material_2</th><th scope=col>Material_3</th><th scope=col>Material_4</th><th scope=col>Material_5</th><th scope=col>Material_6</th><th scope=col>Material_7</th><th scope=col>Material_8</th><th scope=col>Material_9</th><th scope=col>⋯</th><th scope=col>Process_1</th><th scope=col>Process_2</th><th scope=col>Process_3</th><th scope=col>Process_4</th><th scope=col>Process_5</th><th scope=col>Process_6</th><th scope=col>Process_7</th><th scope=col>Process_8</th><th scope=col>Process_9</th><th scope=col>Process_10</th></tr>\n",
       "\t<tr><th></th><th scope=col>&lt;dbl&gt;</th><th scope=col>&lt;dbl&gt;</th><th scope=col>&lt;dbl&gt;</th><th scope=col>&lt;dbl&gt;</th><th scope=col>&lt;dbl&gt;</th><th scope=col>&lt;dbl&gt;</th><th scope=col>&lt;dbl&gt;</th><th scope=col>&lt;dbl&gt;</th><th scope=col>&lt;dbl&gt;</th><th scope=col>&lt;dbl&gt;</th><th scope=col>⋯</th><th scope=col>&lt;dbl&gt;</th><th scope=col>&lt;dbl&gt;</th><th scope=col>&lt;dbl&gt;</th><th scope=col>&lt;dbl&gt;</th><th scope=col>&lt;dbl&gt;</th><th scope=col>&lt;dbl&gt;</th><th scope=col>&lt;dbl&gt;</th><th scope=col>&lt;dbl&gt;</th><th scope=col>&lt;dbl&gt;</th><th scope=col>&lt;int&gt;</th></tr>\n",
       "</thead>\n",
       "<tbody>\n",
       "\t<tr><th scope=row>159</th><td>38.42</td><td>5.27</td><td>52.45</td><td>64.09</td><td>10.84</td><td>18.10</td><td>46.02</td><td>16.35</td><td>12.22</td><td>1.77</td><td>⋯</td><td>11.4</td><td>1029.0</td><td>205.9</td><td>47.70</td><td>10.5</td><td>10.3</td><td>33.5</td><td>33.5</td><td> 0.0</td><td>1</td></tr>\n",
       "\t<tr><th scope=row>14</th><td>41.50</td><td>6.23</td><td>62.93</td><td>69.74</td><td>11.80</td><td>20.54</td><td>54.57</td><td>18.89</td><td>12.82</td><td>2.30</td><td>⋯</td><td>11.3</td><td>1120.7</td><td>207.8</td><td>46.44</td><td> 9.4</td><td>10.2</td><td>35.3</td><td>35.3</td><td>11.3</td><td>3</td></tr>\n",
       "\t<tr><th scope=row>50</th><td>40.15</td><td>6.87</td><td>57.33</td><td>71.52</td><td>13.22</td><td>15.62</td><td>50.85</td><td>17.74</td><td>13.16</td><td>2.91</td><td>⋯</td><td> 9.7</td><td>1003.8</td><td>206.8</td><td>48.84</td><td> 8.7</td><td>10.8</td><td>33.6</td><td>33.1</td><td>10.1</td><td>3</td></tr>\n",
       "\t<tr><th scope=row>118</th><td>43.42</td><td>6.08</td><td>52.89</td><td>66.72</td><td>11.23</td><td>19.06</td><td>47.29</td><td>17.03</td><td>12.96</td><td>2.49</td><td>⋯</td><td>11.2</td><td> 994.7</td><td>207.3</td><td>46.95</td><td> 8.9</td><td> 9.8</td><td>34.3</td><td>33.2</td><td> 0.0</td><td>3</td></tr>\n",
       "\t<tr><th scope=row>43</th><td>42.96</td><td>6.95</td><td>60.31</td><td>73.97</td><td>12.42</td><td>19.05</td><td>52.31</td><td>17.64</td><td>13.28</td><td>2.75</td><td>⋯</td><td>12.2</td><td> 977.8</td><td>227.4</td><td>46.03</td><td> 9.4</td><td> 9.1</td><td>32.6</td><td>32.6</td><td>10.7</td><td>1</td></tr>\n",
       "</tbody>\n",
       "</table>\n"
      ],
      "text/latex": [
       "A data.frame: 5 × 21\n",
       "\\begin{tabular}{r|lllllllllllllllllllll}\n",
       "  & Yield & Material\\_1 & Material\\_2 & Material\\_3 & Material\\_4 & Material\\_5 & Material\\_6 & Material\\_7 & Material\\_8 & Material\\_9 & ⋯ & Process\\_1 & Process\\_2 & Process\\_3 & Process\\_4 & Process\\_5 & Process\\_6 & Process\\_7 & Process\\_8 & Process\\_9 & Process\\_10\\\\\n",
       "  & <dbl> & <dbl> & <dbl> & <dbl> & <dbl> & <dbl> & <dbl> & <dbl> & <dbl> & <dbl> & ⋯ & <dbl> & <dbl> & <dbl> & <dbl> & <dbl> & <dbl> & <dbl> & <dbl> & <dbl> & <int>\\\\\n",
       "\\hline\n",
       "\t159 & 38.42 & 5.27 & 52.45 & 64.09 & 10.84 & 18.10 & 46.02 & 16.35 & 12.22 & 1.77 & ⋯ & 11.4 & 1029.0 & 205.9 & 47.70 & 10.5 & 10.3 & 33.5 & 33.5 &  0.0 & 1\\\\\n",
       "\t14 & 41.50 & 6.23 & 62.93 & 69.74 & 11.80 & 20.54 & 54.57 & 18.89 & 12.82 & 2.30 & ⋯ & 11.3 & 1120.7 & 207.8 & 46.44 &  9.4 & 10.2 & 35.3 & 35.3 & 11.3 & 3\\\\\n",
       "\t50 & 40.15 & 6.87 & 57.33 & 71.52 & 13.22 & 15.62 & 50.85 & 17.74 & 13.16 & 2.91 & ⋯ &  9.7 & 1003.8 & 206.8 & 48.84 &  8.7 & 10.8 & 33.6 & 33.1 & 10.1 & 3\\\\\n",
       "\t118 & 43.42 & 6.08 & 52.89 & 66.72 & 11.23 & 19.06 & 47.29 & 17.03 & 12.96 & 2.49 & ⋯ & 11.2 &  994.7 & 207.3 & 46.95 &  8.9 &  9.8 & 34.3 & 33.2 &  0.0 & 3\\\\\n",
       "\t43 & 42.96 & 6.95 & 60.31 & 73.97 & 12.42 & 19.05 & 52.31 & 17.64 & 13.28 & 2.75 & ⋯ & 12.2 &  977.8 & 227.4 & 46.03 &  9.4 &  9.1 & 32.6 & 32.6 & 10.7 & 1\\\\\n",
       "\\end{tabular}\n"
      ],
      "text/markdown": [
       "\n",
       "A data.frame: 5 × 21\n",
       "\n",
       "| <!--/--> | Yield &lt;dbl&gt; | Material_1 &lt;dbl&gt; | Material_2 &lt;dbl&gt; | Material_3 &lt;dbl&gt; | Material_4 &lt;dbl&gt; | Material_5 &lt;dbl&gt; | Material_6 &lt;dbl&gt; | Material_7 &lt;dbl&gt; | Material_8 &lt;dbl&gt; | Material_9 &lt;dbl&gt; | ⋯ ⋯ | Process_1 &lt;dbl&gt; | Process_2 &lt;dbl&gt; | Process_3 &lt;dbl&gt; | Process_4 &lt;dbl&gt; | Process_5 &lt;dbl&gt; | Process_6 &lt;dbl&gt; | Process_7 &lt;dbl&gt; | Process_8 &lt;dbl&gt; | Process_9 &lt;dbl&gt; | Process_10 &lt;int&gt; |\n",
       "|---|---|---|---|---|---|---|---|---|---|---|---|---|---|---|---|---|---|---|---|---|---|\n",
       "| 159 | 38.42 | 5.27 | 52.45 | 64.09 | 10.84 | 18.10 | 46.02 | 16.35 | 12.22 | 1.77 | ⋯ | 11.4 | 1029.0 | 205.9 | 47.70 | 10.5 | 10.3 | 33.5 | 33.5 |  0.0 | 1 |\n",
       "| 14 | 41.50 | 6.23 | 62.93 | 69.74 | 11.80 | 20.54 | 54.57 | 18.89 | 12.82 | 2.30 | ⋯ | 11.3 | 1120.7 | 207.8 | 46.44 |  9.4 | 10.2 | 35.3 | 35.3 | 11.3 | 3 |\n",
       "| 50 | 40.15 | 6.87 | 57.33 | 71.52 | 13.22 | 15.62 | 50.85 | 17.74 | 13.16 | 2.91 | ⋯ |  9.7 | 1003.8 | 206.8 | 48.84 |  8.7 | 10.8 | 33.6 | 33.1 | 10.1 | 3 |\n",
       "| 118 | 43.42 | 6.08 | 52.89 | 66.72 | 11.23 | 19.06 | 47.29 | 17.03 | 12.96 | 2.49 | ⋯ | 11.2 |  994.7 | 207.3 | 46.95 |  8.9 |  9.8 | 34.3 | 33.2 |  0.0 | 3 |\n",
       "| 43 | 42.96 | 6.95 | 60.31 | 73.97 | 12.42 | 19.05 | 52.31 | 17.64 | 13.28 | 2.75 | ⋯ | 12.2 |  977.8 | 227.4 | 46.03 |  9.4 |  9.1 | 32.6 | 32.6 | 10.7 | 1 |\n",
       "\n"
      ],
      "text/plain": [
       "    Yield Material_1 Material_2 Material_3 Material_4 Material_5 Material_6\n",
       "159 38.42 5.27       52.45      64.09      10.84      18.10      46.02     \n",
       "14  41.50 6.23       62.93      69.74      11.80      20.54      54.57     \n",
       "50  40.15 6.87       57.33      71.52      13.22      15.62      50.85     \n",
       "118 43.42 6.08       52.89      66.72      11.23      19.06      47.29     \n",
       "43  42.96 6.95       60.31      73.97      12.42      19.05      52.31     \n",
       "    Material_7 Material_8 Material_9 ⋯ Process_1 Process_2 Process_3 Process_4\n",
       "159 16.35      12.22      1.77       ⋯ 11.4      1029.0    205.9     47.70    \n",
       "14  18.89      12.82      2.30       ⋯ 11.3      1120.7    207.8     46.44    \n",
       "50  17.74      13.16      2.91       ⋯  9.7      1003.8    206.8     48.84    \n",
       "118 17.03      12.96      2.49       ⋯ 11.2       994.7    207.3     46.95    \n",
       "43  17.64      13.28      2.75       ⋯ 12.2       977.8    227.4     46.03    \n",
       "    Process_5 Process_6 Process_7 Process_8 Process_9 Process_10\n",
       "159 10.5      10.3      33.5      33.5       0.0      1         \n",
       "14   9.4      10.2      35.3      35.3      11.3      3         \n",
       "50   8.7      10.8      33.6      33.1      10.1      3         \n",
       "118  8.9       9.8      34.3      33.2       0.0      3         \n",
       "43   9.4       9.1      32.6      32.6      10.7      1         "
      ]
     },
     "metadata": {},
     "output_type": "display_data"
    }
   ],
   "source": [
    "head(train_data_1, 5)"
   ]
  },
  {
   "cell_type": "code",
   "execution_count": 12,
   "id": "b22f97f4",
   "metadata": {},
   "outputs": [
    {
     "data": {
      "text/html": [
       "<table class=\"dataframe\">\n",
       "<caption>A data.frame: 5 × 21</caption>\n",
       "<thead>\n",
       "\t<tr><th></th><th scope=col>Yield</th><th scope=col>Material_1</th><th scope=col>Material_2</th><th scope=col>Material_3</th><th scope=col>Material_4</th><th scope=col>Material_5</th><th scope=col>Material_6</th><th scope=col>Material_7</th><th scope=col>Material_8</th><th scope=col>Material_9</th><th scope=col>⋯</th><th scope=col>Process_1</th><th scope=col>Process_2</th><th scope=col>Process_3</th><th scope=col>Process_4</th><th scope=col>Process_5</th><th scope=col>Process_6</th><th scope=col>Process_7</th><th scope=col>Process_8</th><th scope=col>Process_9</th><th scope=col>Process_10</th></tr>\n",
       "\t<tr><th></th><th scope=col>&lt;dbl&gt;</th><th scope=col>&lt;dbl&gt;</th><th scope=col>&lt;dbl&gt;</th><th scope=col>&lt;dbl&gt;</th><th scope=col>&lt;dbl&gt;</th><th scope=col>&lt;dbl&gt;</th><th scope=col>&lt;dbl&gt;</th><th scope=col>&lt;dbl&gt;</th><th scope=col>&lt;dbl&gt;</th><th scope=col>&lt;dbl&gt;</th><th scope=col>⋯</th><th scope=col>&lt;dbl&gt;</th><th scope=col>&lt;dbl&gt;</th><th scope=col>&lt;dbl&gt;</th><th scope=col>&lt;dbl&gt;</th><th scope=col>&lt;dbl&gt;</th><th scope=col>&lt;dbl&gt;</th><th scope=col>&lt;dbl&gt;</th><th scope=col>&lt;dbl&gt;</th><th scope=col>&lt;dbl&gt;</th><th scope=col>&lt;int&gt;</th></tr>\n",
       "</thead>\n",
       "<tbody>\n",
       "\t<tr><th scope=row>1</th><td>42.44</td><td>8.01</td><td>60.97</td><td>67.48</td><td>14.65</td><td>19.36</td><td>53.14</td><td>19.04</td><td>12.55</td><td>3.46</td><td>⋯</td><td> 0.0</td><td>1032.2</td><td>210.0</td><td>46.57</td><td>9.6</td><td> 9.8</td><td>34.0</td><td>34.0</td><td>11.2</td><td>3</td></tr>\n",
       "\t<tr><th scope=row>2</th><td>42.03</td><td>8.01</td><td>60.97</td><td>67.48</td><td>14.65</td><td>19.36</td><td>53.14</td><td>19.04</td><td>12.55</td><td>3.46</td><td>⋯</td><td> 0.0</td><td>1003.6</td><td>207.1</td><td>45.07</td><td>9.4</td><td>10.2</td><td>34.8</td><td>34.8</td><td>11.1</td><td>2</td></tr>\n",
       "\t<tr><th scope=row>3</th><td>41.42</td><td>8.01</td><td>60.97</td><td>67.48</td><td>14.65</td><td>19.36</td><td>53.14</td><td>19.04</td><td>12.55</td><td>3.46</td><td>⋯</td><td> 0.0</td><td>1014.6</td><td>213.3</td><td>44.92</td><td>9.6</td><td>10.2</td><td>34.8</td><td>34.8</td><td>11.1</td><td>2</td></tr>\n",
       "\t<tr><th scope=row>10</th><td>42.04</td><td>7.17</td><td>61.23</td><td>70.01</td><td>13.36</td><td>18.67</td><td>52.83</td><td>17.88</td><td>12.62</td><td>2.90</td><td>⋯</td><td>10.3</td><td> 983.1</td><td>209.4</td><td>46.24</td><td>9.0</td><td> 9.5</td><td>35.8</td><td>35.8</td><td>11.5</td><td>3</td></tr>\n",
       "\t<tr><th scope=row>15</th><td>41.21</td><td>7.13</td><td>60.30</td><td>68.18</td><td>13.80</td><td>20.72</td><td>52.49</td><td>18.68</td><td>12.75</td><td>3.25</td><td>⋯</td><td>11.1</td><td>1073.6</td><td>207.1</td><td>45.40</td><td>9.6</td><td>10.2</td><td>35.4</td><td>35.5</td><td>11.1</td><td>1</td></tr>\n",
       "</tbody>\n",
       "</table>\n"
      ],
      "text/latex": [
       "A data.frame: 5 × 21\n",
       "\\begin{tabular}{r|lllllllllllllllllllll}\n",
       "  & Yield & Material\\_1 & Material\\_2 & Material\\_3 & Material\\_4 & Material\\_5 & Material\\_6 & Material\\_7 & Material\\_8 & Material\\_9 & ⋯ & Process\\_1 & Process\\_2 & Process\\_3 & Process\\_4 & Process\\_5 & Process\\_6 & Process\\_7 & Process\\_8 & Process\\_9 & Process\\_10\\\\\n",
       "  & <dbl> & <dbl> & <dbl> & <dbl> & <dbl> & <dbl> & <dbl> & <dbl> & <dbl> & <dbl> & ⋯ & <dbl> & <dbl> & <dbl> & <dbl> & <dbl> & <dbl> & <dbl> & <dbl> & <dbl> & <int>\\\\\n",
       "\\hline\n",
       "\t1 & 42.44 & 8.01 & 60.97 & 67.48 & 14.65 & 19.36 & 53.14 & 19.04 & 12.55 & 3.46 & ⋯ &  0.0 & 1032.2 & 210.0 & 46.57 & 9.6 &  9.8 & 34.0 & 34.0 & 11.2 & 3\\\\\n",
       "\t2 & 42.03 & 8.01 & 60.97 & 67.48 & 14.65 & 19.36 & 53.14 & 19.04 & 12.55 & 3.46 & ⋯ &  0.0 & 1003.6 & 207.1 & 45.07 & 9.4 & 10.2 & 34.8 & 34.8 & 11.1 & 2\\\\\n",
       "\t3 & 41.42 & 8.01 & 60.97 & 67.48 & 14.65 & 19.36 & 53.14 & 19.04 & 12.55 & 3.46 & ⋯ &  0.0 & 1014.6 & 213.3 & 44.92 & 9.6 & 10.2 & 34.8 & 34.8 & 11.1 & 2\\\\\n",
       "\t10 & 42.04 & 7.17 & 61.23 & 70.01 & 13.36 & 18.67 & 52.83 & 17.88 & 12.62 & 2.90 & ⋯ & 10.3 &  983.1 & 209.4 & 46.24 & 9.0 &  9.5 & 35.8 & 35.8 & 11.5 & 3\\\\\n",
       "\t15 & 41.21 & 7.13 & 60.30 & 68.18 & 13.80 & 20.72 & 52.49 & 18.68 & 12.75 & 3.25 & ⋯ & 11.1 & 1073.6 & 207.1 & 45.40 & 9.6 & 10.2 & 35.4 & 35.5 & 11.1 & 1\\\\\n",
       "\\end{tabular}\n"
      ],
      "text/markdown": [
       "\n",
       "A data.frame: 5 × 21\n",
       "\n",
       "| <!--/--> | Yield &lt;dbl&gt; | Material_1 &lt;dbl&gt; | Material_2 &lt;dbl&gt; | Material_3 &lt;dbl&gt; | Material_4 &lt;dbl&gt; | Material_5 &lt;dbl&gt; | Material_6 &lt;dbl&gt; | Material_7 &lt;dbl&gt; | Material_8 &lt;dbl&gt; | Material_9 &lt;dbl&gt; | ⋯ ⋯ | Process_1 &lt;dbl&gt; | Process_2 &lt;dbl&gt; | Process_3 &lt;dbl&gt; | Process_4 &lt;dbl&gt; | Process_5 &lt;dbl&gt; | Process_6 &lt;dbl&gt; | Process_7 &lt;dbl&gt; | Process_8 &lt;dbl&gt; | Process_9 &lt;dbl&gt; | Process_10 &lt;int&gt; |\n",
       "|---|---|---|---|---|---|---|---|---|---|---|---|---|---|---|---|---|---|---|---|---|---|\n",
       "| 1 | 42.44 | 8.01 | 60.97 | 67.48 | 14.65 | 19.36 | 53.14 | 19.04 | 12.55 | 3.46 | ⋯ |  0.0 | 1032.2 | 210.0 | 46.57 | 9.6 |  9.8 | 34.0 | 34.0 | 11.2 | 3 |\n",
       "| 2 | 42.03 | 8.01 | 60.97 | 67.48 | 14.65 | 19.36 | 53.14 | 19.04 | 12.55 | 3.46 | ⋯ |  0.0 | 1003.6 | 207.1 | 45.07 | 9.4 | 10.2 | 34.8 | 34.8 | 11.1 | 2 |\n",
       "| 3 | 41.42 | 8.01 | 60.97 | 67.48 | 14.65 | 19.36 | 53.14 | 19.04 | 12.55 | 3.46 | ⋯ |  0.0 | 1014.6 | 213.3 | 44.92 | 9.6 | 10.2 | 34.8 | 34.8 | 11.1 | 2 |\n",
       "| 10 | 42.04 | 7.17 | 61.23 | 70.01 | 13.36 | 18.67 | 52.83 | 17.88 | 12.62 | 2.90 | ⋯ | 10.3 |  983.1 | 209.4 | 46.24 | 9.0 |  9.5 | 35.8 | 35.8 | 11.5 | 3 |\n",
       "| 15 | 41.21 | 7.13 | 60.30 | 68.18 | 13.80 | 20.72 | 52.49 | 18.68 | 12.75 | 3.25 | ⋯ | 11.1 | 1073.6 | 207.1 | 45.40 | 9.6 | 10.2 | 35.4 | 35.5 | 11.1 | 1 |\n",
       "\n"
      ],
      "text/plain": [
       "   Yield Material_1 Material_2 Material_3 Material_4 Material_5 Material_6\n",
       "1  42.44 8.01       60.97      67.48      14.65      19.36      53.14     \n",
       "2  42.03 8.01       60.97      67.48      14.65      19.36      53.14     \n",
       "3  41.42 8.01       60.97      67.48      14.65      19.36      53.14     \n",
       "10 42.04 7.17       61.23      70.01      13.36      18.67      52.83     \n",
       "15 41.21 7.13       60.30      68.18      13.80      20.72      52.49     \n",
       "   Material_7 Material_8 Material_9 ⋯ Process_1 Process_2 Process_3 Process_4\n",
       "1  19.04      12.55      3.46       ⋯  0.0      1032.2    210.0     46.57    \n",
       "2  19.04      12.55      3.46       ⋯  0.0      1003.6    207.1     45.07    \n",
       "3  19.04      12.55      3.46       ⋯  0.0      1014.6    213.3     44.92    \n",
       "10 17.88      12.62      2.90       ⋯ 10.3       983.1    209.4     46.24    \n",
       "15 18.68      12.75      3.25       ⋯ 11.1      1073.6    207.1     45.40    \n",
       "   Process_5 Process_6 Process_7 Process_8 Process_9 Process_10\n",
       "1  9.6        9.8      34.0      34.0      11.2      3         \n",
       "2  9.4       10.2      34.8      34.8      11.1      2         \n",
       "3  9.6       10.2      34.8      34.8      11.1      2         \n",
       "10 9.0        9.5      35.8      35.8      11.5      3         \n",
       "15 9.6       10.2      35.4      35.5      11.1      1         "
      ]
     },
     "metadata": {},
     "output_type": "display_data"
    }
   ],
   "source": [
    "head(test_data_1, 5)"
   ]
  },
  {
   "cell_type": "markdown",
   "id": "d4827424",
   "metadata": {},
   "source": [
    "### Linear Regression "
   ]
  },
  {
   "cell_type": "code",
   "execution_count": 13,
   "id": "64eb6cf3",
   "metadata": {},
   "outputs": [],
   "source": [
    "# Linear regression on 75%-25% split\n",
    "L1 <- lm(Yield ~ ., data = train_data_1)"
   ]
  },
  {
   "cell_type": "code",
   "execution_count": 14,
   "id": "06784c88",
   "metadata": {},
   "outputs": [
    {
     "data": {
      "text/plain": [
       "\n",
       "Call:\n",
       "lm(formula = Yield ~ ., data = train_data_1)\n",
       "\n",
       "Residuals:\n",
       "    Min      1Q  Median      3Q     Max \n",
       "-2.6094 -0.8524 -0.0609  0.7872  3.3593 \n",
       "\n",
       "Coefficients:\n",
       "             Estimate Std. Error t value Pr(>|t|)  \n",
       "(Intercept) 51.067934  22.574702   2.262   0.0258 *\n",
       "Material_1   0.362147   0.446685   0.811   0.4194  \n",
       "Material_2  -0.215189   0.173053  -1.243   0.2165  \n",
       "Material_3   0.057676   0.286250   0.201   0.8407  \n",
       "Material_4   0.695826   0.658938   1.056   0.2935  \n",
       "Material_5   0.025919   0.125409   0.207   0.8367  \n",
       "Material_6   0.184642   0.294187   0.628   0.5316  \n",
       "Material_7   1.092138   0.692697   1.577   0.1180  \n",
       "Material_8  -1.172314   1.703374  -0.688   0.4929  \n",
       "Material_9  -1.474653   1.704075  -0.865   0.3889  \n",
       "Material_10 -0.058449   0.089688  -0.652   0.5161  \n",
       "Process_1    0.059128   0.206779   0.286   0.7755  \n",
       "Process_2   -0.010061   0.006611  -1.522   0.1311  \n",
       "Process_3    0.116681   0.056545   2.063   0.0416 *\n",
       "Process_4    0.026545   0.213338   0.124   0.9012  \n",
       "Process_5   -0.436343   0.398770  -1.094   0.2764  \n",
       "Process_6    0.175231   0.443700   0.395   0.6937  \n",
       "Process_7   -0.510080   0.406353  -1.255   0.2123  \n",
       "Process_8   -0.316274   0.339524  -0.932   0.3538  \n",
       "Process_9    0.003903   0.038805   0.101   0.9201  \n",
       "Process_10   0.105615   0.164141   0.643   0.5214  \n",
       "---\n",
       "Signif. codes:  0 '***' 0.001 '**' 0.01 '*' 0.05 '.' 0.1 ' ' 1\n",
       "\n",
       "Residual standard error: 1.395 on 102 degrees of freedom\n",
       "Multiple R-squared:  0.5503,\tAdjusted R-squared:  0.4621 \n",
       "F-statistic:  6.24 on 20 and 102 DF,  p-value: 1.584e-10\n"
      ]
     },
     "metadata": {},
     "output_type": "display_data"
    }
   ],
   "source": [
    "# summary of the regression model fit L1\n",
    "summary(L1)"
   ]
  },
  {
   "cell_type": "code",
   "execution_count": 15,
   "id": "7a9738be",
   "metadata": {},
   "outputs": [
    {
     "data": {
      "image/png": "[encoded data removed]",
      "text/plain": [
       "Plot with title \"\""
      ]
     },
     "metadata": {
      "image/png": {
       "height": 420,
       "width": 420
      }
     },
     "output_type": "display_data"
    }
   ],
   "source": [
    "# residuals vs fitted values plot\n",
    "plot(L1, which = 1)"
   ]
  },
  {
   "cell_type": "code",
   "execution_count": 16,
   "id": "a3a5799e",
   "metadata": {},
   "outputs": [],
   "source": [
    "# Linear regression model L2 on predictor \"Process_3\"\n",
    "L2 <- lm(Yield ~ Process_3, data = train_data_1)"
   ]
  },
  {
   "cell_type": "code",
   "execution_count": 17,
   "id": "a5fe3f7f",
   "metadata": {},
   "outputs": [
    {
     "data": {
      "text/plain": [
       "\n",
       "Call:\n",
       "lm(formula = Yield ~ Process_3, data = train_data_1)\n",
       "\n",
       "Residuals:\n",
       "    Min      1Q  Median      3Q     Max \n",
       "-3.5894 -1.3011 -0.0998  1.1465  4.2764 \n",
       "\n",
       "Coefficients:\n",
       "             Estimate Std. Error t value Pr(>|t|)    \n",
       "(Intercept) -18.61475   11.92349  -1.561    0.121    \n",
       "Process_3     0.28303    0.05748   4.924 2.72e-06 ***\n",
       "---\n",
       "Signif. codes:  0 '***' 0.001 '**' 0.01 '*' 0.05 '.' 0.1 ' ' 1\n",
       "\n",
       "Residual standard error: 1.743 on 121 degrees of freedom\n",
       "Multiple R-squared:  0.1669,\tAdjusted R-squared:   0.16 \n",
       "F-statistic: 24.24 on 1 and 121 DF,  p-value: 2.718e-06\n"
      ]
     },
     "metadata": {},
     "output_type": "display_data"
    }
   ],
   "source": [
    "# summary of the regression model fit L2\n",
    "summary(L2)"
   ]
  },
  {
   "cell_type": "code",
   "execution_count": 18,
   "id": "a280795a",
   "metadata": {},
   "outputs": [],
   "source": [
    "# Predict test data using regression model L2\n",
    "test_data_1$predicted_yield <- predict(L2, newdata = test_data_1)"
   ]
  },
  {
   "cell_type": "markdown",
   "id": "53a9395f",
   "metadata": {},
   "source": [
    "### Linear Regression - Model Performance "
   ]
  },
  {
   "cell_type": "code",
   "execution_count": 19,
   "id": "71d8b1e0",
   "metadata": {},
   "outputs": [
    {
     "name": "stdout",
     "output_type": "stream",
     "text": [
      "[1] \"R Squared for the predictions made using model L2: 0.071794788862485\"\n",
      "[1] \"Root mean square error for the predictions made using model L2: 1.70978264316186\"\n",
      "[1] \"Adjusted R squared for the predictions made using model L2: 0.0485896585840472\"\n",
      "[1] \"F-Statistics for the predictions made using model L2: 24.2413792487603\"\n"
     ]
    }
   ],
   "source": [
    "# r squared for model L2\n",
    "R2_L2 <- 1 - (sum((test_data_1$Yield - test_data_1$predicted_yield)^2) / sum((test_data_1$Yield - mean(test_data_1$Yield))^2))\n",
    "\n",
    "# root mean square error for model L2\n",
    "RMSE_L2 <- sqrt(mean((test_data_1$Yield - test_data_1$predicted_yield)^2))\n",
    "\n",
    "# adjusted r squared for model L2\n",
    "adjusted_r2_L2 <- 1 - ((1 - R2_L2) * (nrow(test_data_1) - 1)) / (nrow(test_data_1) - 1 - 1)\n",
    "\n",
    "# F statistic for L2\n",
    "anova_table <- anova(L2)\n",
    "f_statistic <- anova_table$F[1]\n",
    "\n",
    "# print the metrics\n",
    "print(paste0(\"R Squared for the predictions made using model L2: \", R2_L2))\n",
    "print(paste0(\"Root mean square error for the predictions made using model L2: \", RMSE_L2))\n",
    "print(paste0(\"Adjusted R squared for the predictions made using model L2: \", adjusted_r2_L2))\n",
    "print(paste0(\"F-Statistics for the predictions made using model L2: \", f_statistic))"
   ]
  },
  {
   "cell_type": "code",
   "execution_count": 20,
   "id": "b305f7ce",
   "metadata": {},
   "outputs": [
    {
     "data": {
      "image/png": "[encoded data removed]",
      "text/plain": [
       "plot without title"
      ]
     },
     "metadata": {
      "image/png": {
       "height": 420,
       "width": 420
      }
     },
     "output_type": "display_data"
    }
   ],
   "source": [
    "# Plot of actual vs predicted yield using L2\n",
    "plot(test_data_1$Yield, test_data_1$predicted_yield, xlab = \"Actual Yield\", ylab = \"Predicted Yield\")\n",
    "abline(0, 1, col = \"red\")"
   ]
  },
  {
   "cell_type": "code",
   "execution_count": 22,
   "id": "ded62cb5",
   "metadata": {},
   "outputs": [],
   "source": [
    "# Split data into train and test sets\n",
    "set.seed(123)\n",
    "train_index_2 <- sample(nrow(bio_prod_data), nrow(bio_prod_data)*0.8)\n",
    "train_data_2 <- bio_prod_data[train_index_2, ]\n",
    "test_data_2 <- bio_prod_data[-train_index_2, ]"
   ]
  },
  {
   "cell_type": "markdown",
   "id": "7d1a93c8",
   "metadata": {},
   "source": [
    "### Subset Selection Method "
   ]
  },
  {
   "cell_type": "code",
   "execution_count": 23,
   "id": "15e32fe8",
   "metadata": {},
   "outputs": [],
   "source": [
    "# Perform best subset .selection on the training data\n",
    "best_subset_model <- regsubsets(Yield ~ ., data = train_data_2, nvmax = 12)\n",
    "summ_best_subset_model = summary(best_subset_model)"
   ]
  },
  {
   "cell_type": "code",
   "execution_count": 24,
   "id": "7d4bea18",
   "metadata": {},
   "outputs": [
    {
     "data": {
      "text/plain": [
       "Subset selection object\n",
       "Call: regsubsets.formula(Yield ~ ., data = train_data_2, nvmax = 12)\n",
       "20 Variables  (and intercept)\n",
       "            Forced in Forced out\n",
       "Material_1      FALSE      FALSE\n",
       "Material_2      FALSE      FALSE\n",
       "Material_3      FALSE      FALSE\n",
       "Material_4      FALSE      FALSE\n",
       "Material_5      FALSE      FALSE\n",
       "Material_6      FALSE      FALSE\n",
       "Material_7      FALSE      FALSE\n",
       "Material_8      FALSE      FALSE\n",
       "Material_9      FALSE      FALSE\n",
       "Material_10     FALSE      FALSE\n",
       "Process_1       FALSE      FALSE\n",
       "Process_2       FALSE      FALSE\n",
       "Process_3       FALSE      FALSE\n",
       "Process_4       FALSE      FALSE\n",
       "Process_5       FALSE      FALSE\n",
       "Process_6       FALSE      FALSE\n",
       "Process_7       FALSE      FALSE\n",
       "Process_8       FALSE      FALSE\n",
       "Process_9       FALSE      FALSE\n",
       "Process_10      FALSE      FALSE\n",
       "1 subsets of each size up to 12\n",
       "Selection Algorithm: exhaustive\n",
       "          Material_1 Material_2 Material_3 Material_4 Material_5 Material_6\n",
       "1  ( 1 )  \" \"        \" \"        \" \"        \" \"        \" \"        \" \"       \n",
       "2  ( 1 )  \" \"        \" \"        \" \"        \" \"        \" \"        \"*\"       \n",
       "3  ( 1 )  \" \"        \" \"        \" \"        \" \"        \" \"        \"*\"       \n",
       "4  ( 1 )  \" \"        \" \"        \" \"        \"*\"        \" \"        \" \"       \n",
       "5  ( 1 )  \"*\"        \" \"        \" \"        \"*\"        \" \"        \" \"       \n",
       "6  ( 1 )  \"*\"        \" \"        \" \"        \"*\"        \" \"        \" \"       \n",
       "7  ( 1 )  \" \"        \" \"        \" \"        \"*\"        \" \"        \" \"       \n",
       "8  ( 1 )  \"*\"        \" \"        \" \"        \"*\"        \" \"        \" \"       \n",
       "9  ( 1 )  \"*\"        \" \"        \" \"        \"*\"        \" \"        \" \"       \n",
       "10  ( 1 ) \"*\"        \" \"        \" \"        \"*\"        \" \"        \" \"       \n",
       "11  ( 1 ) \" \"        \"*\"        \"*\"        \"*\"        \" \"        \" \"       \n",
       "12  ( 1 ) \" \"        \"*\"        \" \"        \"*\"        \" \"        \"*\"       \n",
       "          Material_7 Material_8 Material_9 Material_10 Process_1 Process_2\n",
       "1  ( 1 )  \" \"        \" \"        \" \"        \" \"         \" \"       \" \"      \n",
       "2  ( 1 )  \" \"        \" \"        \" \"        \" \"         \" \"       \" \"      \n",
       "3  ( 1 )  \" \"        \" \"        \" \"        \" \"         \" \"       \" \"      \n",
       "4  ( 1 )  \" \"        \" \"        \"*\"        \" \"         \" \"       \" \"      \n",
       "5  ( 1 )  \" \"        \" \"        \"*\"        \" \"         \" \"       \" \"      \n",
       "6  ( 1 )  \" \"        \"*\"        \"*\"        \" \"         \" \"       \" \"      \n",
       "7  ( 1 )  \"*\"        \"*\"        \"*\"        \" \"         \" \"       \"*\"      \n",
       "8  ( 1 )  \"*\"        \"*\"        \"*\"        \" \"         \" \"       \"*\"      \n",
       "9  ( 1 )  \"*\"        \"*\"        \"*\"        \" \"         \" \"       \"*\"      \n",
       "10  ( 1 ) \"*\"        \"*\"        \"*\"        \" \"         \" \"       \"*\"      \n",
       "11  ( 1 ) \"*\"        \"*\"        \" \"        \" \"         \" \"       \"*\"      \n",
       "12  ( 1 ) \"*\"        \"*\"        \"*\"        \"*\"         \" \"       \"*\"      \n",
       "          Process_3 Process_4 Process_5 Process_6 Process_7 Process_8 Process_9\n",
       "1  ( 1 )  \" \"       \" \"       \" \"       \" \"       \"*\"       \" \"       \" \"      \n",
       "2  ( 1 )  \" \"       \" \"       \" \"       \" \"       \"*\"       \" \"       \" \"      \n",
       "3  ( 1 )  \"*\"       \" \"       \" \"       \" \"       \"*\"       \" \"       \" \"      \n",
       "4  ( 1 )  \"*\"       \" \"       \" \"       \" \"       \" \"       \"*\"       \" \"      \n",
       "5  ( 1 )  \"*\"       \" \"       \" \"       \" \"       \" \"       \"*\"       \" \"      \n",
       "6  ( 1 )  \"*\"       \" \"       \" \"       \" \"       \" \"       \"*\"       \" \"      \n",
       "7  ( 1 )  \"*\"       \" \"       \" \"       \" \"       \" \"       \"*\"       \" \"      \n",
       "8  ( 1 )  \"*\"       \" \"       \" \"       \" \"       \" \"       \"*\"       \" \"      \n",
       "9  ( 1 )  \"*\"       \" \"       \" \"       \" \"       \"*\"       \"*\"       \" \"      \n",
       "10  ( 1 ) \"*\"       \" \"       \"*\"       \" \"       \"*\"       \"*\"       \" \"      \n",
       "11  ( 1 ) \"*\"       \"*\"       \"*\"       \" \"       \"*\"       \"*\"       \" \"      \n",
       "12  ( 1 ) \"*\"       \" \"       \"*\"       \" \"       \"*\"       \"*\"       \" \"      \n",
       "          Process_10\n",
       "1  ( 1 )  \" \"       \n",
       "2  ( 1 )  \" \"       \n",
       "3  ( 1 )  \" \"       \n",
       "4  ( 1 )  \" \"       \n",
       "5  ( 1 )  \" \"       \n",
       "6  ( 1 )  \" \"       \n",
       "7  ( 1 )  \" \"       \n",
       "8  ( 1 )  \" \"       \n",
       "9  ( 1 )  \" \"       \n",
       "10  ( 1 ) \" \"       \n",
       "11  ( 1 ) \" \"       \n",
       "12  ( 1 ) \" \"       "
      ]
     },
     "metadata": {},
     "output_type": "display_data"
    }
   ],
   "source": [
    "# Get summary information for the models\n",
    "summary(best_subset_model)"
   ]
  },
  {
   "cell_type": "code",
   "execution_count": 25,
   "id": "743082dc",
   "metadata": {},
   "outputs": [
    {
     "data": {
      "image/png": "[encoded data removed]",
      "text/plain": [
       "plot without title"
      ]
     },
     "metadata": {
      "image/png": {
       "height": 420,
       "width": 420
      }
     },
     "output_type": "display_data"
    }
   ],
   "source": [
    "# BIC Plot, R2, and adjusted R2 for each model\n",
    "par(mfrow = c(1, 3))\n",
    "plot(best_subset_model, scale = \"bic\")\n",
    "min_bic <- which.min(summary(best_subset_model)$bic)\n",
    "abline(v = min_bic, lty = 2)"
   ]
  },
  {
   "cell_type": "code",
   "execution_count": 26,
   "id": "b6f1aeb5",
   "metadata": {},
   "outputs": [
    {
     "data": {
      "image/png": "[encoded data removed]",
      "text/plain": [
       "plot without title"
      ]
     },
     "metadata": {
      "image/png": {
       "height": 420,
       "width": 420
      }
     },
     "output_type": "display_data"
    }
   ],
   "source": [
    "# R2 Plot\n",
    "plot(best_subset_model, scale = \"r2\")\n",
    "max_r2 <- which.max(summary(best_subset_model)$rsq)\n",
    "abline(v = max_r2, lty = 2)"
   ]
  },
  {
   "cell_type": "code",
   "execution_count": 27,
   "id": "56e72777",
   "metadata": {},
   "outputs": [
    {
     "data": {
      "image/png": "[encoded data removed]",
      "text/plain": [
       "plot without title"
      ]
     },
     "metadata": {
      "image/png": {
       "height": 420,
       "width": 420
      }
     },
     "output_type": "display_data"
    }
   ],
   "source": [
    "# Adjusted R2 plot\n",
    "plot(best_subset_model, scale = \"adjr2\")\n",
    "max_adjr2 <- which.max(summary(best_subset_model)$adjr2)\n",
    "abline(v = max_adjr2, lty = 2)"
   ]
  },
  {
   "cell_type": "code",
   "execution_count": 28,
   "id": "74e97f43",
   "metadata": {},
   "outputs": [
    {
     "name": "stdout",
     "output_type": "stream",
     "text": [
      "[1] \"Minimum BIC = 4\"\n",
      "[1] \"Maximum R2 = 12\"\n",
      "[1] \"Maximum Adjusted R2 = 8\"\n"
     ]
    }
   ],
   "source": [
    "print(paste0(\"Minimum BIC = \", min_bic))\n",
    "print(paste0(\"Maximum R2 = \", max_r2))\n",
    "print(paste0(\"Maximum Adjusted R2 = \", max_adjr2))"
   ]
  },
  {
   "cell_type": "code",
   "execution_count": 29,
   "id": "0288ce58",
   "metadata": {},
   "outputs": [
    {
     "data": {
      "text/html": [
       "-65.3043169781557"
      ],
      "text/latex": [
       "-65.3043169781557"
      ],
      "text/markdown": [
       "-65.3043169781557"
      ],
      "text/plain": [
       "[1] -65.30432"
      ]
     },
     "metadata": {},
     "output_type": "display_data"
    },
    {
     "data": {
      "text/html": [
       "0.546934729411267"
      ],
      "text/latex": [
       "0.546934729411267"
      ],
      "text/markdown": [
       "0.546934729411267"
      ],
      "text/plain": [
       "[1] 0.5469347"
      ]
     },
     "metadata": {},
     "output_type": "display_data"
    },
    {
     "data": {
      "text/html": [
       "0.504559469071988"
      ],
      "text/latex": [
       "0.504559469071988"
      ],
      "text/markdown": [
       "0.504559469071988"
      ],
      "text/plain": [
       "[1] 0.5045595"
      ]
     },
     "metadata": {},
     "output_type": "display_data"
    }
   ],
   "source": [
    "# best subset model based on BIC, R2, and adjusted R2\n",
    "summ_best_subset_model$bic[min_bic]\n",
    "summ_best_subset_model$rsq[max_r2]\n",
    "summ_best_subset_model$adjr2[max_adjr2]"
   ]
  },
  {
   "cell_type": "markdown",
   "id": "1519f75d",
   "metadata": {},
   "source": [
    "### Linear Regression with Subset Selection Method "
   ]
  },
  {
   "cell_type": "code",
   "execution_count": 30,
   "id": "e82ac08d",
   "metadata": {},
   "outputs": [
    {
     "data": {
      "text/html": [
       "<table class=\"dataframe\">\n",
       "<caption>A matrix: 21 × 4 of type dbl</caption>\n",
       "<thead>\n",
       "\t<tr><th></th><th scope=col>Estimate</th><th scope=col>Std. Error</th><th scope=col>t value</th><th scope=col>Pr(&gt;|t|)</th></tr>\n",
       "</thead>\n",
       "<tbody>\n",
       "\t<tr><th scope=row>(Intercept)</th><td>42.357988765</td><td>20.186443915</td><td> 2.09833832</td><td>0.03814385</td></tr>\n",
       "\t<tr><th scope=row>Material_1</th><td> 0.238131574</td><td> 0.428167506</td><td> 0.55616452</td><td>0.57921782</td></tr>\n",
       "\t<tr><th scope=row>Material_2</th><td>-0.206862624</td><td> 0.165611308</td><td>-1.24908514</td><td>0.21426166</td></tr>\n",
       "\t<tr><th scope=row>Material_3</th><td>-0.010193057</td><td> 0.267740041</td><td>-0.03807072</td><td>0.96969968</td></tr>\n",
       "\t<tr><th scope=row>Material_4</th><td> 0.788417030</td><td> 0.620213781</td><td> 1.27120205</td><td>0.20631419</td></tr>\n",
       "\t<tr><th scope=row>Material_5</th><td> 0.042207399</td><td> 0.121892351</td><td> 0.34626782</td><td>0.72979694</td></tr>\n",
       "\t<tr><th scope=row>Material_6</th><td> 0.230820523</td><td> 0.273688425</td><td> 0.84336969</td><td>0.40083548</td></tr>\n",
       "\t<tr><th scope=row>Material_7</th><td> 1.059728611</td><td> 0.650515098</td><td> 1.62906075</td><td>0.10613503</td></tr>\n",
       "\t<tr><th scope=row>Material_8</th><td>-0.804785467</td><td> 1.599974073</td><td>-0.50299907</td><td>0.61596154</td></tr>\n",
       "\t<tr><th scope=row>Material_9</th><td>-1.665031628</td><td> 1.608680726</td><td>-1.03502926</td><td>0.30290493</td></tr>\n",
       "\t<tr><th scope=row>Material_10</th><td>-0.072821226</td><td> 0.085428713</td><td>-0.85242096</td><td>0.39581599</td></tr>\n",
       "\t<tr><th scope=row>Process_1</th><td> 0.062938147</td><td> 0.113965495</td><td> 0.55225617</td><td>0.58188315</td></tr>\n",
       "\t<tr><th scope=row>Process_2</th><td>-0.008958294</td><td> 0.006142229</td><td>-1.45847600</td><td>0.14753321</td></tr>\n",
       "\t<tr><th scope=row>Process_3</th><td> 0.135977743</td><td> 0.053894256</td><td> 2.52304704</td><td>0.01305064</td></tr>\n",
       "\t<tr><th scope=row>Process_4</th><td> 0.081900598</td><td> 0.188693150</td><td> 0.43404118</td><td>0.66510102</td></tr>\n",
       "\t<tr><th scope=row>Process_5</th><td>-0.305125019</td><td> 0.355166728</td><td>-0.85910361</td><td>0.39213486</td></tr>\n",
       "\t<tr><th scope=row>Process_6</th><td>-0.075287287</td><td> 0.394985541</td><td>-0.19060770</td><td>0.84918113</td></tr>\n",
       "\t<tr><th scope=row>Process_7</th><td>-0.398791060</td><td> 0.391377892</td><td>-1.01894120</td><td>0.31044662</td></tr>\n",
       "\t<tr><th scope=row>Process_8</th><td>-0.373129856</td><td> 0.310969919</td><td>-1.19989051</td><td>0.23273663</td></tr>\n",
       "\t<tr><th scope=row>Process_9</th><td> 0.006196390</td><td> 0.033149357</td><td> 0.18692337</td><td>0.85206194</td></tr>\n",
       "\t<tr><th scope=row>Process_10</th><td> 0.101322437</td><td> 0.157712233</td><td> 0.64245135</td><td>0.52190491</td></tr>\n",
       "</tbody>\n",
       "</table>\n"
      ],
      "text/latex": [
       "A matrix: 21 × 4 of type dbl\n",
       "\\begin{tabular}{r|llll}\n",
       "  & Estimate & Std. Error & t value & Pr(>\\textbar{}t\\textbar{})\\\\\n",
       "\\hline\n",
       "\t(Intercept) & 42.357988765 & 20.186443915 &  2.09833832 & 0.03814385\\\\\n",
       "\tMaterial\\_1 &  0.238131574 &  0.428167506 &  0.55616452 & 0.57921782\\\\\n",
       "\tMaterial\\_2 & -0.206862624 &  0.165611308 & -1.24908514 & 0.21426166\\\\\n",
       "\tMaterial\\_3 & -0.010193057 &  0.267740041 & -0.03807072 & 0.96969968\\\\\n",
       "\tMaterial\\_4 &  0.788417030 &  0.620213781 &  1.27120205 & 0.20631419\\\\\n",
       "\tMaterial\\_5 &  0.042207399 &  0.121892351 &  0.34626782 & 0.72979694\\\\\n",
       "\tMaterial\\_6 &  0.230820523 &  0.273688425 &  0.84336969 & 0.40083548\\\\\n",
       "\tMaterial\\_7 &  1.059728611 &  0.650515098 &  1.62906075 & 0.10613503\\\\\n",
       "\tMaterial\\_8 & -0.804785467 &  1.599974073 & -0.50299907 & 0.61596154\\\\\n",
       "\tMaterial\\_9 & -1.665031628 &  1.608680726 & -1.03502926 & 0.30290493\\\\\n",
       "\tMaterial\\_10 & -0.072821226 &  0.085428713 & -0.85242096 & 0.39581599\\\\\n",
       "\tProcess\\_1 &  0.062938147 &  0.113965495 &  0.55225617 & 0.58188315\\\\\n",
       "\tProcess\\_2 & -0.008958294 &  0.006142229 & -1.45847600 & 0.14753321\\\\\n",
       "\tProcess\\_3 &  0.135977743 &  0.053894256 &  2.52304704 & 0.01305064\\\\\n",
       "\tProcess\\_4 &  0.081900598 &  0.188693150 &  0.43404118 & 0.66510102\\\\\n",
       "\tProcess\\_5 & -0.305125019 &  0.355166728 & -0.85910361 & 0.39213486\\\\\n",
       "\tProcess\\_6 & -0.075287287 &  0.394985541 & -0.19060770 & 0.84918113\\\\\n",
       "\tProcess\\_7 & -0.398791060 &  0.391377892 & -1.01894120 & 0.31044662\\\\\n",
       "\tProcess\\_8 & -0.373129856 &  0.310969919 & -1.19989051 & 0.23273663\\\\\n",
       "\tProcess\\_9 &  0.006196390 &  0.033149357 &  0.18692337 & 0.85206194\\\\\n",
       "\tProcess\\_10 &  0.101322437 &  0.157712233 &  0.64245135 & 0.52190491\\\\\n",
       "\\end{tabular}\n"
      ],
      "text/markdown": [
       "\n",
       "A matrix: 21 × 4 of type dbl\n",
       "\n",
       "| <!--/--> | Estimate | Std. Error | t value | Pr(&gt;|t|) |\n",
       "|---|---|---|---|---|\n",
       "| (Intercept) | 42.357988765 | 20.186443915 |  2.09833832 | 0.03814385 |\n",
       "| Material_1 |  0.238131574 |  0.428167506 |  0.55616452 | 0.57921782 |\n",
       "| Material_2 | -0.206862624 |  0.165611308 | -1.24908514 | 0.21426166 |\n",
       "| Material_3 | -0.010193057 |  0.267740041 | -0.03807072 | 0.96969968 |\n",
       "| Material_4 |  0.788417030 |  0.620213781 |  1.27120205 | 0.20631419 |\n",
       "| Material_5 |  0.042207399 |  0.121892351 |  0.34626782 | 0.72979694 |\n",
       "| Material_6 |  0.230820523 |  0.273688425 |  0.84336969 | 0.40083548 |\n",
       "| Material_7 |  1.059728611 |  0.650515098 |  1.62906075 | 0.10613503 |\n",
       "| Material_8 | -0.804785467 |  1.599974073 | -0.50299907 | 0.61596154 |\n",
       "| Material_9 | -1.665031628 |  1.608680726 | -1.03502926 | 0.30290493 |\n",
       "| Material_10 | -0.072821226 |  0.085428713 | -0.85242096 | 0.39581599 |\n",
       "| Process_1 |  0.062938147 |  0.113965495 |  0.55225617 | 0.58188315 |\n",
       "| Process_2 | -0.008958294 |  0.006142229 | -1.45847600 | 0.14753321 |\n",
       "| Process_3 |  0.135977743 |  0.053894256 |  2.52304704 | 0.01305064 |\n",
       "| Process_4 |  0.081900598 |  0.188693150 |  0.43404118 | 0.66510102 |\n",
       "| Process_5 | -0.305125019 |  0.355166728 | -0.85910361 | 0.39213486 |\n",
       "| Process_6 | -0.075287287 |  0.394985541 | -0.19060770 | 0.84918113 |\n",
       "| Process_7 | -0.398791060 |  0.391377892 | -1.01894120 | 0.31044662 |\n",
       "| Process_8 | -0.373129856 |  0.310969919 | -1.19989051 | 0.23273663 |\n",
       "| Process_9 |  0.006196390 |  0.033149357 |  0.18692337 | 0.85206194 |\n",
       "| Process_10 |  0.101322437 |  0.157712233 |  0.64245135 | 0.52190491 |\n",
       "\n"
      ],
      "text/plain": [
       "            Estimate     Std. Error   t value     Pr(>|t|)  \n",
       "(Intercept) 42.357988765 20.186443915  2.09833832 0.03814385\n",
       "Material_1   0.238131574  0.428167506  0.55616452 0.57921782\n",
       "Material_2  -0.206862624  0.165611308 -1.24908514 0.21426166\n",
       "Material_3  -0.010193057  0.267740041 -0.03807072 0.96969968\n",
       "Material_4   0.788417030  0.620213781  1.27120205 0.20631419\n",
       "Material_5   0.042207399  0.121892351  0.34626782 0.72979694\n",
       "Material_6   0.230820523  0.273688425  0.84336969 0.40083548\n",
       "Material_7   1.059728611  0.650515098  1.62906075 0.10613503\n",
       "Material_8  -0.804785467  1.599974073 -0.50299907 0.61596154\n",
       "Material_9  -1.665031628  1.608680726 -1.03502926 0.30290493\n",
       "Material_10 -0.072821226  0.085428713 -0.85242096 0.39581599\n",
       "Process_1    0.062938147  0.113965495  0.55225617 0.58188315\n",
       "Process_2   -0.008958294  0.006142229 -1.45847600 0.14753321\n",
       "Process_3    0.135977743  0.053894256  2.52304704 0.01305064\n",
       "Process_4    0.081900598  0.188693150  0.43404118 0.66510102\n",
       "Process_5   -0.305125019  0.355166728 -0.85910361 0.39213486\n",
       "Process_6   -0.075287287  0.394985541 -0.19060770 0.84918113\n",
       "Process_7   -0.398791060  0.391377892 -1.01894120 0.31044662\n",
       "Process_8   -0.373129856  0.310969919 -1.19989051 0.23273663\n",
       "Process_9    0.006196390  0.033149357  0.18692337 0.85206194\n",
       "Process_10   0.101322437  0.157712233  0.64245135 0.52190491"
      ]
     },
     "metadata": {},
     "output_type": "display_data"
    }
   ],
   "source": [
    "# coefficients for the best model based on BIC\n",
    "LM_equation=Yield~Material_1+Material_2+Material_3+Material_4+Material_5+Material_6+Material_7+\n",
    "  Material_8+Material_9+Material_10+Process_1+Process_2+Process_3+Process_4+Process_5+Process_6+\n",
    "  Process_7+Process_8+Process_9+Process_10\n",
    "best_model<-lm(LM_equation, data=train_data_2[, c(\"Yield\",names(train_data_2)[summ_best_subset_model$which[min_bic]])])\n",
    "best_coeff=coef(summary(best_model))\n",
    "best_coeff"
   ]
  },
  {
   "cell_type": "code",
   "execution_count": 31,
   "id": "3381b02b",
   "metadata": {},
   "outputs": [
    {
     "data": {
      "text/html": [
       "0.460378787878761"
      ],
      "text/latex": [
       "0.460378787878761"
      ],
      "text/markdown": [
       "0.460378787878761"
      ],
      "text/plain": [
       "[1] 0.4603788"
      ]
     },
     "metadata": {},
     "output_type": "display_data"
    }
   ],
   "source": [
    "# predicting with best model\n",
    "test_predictions=predict(best_model, data=test_data_2)\n",
    "rmse=sqrt((mean(test_predictions-test_data_2$Yield)^2))\n",
    "rmse"
   ]
  },
  {
   "cell_type": "markdown",
   "id": "20aa4ba1",
   "metadata": {},
   "source": [
    "### Ridge Regression "
   ]
  },
  {
   "cell_type": "code",
   "execution_count": 33,
   "id": "d38d1836",
   "metadata": {},
   "outputs": [],
   "source": [
    "# random seed for reproducible\n",
    "set.seed(123)\n",
    "\n",
    "# train and test split (80% and 20%)\n",
    "train_index_3 <- sample(nrow(bio_prod_data), nrow(bio_prod_data)*0.8)\n",
    "train_data_3 <- bio_prod_data[train_index_3, ]\n",
    "test_data_3 <- bio_prod_data[-train_index_3, ]"
   ]
  },
  {
   "cell_type": "code",
   "execution_count": 34,
   "id": "e83dd02a",
   "metadata": {},
   "outputs": [
    {
     "name": "stdout",
     "output_type": "stream",
     "text": [
      "[1] \"Best Lambda Value for Ridge Regression = 0.62854797688942\"\n"
     ]
    }
   ],
   "source": [
    "# best lambda using cross validation for Ridge regression\n",
    "cv_ridge <- cv.glmnet(x = as.matrix(train_data_3[, -1]), y = train_data_3$Yield, \n",
    "                      alpha = 0, nfolds = 10)\n",
    "best_lambda_ridge <- cv_ridge$lambda.min\n",
    "print(paste0(\"Best Lambda Value for Ridge Regression = \", best_lambda_ridge))"
   ]
  },
  {
   "cell_type": "code",
   "execution_count": 35,
   "id": "0d7d82ee",
   "metadata": {},
   "outputs": [],
   "source": [
    "# fit ridge regression with the choose best lambda\n",
    "ridge_model <- glmnet(x = as.matrix(train_data_3[, -1]), y = train_data_3$Yield, \n",
    "                      alpha = 0, lambda = best_lambda_ridge)"
   ]
  },
  {
   "cell_type": "code",
   "execution_count": 36,
   "id": "41bf3a19",
   "metadata": {},
   "outputs": [],
   "source": [
    "# predict using ridge regression model\n",
    "ridge_preds <- predict(ridge_model, newx = as.matrix(test_data_3[, -1]))"
   ]
  },
  {
   "cell_type": "code",
   "execution_count": 37,
   "id": "b38c187d",
   "metadata": {},
   "outputs": [
    {
     "name": "stdout",
     "output_type": "stream",
     "text": [
      "[1] \"RMSE value : 1.18456500677513\"\n",
      "[1] \"R-Squared : 0.634004183592839\"\n",
      "[1] \"Non-Zero : 20\"\n"
     ]
    }
   ],
   "source": [
    "# evaluate the model\n",
    "ridge_r2 <- cor(test_data_3$Yield, ridge_preds)^2\n",
    "ridge_rmse <- sqrt(mean((test_data_3$Yield - ridge_preds)^2))\n",
    "ridge_nonzero <- sum(ridge_model$beta != 0)\n",
    "\n",
    "print(paste0(\"RMSE value : \", ridge_rmse))\n",
    "print(paste0(\"R-Squared : \", ridge_r2))\n",
    "print(paste0(\"Non-Zero : \", ridge_nonzero))"
   ]
  },
  {
   "cell_type": "markdown",
   "id": "10b7c2b2",
   "metadata": {},
   "source": [
    "### Lasso Regression "
   ]
  },
  {
   "cell_type": "code",
   "execution_count": 38,
   "id": "715ba5cf",
   "metadata": {},
   "outputs": [
    {
     "name": "stdout",
     "output_type": "stream",
     "text": [
      "[1] \"Best Lambda Value for Lasso Regression = 0.0955337036241874\"\n"
     ]
    }
   ],
   "source": [
    "# best lambda using cross validation for Lasso regression\n",
    "cv_lasso <- cv.glmnet(x = as.matrix(train_data_3[, -1]), y = train_data_3$Yield, \n",
    "                      alpha = 1, nfolds = 10)\n",
    "best_lambda_lasso <- cv_lasso$lambda.min\n",
    "print(paste0(\"Best Lambda Value for Lasso Regression = \", best_lambda_lasso))"
   ]
  },
  {
   "cell_type": "code",
   "execution_count": 39,
   "id": "3f4ed9c4",
   "metadata": {},
   "outputs": [],
   "source": [
    "# fit ridge regression with the choose best lambda\n",
    "lasso_model <- glmnet(x = as.matrix(train_data_3[, -1]), y = train_data_3$Yield, alpha = 1, \n",
    "                      lambda = best_lambda_lasso)\n",
    "# predict using ridge regression model\n",
    "lasso_preds <- predict(lasso_model, newx = as.matrix(test_data_3[, -1]))"
   ]
  },
  {
   "cell_type": "code",
   "execution_count": 40,
   "id": "02994e92",
   "metadata": {},
   "outputs": [
    {
     "name": "stdout",
     "output_type": "stream",
     "text": [
      "[1] \"RMSE value : 1.1795841075145\"\n",
      "[1] \"R-Squared : 0.64326882282783\"\n",
      "[1] \"Non-Zero : 9\"\n"
     ]
    }
   ],
   "source": [
    "# evaluate the model\n",
    "lasso_r2 <- cor(test_data_3$Yield, lasso_preds)^2\n",
    "lasso_rmse <- sqrt(mean((test_data_3$Yield - lasso_preds)^2))\n",
    "lasso_nonzero <- sum(lasso_model$beta != 0)\n",
    "\n",
    "print(paste0(\"RMSE value : \", lasso_rmse))\n",
    "print(paste0(\"R-Squared : \", lasso_r2))\n",
    "print(paste0(\"Non-Zero : \", lasso_nonzero))"
   ]
  },
  {
   "cell_type": "code",
   "execution_count": null,
   "id": "7be83265",
   "metadata": {},
   "outputs": [],
   "source": []
  }
 ],
 "metadata": {
  "kernelspec": {
   "display_name": "R",
   "language": "R",
   "name": "ir"
  },
  "language_info": {
   "codemirror_mode": "r",
   "file_extension": ".r",
   "mimetype": "text/x-r-source",
   "name": "R",
   "pygments_lexer": "r",
   "version": "4.3.1"
  }
 },
 "nbformat": 4,
 "nbformat_minor": 5
}

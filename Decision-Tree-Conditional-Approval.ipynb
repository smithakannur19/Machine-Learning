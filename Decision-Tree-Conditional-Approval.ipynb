{
 "cells": [
  {
   "cell_type": "markdown",
   "id": "8cc26706",
   "metadata": {},
   "source": [
    "**Business licenses dataset issued by the Department of Business Affairs and Consumer Protection in the City of Chicago from \n",
    "2002 to the present**"
   ]
  },
  {
   "cell_type": "markdown",
   "id": "438771f6",
   "metadata": {},
   "source": [
    "**Building a decision tree classifier that would yield a decision for conditional approval of a new person**"
   ]
  },
  {
   "cell_type": "markdown",
   "id": "b3b22c06",
   "metadata": {},
   "source": [
    "Dataset - https://data.cityofchicago.org/Community-Economic-Development/Business-Licenses/r5kz-chrr/data"
   ]
  },
  {
   "cell_type": "markdown",
   "id": "24f8c603",
   "metadata": {},
   "source": [
    "### Installing Libraries"
   ]
  },
  {
   "cell_type": "code",
   "execution_count": 1,
   "id": "84f2f0d7",
   "metadata": {},
   "outputs": [],
   "source": [
    "# # tool for plotting\n",
    "# install.packages(\"ggplot2\")\n",
    "# # tool to fit decision trees\n",
    "# install.packages(\"rpart\")\n",
    "# # to plot trees\n",
    "# install.packages(\"rpart.plot\")\n",
    "# # data summarization\n",
    "# install.packages(\"psych\")\n",
    "# install.packages(\"writexl\")\n",
    "# install.packages(\"dplyr\")\n",
    "# install.packages(\"rsample\")\n",
    "# install.packages(\"caret\")\n",
    "# install.packages(\"ROSE\")\n",
    "# install.packages(\"pROC\")"
   ]
  },
  {
   "cell_type": "markdown",
   "id": "9ecc7141",
   "metadata": {},
   "source": [
    "### Load Libraries"
   ]
  },
  {
   "cell_type": "code",
   "execution_count": 39,
   "id": "aba021e2",
   "metadata": {},
   "outputs": [
    {
     "name": "stderr",
     "output_type": "stream",
     "text": [
      "\n",
      "Attaching package: 'zoo'\n",
      "\n",
      "\n",
      "The following objects are masked from 'package:base':\n",
      "\n",
      "    as.Date, as.Date.numeric\n",
      "\n",
      "\n"
     ]
    }
   ],
   "source": [
    "library(\"psych\")\n",
    "library(\"ggplot2\")\n",
    "library(\"writexl\")\n",
    "library(\"dplyr\")\n",
    "library(\"caret\")\n",
    "library(\"ROSE\")\n",
    "library(rpart)\n",
    "library(pROC)\n",
    "library(rpart.plot)\n",
    "library(zoo)"
   ]
  },
  {
   "cell_type": "markdown",
   "id": "8269a581",
   "metadata": {},
   "source": [
    "### Load the Dataset"
   ]
  },
  {
   "cell_type": "code",
   "execution_count": 3,
   "id": "9d2a2ae4",
   "metadata": {},
   "outputs": [],
   "source": [
    "# load the dataset path and filename\n",
    "path <- \"./\"\n",
    "filename <- \"Business_Licenses.csv\""
   ]
  },
  {
   "cell_type": "code",
   "execution_count": 4,
   "id": "6ec015f6",
   "metadata": {},
   "outputs": [],
   "source": [
    "# setting to current working directory\n",
    "setwd(path)"
   ]
  },
  {
   "cell_type": "code",
   "execution_count": 6,
   "id": "aff3eaff",
   "metadata": {},
   "outputs": [
    {
     "data": {
      "text/html": [
       "<table class=\"dataframe\">\n",
       "<caption>A data.frame: 5 × 39</caption>\n",
       "<thead>\n",
       "\t<tr><th></th><th scope=col>ID</th><th scope=col>LICENSE.ID</th><th scope=col>ACCOUNT.NUMBER</th><th scope=col>SITE.NUMBER</th><th scope=col>LEGAL.NAME</th><th scope=col>DOING.BUSINESS.AS.NAME</th><th scope=col>ADDRESS</th><th scope=col>CITY</th><th scope=col>STATE</th><th scope=col>ZIP.CODE</th><th scope=col>⋯</th><th scope=col>LICENSE.STATUS.CHANGE.DATE</th><th scope=col>SSA</th><th scope=col>LATITUDE</th><th scope=col>LONGITUDE</th><th scope=col>LOCATION</th><th scope=col>Community.Areas</th><th scope=col>Historical.Wards.2003.2015</th><th scope=col>Zip.Codes</th><th scope=col>Census.Tracts</th><th scope=col>Wards</th></tr>\n",
       "\t<tr><th></th><th scope=col>&lt;chr&gt;</th><th scope=col>&lt;int&gt;</th><th scope=col>&lt;int&gt;</th><th scope=col>&lt;int&gt;</th><th scope=col>&lt;chr&gt;</th><th scope=col>&lt;chr&gt;</th><th scope=col>&lt;chr&gt;</th><th scope=col>&lt;chr&gt;</th><th scope=col>&lt;chr&gt;</th><th scope=col>&lt;chr&gt;</th><th scope=col>⋯</th><th scope=col>&lt;chr&gt;</th><th scope=col>&lt;int&gt;</th><th scope=col>&lt;dbl&gt;</th><th scope=col>&lt;dbl&gt;</th><th scope=col>&lt;chr&gt;</th><th scope=col>&lt;int&gt;</th><th scope=col>&lt;int&gt;</th><th scope=col>&lt;int&gt;</th><th scope=col>&lt;int&gt;</th><th scope=col>&lt;int&gt;</th></tr>\n",
       "</thead>\n",
       "<tbody>\n",
       "\t<tr><th scope=row>1</th><td>16570-20000216  </td><td>  76522</td><td>51755</td><td> 1</td><td>THORNDALE CONSTRUCTION               </td><td>THORNDALE CONSTRUCTION           </td><td>11243  CHESAPEAKE PLAC   1ST                </td><td>WESTCHESTER</td><td>IL</td><td>60154</td><td>⋯</td><td></td><td>NA</td><td>NA</td><td>NA</td><td></td><td>NA</td><td>NA</td><td>NA</td><td>NA</td><td>NA</td></tr>\n",
       "\t<tr><th scope=row>2</th><td>25710-19960216  </td><td> 119268</td><td>52896</td><td> 1</td><td>PAT HAMILTON, INC                    </td><td>PAT HAMILTON CO.                 </td><td>17021 S MAGNOLIA DR  1ST                    </td><td>HAZEL CREST</td><td>IL</td><td>60429</td><td>⋯</td><td></td><td>NA</td><td>NA</td><td>NA</td><td></td><td>NA</td><td>NA</td><td>NA</td><td>NA</td><td>NA</td></tr>\n",
       "\t<tr><th scope=row>3</th><td>53383-20150316  </td><td>2375632</td><td>38691</td><td> 1</td><td>MEE INC                              </td><td>MEE INC                          </td><td>11845 W LARAWAY RD  1                       </td><td>FRANKFORT  </td><td>IL</td><td>60423</td><td>⋯</td><td></td><td>NA</td><td>NA</td><td>NA</td><td></td><td>NA</td><td>NA</td><td>NA</td><td>NA</td><td>NA</td></tr>\n",
       "\t<tr><th scope=row>4</th><td>1847540-20090116</td><td>1940503</td><td>89020</td><td>45</td><td>FEDEX OFFICE AND PRINT SERVICES, INC.</td><td>FEDEX OFFICE AND PRINT SVCS, INC.</td><td>2301 S DR MARTIN LUTHER KING JR DR  SOUTH BL</td><td>CHICAGO    </td><td>IL</td><td>60616</td><td>⋯</td><td></td><td>NA</td><td>NA</td><td>NA</td><td></td><td>NA</td><td>NA</td><td>NA</td><td>NA</td><td>NA</td></tr>\n",
       "\t<tr><th scope=row>5</th><td>50776-20040216  </td><td>1458339</td><td>56730</td><td> 1</td><td>FREDERICK MCGEE                      </td><td>MCGEE'S REMODELING               </td><td>1009 S 11TH AVE  1                          </td><td>MAYWOOD    </td><td>IL</td><td>60153</td><td>⋯</td><td></td><td>NA</td><td>NA</td><td>NA</td><td></td><td>NA</td><td>NA</td><td>NA</td><td>NA</td><td>NA</td></tr>\n",
       "</tbody>\n",
       "</table>\n"
      ],
      "text/latex": [
       "A data.frame: 5 × 39\n",
       "\\begin{tabular}{r|lllllllllllllllllllll}\n",
       "  & ID & LICENSE.ID & ACCOUNT.NUMBER & SITE.NUMBER & LEGAL.NAME & DOING.BUSINESS.AS.NAME & ADDRESS & CITY & STATE & ZIP.CODE & ⋯ & LICENSE.STATUS.CHANGE.DATE & SSA & LATITUDE & LONGITUDE & LOCATION & Community.Areas & Historical.Wards.2003.2015 & Zip.Codes & Census.Tracts & Wards\\\\\n",
       "  & <chr> & <int> & <int> & <int> & <chr> & <chr> & <chr> & <chr> & <chr> & <chr> & ⋯ & <chr> & <int> & <dbl> & <dbl> & <chr> & <int> & <int> & <int> & <int> & <int>\\\\\n",
       "\\hline\n",
       "\t1 & 16570-20000216   &   76522 & 51755 &  1 & THORNDALE CONSTRUCTION                & THORNDALE CONSTRUCTION            & 11243  CHESAPEAKE PLAC   1ST                 & WESTCHESTER & IL & 60154 & ⋯ &  & NA & NA & NA &  & NA & NA & NA & NA & NA\\\\\n",
       "\t2 & 25710-19960216   &  119268 & 52896 &  1 & PAT HAMILTON, INC                     & PAT HAMILTON CO.                  & 17021 S MAGNOLIA DR  1ST                     & HAZEL CREST & IL & 60429 & ⋯ &  & NA & NA & NA &  & NA & NA & NA & NA & NA\\\\\n",
       "\t3 & 53383-20150316   & 2375632 & 38691 &  1 & MEE INC                               & MEE INC                           & 11845 W LARAWAY RD  1                        & FRANKFORT   & IL & 60423 & ⋯ &  & NA & NA & NA &  & NA & NA & NA & NA & NA\\\\\n",
       "\t4 & 1847540-20090116 & 1940503 & 89020 & 45 & FEDEX OFFICE AND PRINT SERVICES, INC. & FEDEX OFFICE AND PRINT SVCS, INC. & 2301 S DR MARTIN LUTHER KING JR DR  SOUTH BL & CHICAGO     & IL & 60616 & ⋯ &  & NA & NA & NA &  & NA & NA & NA & NA & NA\\\\\n",
       "\t5 & 50776-20040216   & 1458339 & 56730 &  1 & FREDERICK MCGEE                       & MCGEE'S REMODELING                & 1009 S 11TH AVE  1                           & MAYWOOD     & IL & 60153 & ⋯ &  & NA & NA & NA &  & NA & NA & NA & NA & NA\\\\\n",
       "\\end{tabular}\n"
      ],
      "text/markdown": [
       "\n",
       "A data.frame: 5 × 39\n",
       "\n",
       "| <!--/--> | ID &lt;chr&gt; | LICENSE.ID &lt;int&gt; | ACCOUNT.NUMBER &lt;int&gt; | SITE.NUMBER &lt;int&gt; | LEGAL.NAME &lt;chr&gt; | DOING.BUSINESS.AS.NAME &lt;chr&gt; | ADDRESS &lt;chr&gt; | CITY &lt;chr&gt; | STATE &lt;chr&gt; | ZIP.CODE &lt;chr&gt; | ⋯ ⋯ | LICENSE.STATUS.CHANGE.DATE &lt;chr&gt; | SSA &lt;int&gt; | LATITUDE &lt;dbl&gt; | LONGITUDE &lt;dbl&gt; | LOCATION &lt;chr&gt; | Community.Areas &lt;int&gt; | Historical.Wards.2003.2015 &lt;int&gt; | Zip.Codes &lt;int&gt; | Census.Tracts &lt;int&gt; | Wards &lt;int&gt; |\n",
       "|---|---|---|---|---|---|---|---|---|---|---|---|---|---|---|---|---|---|---|---|---|---|\n",
       "| 1 | 16570-20000216   |   76522 | 51755 |  1 | THORNDALE CONSTRUCTION                | THORNDALE CONSTRUCTION            | 11243  CHESAPEAKE PLAC   1ST                 | WESTCHESTER | IL | 60154 | ⋯ | <!----> | NA | NA | NA | <!----> | NA | NA | NA | NA | NA |\n",
       "| 2 | 25710-19960216   |  119268 | 52896 |  1 | PAT HAMILTON, INC                     | PAT HAMILTON CO.                  | 17021 S MAGNOLIA DR  1ST                     | HAZEL CREST | IL | 60429 | ⋯ | <!----> | NA | NA | NA | <!----> | NA | NA | NA | NA | NA |\n",
       "| 3 | 53383-20150316   | 2375632 | 38691 |  1 | MEE INC                               | MEE INC                           | 11845 W LARAWAY RD  1                        | FRANKFORT   | IL | 60423 | ⋯ | <!----> | NA | NA | NA | <!----> | NA | NA | NA | NA | NA |\n",
       "| 4 | 1847540-20090116 | 1940503 | 89020 | 45 | FEDEX OFFICE AND PRINT SERVICES, INC. | FEDEX OFFICE AND PRINT SVCS, INC. | 2301 S DR MARTIN LUTHER KING JR DR  SOUTH BL | CHICAGO     | IL | 60616 | ⋯ | <!----> | NA | NA | NA | <!----> | NA | NA | NA | NA | NA |\n",
       "| 5 | 50776-20040216   | 1458339 | 56730 |  1 | FREDERICK MCGEE                       | MCGEE'S REMODELING                | 1009 S 11TH AVE  1                           | MAYWOOD     | IL | 60153 | ⋯ | <!----> | NA | NA | NA | <!----> | NA | NA | NA | NA | NA |\n",
       "\n"
      ],
      "text/plain": [
       "  ID               LICENSE.ID ACCOUNT.NUMBER SITE.NUMBER\n",
       "1 16570-20000216     76522    51755           1         \n",
       "2 25710-19960216    119268    52896           1         \n",
       "3 53383-20150316   2375632    38691           1         \n",
       "4 1847540-20090116 1940503    89020          45         \n",
       "5 50776-20040216   1458339    56730           1         \n",
       "  LEGAL.NAME                            DOING.BUSINESS.AS.NAME           \n",
       "1 THORNDALE CONSTRUCTION                THORNDALE CONSTRUCTION           \n",
       "2 PAT HAMILTON, INC                     PAT HAMILTON CO.                 \n",
       "3 MEE INC                               MEE INC                          \n",
       "4 FEDEX OFFICE AND PRINT SERVICES, INC. FEDEX OFFICE AND PRINT SVCS, INC.\n",
       "5 FREDERICK MCGEE                       MCGEE'S REMODELING               \n",
       "  ADDRESS                                      CITY        STATE ZIP.CODE ⋯\n",
       "1 11243  CHESAPEAKE PLAC   1ST                 WESTCHESTER IL    60154    ⋯\n",
       "2 17021 S MAGNOLIA DR  1ST                     HAZEL CREST IL    60429    ⋯\n",
       "3 11845 W LARAWAY RD  1                        FRANKFORT   IL    60423    ⋯\n",
       "4 2301 S DR MARTIN LUTHER KING JR DR  SOUTH BL CHICAGO     IL    60616    ⋯\n",
       "5 1009 S 11TH AVE  1                           MAYWOOD     IL    60153    ⋯\n",
       "  LICENSE.STATUS.CHANGE.DATE SSA LATITUDE LONGITUDE LOCATION Community.Areas\n",
       "1                            NA  NA       NA                 NA             \n",
       "2                            NA  NA       NA                 NA             \n",
       "3                            NA  NA       NA                 NA             \n",
       "4                            NA  NA       NA                 NA             \n",
       "5                            NA  NA       NA                 NA             \n",
       "  Historical.Wards.2003.2015 Zip.Codes Census.Tracts Wards\n",
       "1 NA                         NA        NA            NA   \n",
       "2 NA                         NA        NA            NA   \n",
       "3 NA                         NA        NA            NA   \n",
       "4 NA                         NA        NA            NA   \n",
       "5 NA                         NA        NA            NA   "
      ]
     },
     "metadata": {},
     "output_type": "display_data"
    }
   ],
   "source": [
    "# load the csv file\n",
    "data <- read.csv(filename)\n",
    "head(data, 5)"
   ]
  },
  {
   "cell_type": "code",
   "execution_count": 7,
   "id": "108b849b",
   "metadata": {},
   "outputs": [
    {
     "name": "stdout",
     "output_type": "stream",
     "text": [
      "'data.frame':\t1112069 obs. of  39 variables:\n",
      " $ ID                               : chr  \"16570-20000216\" \"25710-19960216\" \"53383-20150316\" \"1847540-20090116\" ...\n",
      " $ LICENSE.ID                       : int  76522 119268 2375632 1940503 1458339 275807 286129 2858237 1660219 2454132 ...\n",
      " $ ACCOUNT.NUMBER                   : int  51755 52896 38691 89020 56730 19866 59758 62544 54914 61178 ...\n",
      " $ SITE.NUMBER                      : int  1 1 1 45 1 1 1 3 1 3 ...\n",
      " $ LEGAL.NAME                       : chr  \"THORNDALE CONSTRUCTION\" \"PAT HAMILTON, INC\" \"MEE INC\" \"FEDEX OFFICE AND PRINT SERVICES, INC.\" ...\n",
      " $ DOING.BUSINESS.AS.NAME           : chr  \"THORNDALE CONSTRUCTION\" \"PAT HAMILTON CO.\" \"MEE INC\" \"FEDEX OFFICE AND PRINT SVCS, INC.\" ...\n",
      " $ ADDRESS                          : chr  \"11243  CHESAPEAKE PLAC   1ST\" \"17021 S MAGNOLIA DR  1ST\" \"11845 W LARAWAY RD  1\" \"2301 S DR MARTIN LUTHER KING JR DR  SOUTH BL\" ...\n",
      " $ CITY                             : chr  \"WESTCHESTER\" \"HAZEL CREST\" \"FRANKFORT\" \"CHICAGO\" ...\n",
      " $ STATE                            : chr  \"IL\" \"IL\" \"IL\" \"IL\" ...\n",
      " $ ZIP.CODE                         : chr  \"60154\" \"60429\" \"60423\" \"60616\" ...\n",
      " $ WARD                             : int  NA NA NA 4 NA NA NA 42 NA NA ...\n",
      " $ PRECINCT                         : int  NA NA NA 3 NA NA NA 44 NA NA ...\n",
      " $ WARD.PRECINCT                    : chr  \"\" \"\" \"\" \"4-3\" ...\n",
      " $ POLICE.DISTRICT                  : int  NA NA NA 1 NA NA NA 1 NA NA ...\n",
      " $ LICENSE.CODE                     : int  1010 1010 1010 1010 1011 1010 1315 1477 1011 1010 ...\n",
      " $ LICENSE.DESCRIPTION              : chr  \"Limited Business License\" \"Limited Business License\" \"Limited Business License\" \"Limited Business License\" ...\n",
      " $ BUSINESS.ACTIVITY.ID             : chr  \"\" \"\" \"\" \"\" ...\n",
      " $ BUSINESS.ACTIVITY                : chr  \"\" \"\" \"\" \"\" ...\n",
      " $ LICENSE.NUMBER                   : int  16570 25710 53383 1847540 50776 63024 67045 1927 39535 1888980 ...\n",
      " $ APPLICATION.TYPE                 : chr  \"RENEW\" \"ISSUE\" \"RENEW\" \"RENEW\" ...\n",
      " $ APPLICATION.CREATED.DATE         : chr  \"\" \"\" \"\" \"\" ...\n",
      " $ APPLICATION.REQUIREMENTS.COMPLETE: chr  \"06/16/2000\" \"06/20/2000\" \"01/16/2015\" \"11/14/2008\" ...\n",
      " $ PAYMENT.DATE                     : chr  \"08/21/2009\" \"\" \"03/12/2015\" \"01/08/2009\" ...\n",
      " $ CONDITIONAL.APPROVAL             : chr  \"N\" \"N\" \"N\" \"N\" ...\n",
      " $ LICENSE.TERM.START.DATE          : chr  \"02/16/2000\" \"02/16/1996\" \"03/16/2015\" \"01/16/2009\" ...\n",
      " $ LICENSE.TERM.EXPIRATION.DATE     : chr  \"02/15/2001\" \"02/15/1997\" \"03/15/2017\" \"01/15/2011\" ...\n",
      " $ LICENSE.APPROVED.FOR.ISSUANCE    : chr  \"12/22/2003\" \"12/22/2003\" \"03/12/2015\" \"01/08/2009\" ...\n",
      " $ DATE.ISSUED                      : chr  \"08/24/2009\" \"04/12/2006\" \"03/13/2015\" \"01/22/2009\" ...\n",
      " $ LICENSE.STATUS                   : chr  \"AAI\" \"AAI\" \"AAI\" \"AAI\" ...\n",
      " $ LICENSE.STATUS.CHANGE.DATE       : chr  \"\" \"\" \"\" \"\" ...\n",
      " $ SSA                              : int  NA NA NA NA NA NA NA NA NA NA ...\n",
      " $ LATITUDE                         : num  NA NA NA NA NA NA NA NA NA NA ...\n",
      " $ LONGITUDE                        : num  NA NA NA NA NA NA NA NA NA NA ...\n",
      " $ LOCATION                         : chr  \"\" \"\" \"\" \"\" ...\n",
      " $ Community.Areas                  : int  NA NA NA NA NA NA NA NA NA NA ...\n",
      " $ Historical.Wards.2003.2015       : int  NA NA NA NA NA NA NA NA NA NA ...\n",
      " $ Zip.Codes                        : int  NA NA NA NA NA NA NA NA NA NA ...\n",
      " $ Census.Tracts                    : int  NA NA NA NA NA NA NA NA NA NA ...\n",
      " $ Wards                            : int  NA NA NA NA NA NA NA NA NA NA ...\n"
     ]
    }
   ],
   "source": [
    "# internal structure of data dataframe\n",
    "str(data)"
   ]
  },
  {
   "cell_type": "code",
   "execution_count": 8,
   "id": "196e4afc",
   "metadata": {},
   "outputs": [
    {
     "data": {
      "text/plain": [
       "      ID              LICENSE.ID      ACCOUNT.NUMBER    SITE.NUMBER     \n",
       " Length:1112069     Min.   :    364   Min.   :     1   Min.   :  1.000  \n",
       " Class :character   1st Qu.:1556370   1st Qu.: 36891   1st Qu.:  1.000  \n",
       " Mode  :character   Median :1937826   Median :222183   Median :  1.000  \n",
       "                    Mean   :1978114   Mean   :194184   Mean   :  4.793  \n",
       "                    3rd Qu.:2394748   3rd Qu.:322608   3rd Qu.:  2.000  \n",
       "                    Max.   :2934020   Max.   :501309   Max.   :644.000  \n",
       "                                                                        \n",
       "  LEGAL.NAME        DOING.BUSINESS.AS.NAME   ADDRESS         \n",
       " Length:1112069     Length:1112069         Length:1112069    \n",
       " Class :character   Class :character       Class :character  \n",
       " Mode  :character   Mode  :character       Mode  :character  \n",
       "                                                             \n",
       "                                                             \n",
       "                                                             \n",
       "                                                             \n",
       "     CITY              STATE             ZIP.CODE              WARD      \n",
       " Length:1112069     Length:1112069     Length:1112069     Min.   : 1.00  \n",
       " Class :character   Class :character   Class :character   1st Qu.:16.00  \n",
       " Mode  :character   Mode  :character   Mode  :character   Median :30.00  \n",
       "                                                          Mean   :27.91  \n",
       "                                                          3rd Qu.:42.00  \n",
       "                                                          Max.   :50.00  \n",
       "                                                          NA's   :83430  \n",
       "    PRECINCT       WARD.PRECINCT      POLICE.DISTRICT   LICENSE.CODE \n",
       " Min.   :   1.00   Length:1112069     Min.   :  0.00   Min.   :1002  \n",
       " 1st Qu.:  12.00   Class :character   1st Qu.:  8.00   1st Qu.:1010  \n",
       " Median :  25.00   Mode  :character   Median : 14.00   Median :1010  \n",
       " Mean   :  28.04                      Mean   : 13.01   Mean   :1507  \n",
       " 3rd Qu.:  40.00                      3rd Qu.: 18.00   3rd Qu.:1474  \n",
       " Max.   :4047.00                      Max.   :181.00   Max.   :8604  \n",
       " NA's   :140668                       NA's   :134307                 \n",
       " LICENSE.DESCRIPTION BUSINESS.ACTIVITY.ID BUSINESS.ACTIVITY  LICENSE.NUMBER   \n",
       " Length:1112069      Length:1112069       Length:1112069     Min.   :      2  \n",
       " Class :character    Class :character     Class :character   1st Qu.:  59607  \n",
       " Mode  :character    Mode  :character     Mode  :character   Median :1491134  \n",
       "                                                             Mean   :1302224  \n",
       "                                                             3rd Qu.:2088699  \n",
       "                                                             Max.   :2934020  \n",
       "                                                             NA's   :1        \n",
       " APPLICATION.TYPE   APPLICATION.CREATED.DATE APPLICATION.REQUIREMENTS.COMPLETE\n",
       " Length:1112069     Length:1112069           Length:1112069                   \n",
       " Class :character   Class :character         Class :character                 \n",
       " Mode  :character   Mode  :character         Mode  :character                 \n",
       "                                                                              \n",
       "                                                                              \n",
       "                                                                              \n",
       "                                                                              \n",
       " PAYMENT.DATE       CONDITIONAL.APPROVAL LICENSE.TERM.START.DATE\n",
       " Length:1112069     Length:1112069       Length:1112069         \n",
       " Class :character   Class :character     Class :character       \n",
       " Mode  :character   Mode  :character     Mode  :character       \n",
       "                                                                \n",
       "                                                                \n",
       "                                                                \n",
       "                                                                \n",
       " LICENSE.TERM.EXPIRATION.DATE LICENSE.APPROVED.FOR.ISSUANCE DATE.ISSUED       \n",
       " Length:1112069               Length:1112069                Length:1112069    \n",
       " Class :character             Class :character              Class :character  \n",
       " Mode  :character             Mode  :character              Mode  :character  \n",
       "                                                                              \n",
       "                                                                              \n",
       "                                                                              \n",
       "                                                                              \n",
       " LICENSE.STATUS     LICENSE.STATUS.CHANGE.DATE      SSA            LATITUDE    \n",
       " Length:1112069     Length:1112069             Min.   : 1.0     Min.   :41.64  \n",
       " Class :character   Class :character           1st Qu.:17.0     1st Qu.:41.84  \n",
       " Mode  :character   Mode  :character           Median :29.0     Median :41.89  \n",
       "                                               Mean   :29.7     Mean   :41.88  \n",
       "                                               3rd Qu.:42.0     3rd Qu.:41.94  \n",
       "                                               Max.   :69.0     Max.   :42.02  \n",
       "                                               NA's   :822759   NA's   :85760  \n",
       "   LONGITUDE        LOCATION         Community.Areas Historical.Wards.2003.2015\n",
       " Min.   :-87.93   Length:1112069     Min.   : 1.00   Min.   : 1.00             \n",
       " 1st Qu.:-87.71   Class :character   1st Qu.:24.00   1st Qu.:16.00             \n",
       " Median :-87.67   Mode  :character   Median :37.00   Median :24.00             \n",
       " Mean   :-87.68                      Mean   :37.48   Mean   :27.03             \n",
       " 3rd Qu.:-87.63                      3rd Qu.:54.00   3rd Qu.:39.00             \n",
       " Max.   :-87.52                      Max.   :77.00   Max.   :53.00             \n",
       " NA's   :85760                       NA's   :92247   NA's   :92117             \n",
       "   Zip.Codes     Census.Tracts       Wards      \n",
       " Min.   : 2733   Min.   :  1.0   Min.   : 1.00  \n",
       " 1st Qu.:14917   1st Qu.:138.0   1st Qu.:16.00  \n",
       " Median :21538   Median :359.0   Median :29.00  \n",
       " Mean   :17969   Mean   :375.1   Mean   :27.57  \n",
       " 3rd Qu.:22216   3rd Qu.:601.0   3rd Qu.:38.00  \n",
       " Max.   :26912   Max.   :801.0   Max.   :50.00  \n",
       " NA's   :85760   NA's   :86775   NA's   :92247  "
      ]
     },
     "metadata": {},
     "output_type": "display_data"
    }
   ],
   "source": [
    "# summarize the dataframe\n",
    "summary(data)"
   ]
  },
  {
   "cell_type": "code",
   "execution_count": 9,
   "id": "7ee2b011",
   "metadata": {},
   "outputs": [
    {
     "name": "stdout",
     "output_type": "stream",
     "text": [
      "[1] \"Number of Rows in the dataframe:  1112069\"\n",
      "[1] \"Number of Columns in the dataframe:  39\"\n"
     ]
    }
   ],
   "source": [
    "# number of rows in the dataframe\n",
    "num_of_rows <- nrow(data)\n",
    "print(paste(\"Number of Rows in the dataframe: \", num_of_rows))\n",
    "\n",
    "# number of columns in the dataframe\n",
    "num_of_cols <- ncol(data)\n",
    "print(paste(\"Number of Columns in the dataframe: \", num_of_cols))"
   ]
  },
  {
   "cell_type": "code",
   "execution_count": 10,
   "id": "c53c4d33",
   "metadata": {},
   "outputs": [
    {
     "name": "stdout",
     "output_type": "stream",
     "text": [
      "[1] \"Total Number of missing values in the dataframe:  1801831\"\n"
     ]
    }
   ],
   "source": [
    "# total number of missing values\n",
    "count_na <- sum(is.na(data))\n",
    "print(paste(\"Total Number of missing values in the dataframe: \", count_na))"
   ]
  },
  {
   "cell_type": "code",
   "execution_count": 11,
   "id": "3efff9c5",
   "metadata": {},
   "outputs": [
    {
     "name": "stdout",
     "output_type": "stream",
     "text": [
      "[1] \"After dropping na, size of the dataset is:  274145 39\"\n"
     ]
    }
   ],
   "source": [
    "# dropping rows with any NA in any columns\n",
    "data <- na.omit(data)\n",
    "# reset index of the dataframe\n",
    "rownames(data) <- NULL\n",
    "# number of rows in the dataframe after dropping na\n",
    "num_of_rows_na <- nrow(data)\n",
    "print(paste(\"After dropping na, size of the dataset is: \", num_of_rows_na, ncol(data)))"
   ]
  },
  {
   "cell_type": "markdown",
   "id": "0ff06f92",
   "metadata": {},
   "source": [
    "### EDA "
   ]
  },
  {
   "cell_type": "code",
   "execution_count": 12,
   "id": "9ae02199",
   "metadata": {},
   "outputs": [],
   "source": [
    "# eda\n",
    "# function to create a dataframe that contains unique values and its counts \n",
    "create_unique_counts <- function(df, column_name) {\n",
    "  # Check if the column_name exists in the data frame\n",
    "  if (!column_name %in% names(df)) {\n",
    "    stop(paste(\"Column\", column_name, \"not found in the data frame.\"))\n",
    "  }\n",
    "  column <- df[[column_name]]\n",
    "  # Use table() to count unique values\n",
    "  counts <- table(column)\n",
    "  # Convert the result to a data frame\n",
    "  unique_counts_df <- data.frame(Value = names(counts), Count = counts)\n",
    "  unique_counts_df <- unique_counts_df[, !names(unique_counts_df) %in% \"Count.column\"]\n",
    "  names(unique_counts_df) <- c(column_name, \"Count\")\n",
    "  return(unique_counts_df)\n",
    "}"
   ]
  },
  {
   "cell_type": "code",
   "execution_count": 13,
   "id": "495de39c",
   "metadata": {},
   "outputs": [
    {
     "data": {
      "image/png": "[encoded data removed]",
      "text/plain": [
       "plot without title"
      ]
     },
     "metadata": {
      "image/png": {
       "height": 420,
       "width": 420
      }
     },
     "output_type": "display_data"
    }
   ],
   "source": [
    "# Legal name - Y\n",
    "legal_name <- data %>% filter(CONDITIONAL.APPROVAL == \"Y\")\n",
    "legal_name <- create_unique_counts(legal_name, \"LEGAL.NAME\")\n",
    "legal_name <- legal_name[order(-legal_name$Count), ]\n",
    "first_10_rows <- head(legal_name, 10)\n",
    "\n",
    "lolipop_plot <- ggplot(first_10_rows, aes(x = reorder(LEGAL.NAME, -Count), y = Count)) +\n",
    "  geom_segment(aes(xend = LEGAL.NAME, yend = 0), color = \"black\") +\n",
    "  geom_point(size = 3, color = \"darkorange\") +\n",
    "  theme_minimal() +\n",
    "  labs(title = \"Top 10 Legal Business Names where conditional approval is Yes\", x = \"LEGAL.NAME\", y = \"Count\") +\n",
    "  theme(axis.text.x = element_text(angle = 45, hjust = 1))\n",
    "print(lolipop_plot)"
   ]
  },
  {
   "cell_type": "code",
   "execution_count": 14,
   "id": "108bd8ba",
   "metadata": {},
   "outputs": [
    {
     "data": {
      "image/png": "[encoded data removed]",
      "text/plain": [
       "plot without title"
      ]
     },
     "metadata": {
      "image/png": {
       "height": 420,
       "width": 420
      }
     },
     "output_type": "display_data"
    }
   ],
   "source": [
    "# Legal name - N\n",
    "legal_name <- data %>% filter(CONDITIONAL.APPROVAL == \"N\")\n",
    "legal_name <- create_unique_counts(legal_name, \"LEGAL.NAME\")\n",
    "legal_name <- legal_name[order(-legal_name$Count), ]\n",
    "first_10_rows <- head(legal_name, 10)\n",
    "\n",
    "lolipop_plot <- ggplot(first_10_rows, aes(x = reorder(LEGAL.NAME, -Count), y = Count)) +\n",
    "  geom_segment(aes(xend = LEGAL.NAME, yend = 0), color = \"black\") +\n",
    "  geom_point(size = 3, color = \"darkorange\") +\n",
    "  theme_minimal() +\n",
    "  labs(title = \"Top 10 Legal Business Names where conditional approval is No\", x = \"LEGAL.NAME\", y = \"Count\") +\n",
    "  theme(axis.text.x = element_text(angle = 45, hjust = 1))\n",
    "print(lolipop_plot)"
   ]
  },
  {
   "cell_type": "code",
   "execution_count": 15,
   "id": "5f729660",
   "metadata": {},
   "outputs": [
    {
     "data": {
      "image/png": "[encoded data removed]",
      "text/plain": [
       "plot without title"
      ]
     },
     "metadata": {
      "image/png": {
       "height": 420,
       "width": 420
      }
     },
     "output_type": "display_data"
    }
   ],
   "source": [
    "# DOING.BUSINESS.AS.NAME\n",
    "business_name <- data %>% filter(CONDITIONAL.APPROVAL == \"Y\")\n",
    "business_name <- create_unique_counts(business_name, \"DOING.BUSINESS.AS.NAME\")\n",
    "business_name <- business_name[order(-business_name$Count), ]\n",
    "first_10_rows <- head(business_name, 10)\n",
    "\n",
    "lolipop_plot <- ggplot(first_10_rows, aes(x = reorder(DOING.BUSINESS.AS.NAME, -Count), y = Count)) +\n",
    "  geom_segment(aes(xend = DOING.BUSINESS.AS.NAME, yend = 0), color = \"black\") +\n",
    "  geom_point(size = 3, color = \"darkorange\") +\n",
    "  theme_minimal() +\n",
    "  labs(title = \"Top 10 Doing Business as Names where Conditional Approval is Y\", x = \"DOING.BUSINESS.AS.NAME\", y = \"Count\") +\n",
    "  theme(axis.text.x = element_text(angle = 45, hjust = 1))\n",
    "print(lolipop_plot)"
   ]
  },
  {
   "cell_type": "code",
   "execution_count": 16,
   "id": "0425efb1",
   "metadata": {},
   "outputs": [
    {
     "data": {
      "image/png": "[encoded data removed]",
      "text/plain": [
       "plot without title"
      ]
     },
     "metadata": {
      "image/png": {
       "height": 420,
       "width": 420
      }
     },
     "output_type": "display_data"
    }
   ],
   "source": [
    "# DOING.BUSINESS.AS.NAME\n",
    "business_name <- data %>% filter(CONDITIONAL.APPROVAL == \"N\")\n",
    "business_name <- create_unique_counts(business_name, \"DOING.BUSINESS.AS.NAME\")\n",
    "business_name <- business_name[order(-business_name$Count), ]\n",
    "first_10_rows <- head(business_name, 10)\n",
    "\n",
    "lolipop_plot <- ggplot(first_10_rows, aes(x = reorder(DOING.BUSINESS.AS.NAME, -Count), y = Count)) +\n",
    "  geom_segment(aes(xend = DOING.BUSINESS.AS.NAME, yend = 0), color = \"black\") +\n",
    "  geom_point(size = 3, color = \"darkorange\") +\n",
    "  theme_minimal() +\n",
    "  labs(title = \"Top 10 Doing Business as Names where Conditional Approval is N\", x = \"DOING.BUSINESS.AS.NAME\", y = \"Count\") +\n",
    "  theme(axis.text.x = element_text(angle = 45, hjust = 1))\n",
    "print(lolipop_plot)"
   ]
  },
  {
   "cell_type": "code",
   "execution_count": 17,
   "id": "8a2e3175",
   "metadata": {},
   "outputs": [
    {
     "name": "stdout",
     "output_type": "stream",
     "text": [
      "           CITY  Count\n",
      "1       CHICAGO 274137\n",
      "2 HIGHLAND PARK      6\n",
      "3   MINNEAPOLIS      1\n",
      "4       OAKPARK      1\n"
     ]
    }
   ],
   "source": [
    "# city\n",
    "city <- create_unique_counts(data, \"CITY\")\n",
    "city <- city[order(-city$Count), ]\n",
    "print(city)"
   ]
  },
  {
   "cell_type": "code",
   "execution_count": 18,
   "id": "d23860a7",
   "metadata": {},
   "outputs": [
    {
     "data": {
      "image/png": "[encoded data removed]",
      "text/plain": [
       "Plot with title \"Top 10 Zip Codes having Business License where conditional approval is Y\""
      ]
     },
     "metadata": {
      "image/png": {
       "height": 420,
       "width": 420
      }
     },
     "output_type": "display_data"
    }
   ],
   "source": [
    "# Zipcode\n",
    "zipcode <- data %>% filter(CONDITIONAL.APPROVAL == \"Y\")\n",
    "zipcode <- create_unique_counts(zipcode, \"ZIP.CODE\")\n",
    "zipcode <- zipcode[order(-zipcode$Count), ]\n",
    "top_zipcode <- head(zipcode, 10)\n",
    "# Calculate percentages\n",
    "percentages <- round(top_zipcode$Count/sum(top_zipcode$Count) * 100, 1)\n",
    "# Create labels with custom names and percentages\n",
    "sector_labels <- paste(top_zipcode$ZIP.CODE, \"(\", percentages, \"%)\", sep = \" \")\n",
    "# Create a pie chart\n",
    "pie(top_zipcode$Count, labels = sector_labels, main = \"Top 10 Zip Codes having Business License where conditional approval is Y\")"
   ]
  },
  {
   "cell_type": "code",
   "execution_count": 19,
   "id": "9cc868a8",
   "metadata": {},
   "outputs": [
    {
     "data": {
      "image/png": "[encoded data removed]",
      "text/plain": [
       "Plot with title \"Top 10 Zip Codes having Business License where conditional approval is N\""
      ]
     },
     "metadata": {
      "image/png": {
       "height": 420,
       "width": 420
      }
     },
     "output_type": "display_data"
    }
   ],
   "source": [
    "# Zipcode\n",
    "zipcode <- data %>% filter(CONDITIONAL.APPROVAL == \"N\")\n",
    "zipcode <- create_unique_counts(zipcode, \"ZIP.CODE\")\n",
    "zipcode <- zipcode[order(-zipcode$Count), ]\n",
    "top_zipcode <- head(zipcode, 10)\n",
    "# Calculate percentages\n",
    "percentages <- round(top_zipcode$Count/sum(top_zipcode$Count) * 100, 1)\n",
    "# Create labels with custom names and percentages\n",
    "sector_labels <- paste(top_zipcode$ZIP.CODE, \"(\", percentages, \"%)\", sep = \" \")\n",
    "# Create a pie chart\n",
    "pie(top_zipcode$Count, labels = sector_labels, main = \"Top 10 Zip Codes having Business License where conditional approval is N\")"
   ]
  },
  {
   "cell_type": "code",
   "execution_count": 20,
   "id": "3f54b0a0",
   "metadata": {},
   "outputs": [
    {
     "data": {
      "image/png": "[encoded data removed]",
      "text/plain": [
       "plot without title"
      ]
     },
     "metadata": {
      "image/png": {
       "height": 420,
       "width": 420
      }
     },
     "output_type": "display_data"
    }
   ],
   "source": [
    "# LICENSE.DESCRIPTION\n",
    "lic_desc <- data %>% filter(CONDITIONAL.APPROVAL == \"Y\")\n",
    "lic_desc <- create_unique_counts(lic_desc, \"LICENSE.DESCRIPTION\")\n",
    "lic_desc <- lic_desc[order(-lic_desc$Count), ]\n",
    "first_10_rows <- head(lic_desc, 10)\n",
    "\n",
    "bar_plot <- ggplot(first_10_rows, aes(x = reorder(LICENSE.DESCRIPTION, -Count), y = Count)) +\n",
    "  geom_bar(stat = \"identity\", fill = \"darkorange\") +\n",
    "  theme_minimal() +\n",
    "  labs(title = \"Top 10 LICENSE DESCRIPTION with conditional approval Y\", \n",
    "       x = \"LICENSE.DESCRIPTION\", y = \"Count\") +\n",
    "  theme(axis.text.x = element_text(angle = 45, hjust = 1))\n",
    "print(bar_plot)"
   ]
  },
  {
   "cell_type": "code",
   "execution_count": 21,
   "id": "a6078378",
   "metadata": {},
   "outputs": [
    {
     "data": {
      "image/png": "[encoded data removed]",
      "text/plain": [
       "plot without title"
      ]
     },
     "metadata": {
      "image/png": {
       "height": 420,
       "width": 420
      }
     },
     "output_type": "display_data"
    }
   ],
   "source": [
    "# LICENSE.DESCRIPTION\n",
    "lic_desc <- data %>% filter(CONDITIONAL.APPROVAL == \"N\")\n",
    "lic_desc <- create_unique_counts(lic_desc, \"LICENSE.DESCRIPTION\")\n",
    "lic_desc <- lic_desc[order(-lic_desc$Count), ]\n",
    "first_10_rows <- head(lic_desc, 10)\n",
    "\n",
    "bar_plot <- ggplot(first_10_rows, aes(x = reorder(LICENSE.DESCRIPTION, -Count), y = Count)) +\n",
    "  geom_bar(stat = \"identity\", fill = \"darkorange\") +\n",
    "  theme_minimal() +\n",
    "  labs(title = \"Top 10 LICENSE DESCRIPTION with conditional approval N\", \n",
    "       x = \"LICENSE.DESCRIPTION\", y = \"Count\") +\n",
    "  theme(axis.text.x = element_text(angle = 45, hjust = 1))\n",
    "print(bar_plot)"
   ]
  },
  {
   "cell_type": "code",
   "execution_count": 22,
   "id": "ccdff8a8",
   "metadata": {},
   "outputs": [
    {
     "data": {
      "image/png": "[encoded data removed]",
      "text/plain": [
       "plot without title"
      ]
     },
     "metadata": {
      "image/png": {
       "height": 420,
       "width": 420
      }
     },
     "output_type": "display_data"
    }
   ],
   "source": [
    "# APPLICATION.TYPE\n",
    "app_type <- create_unique_counts(data, \"APPLICATION.TYPE\")\n",
    "app_type <- app_type[order(-app_type$Count), ]\n",
    "\n",
    "bar_plot <- ggplot(app_type, aes(x = reorder(APPLICATION.TYPE, -Count), y = Count)) +\n",
    "  geom_bar(stat = \"identity\", fill = \"darkorange\") +\n",
    "  theme_minimal() +\n",
    "  labs(title = \"Application Types\", \n",
    "       x = \"APPLICATION.TYPE\", y = \"Count\") +\n",
    "  theme(axis.text.x = element_text(angle = 45, hjust = 1))\n",
    "print(bar_plot)"
   ]
  },
  {
   "cell_type": "code",
   "execution_count": 23,
   "id": "14a3c8cf",
   "metadata": {},
   "outputs": [
    {
     "data": {
      "image/png": "[encoded data removed]",
      "text/plain": [
       "plot without title"
      ]
     },
     "metadata": {
      "image/png": {
       "height": 420,
       "width": 420
      }
     },
     "output_type": "display_data"
    }
   ],
   "source": [
    "# CONDITIONAL.APPROVAL\n",
    "cond_app <- create_unique_counts(data, \"CONDITIONAL.APPROVAL\")\n",
    "cond_app <- cond_app[order(-cond_app$Count), ]\n",
    "\n",
    "bar_plot <- ggplot(cond_app, aes(x = reorder(CONDITIONAL.APPROVAL, -Count), y = Count)) +\n",
    "  geom_bar(stat = \"identity\", fill = \"darkorange\") +\n",
    "  theme_minimal() +\n",
    "  labs(title = \"Conditional Approval\", \n",
    "       x = \"CONDITIONAL.APPROVAL\", y = \"Count\") +\n",
    "  theme(axis.text.x = element_text(angle = 45, hjust = 1))\n",
    "print(bar_plot)"
   ]
  },
  {
   "cell_type": "code",
   "execution_count": 24,
   "id": "8b0980c2",
   "metadata": {},
   "outputs": [
    {
     "data": {
      "image/png": "[encoded data removed]",
      "text/plain": [
       "Plot with title \"License Status where conditional approval is Y\""
      ]
     },
     "metadata": {
      "image/png": {
       "height": 420,
       "width": 420
      }
     },
     "output_type": "display_data"
    }
   ],
   "source": [
    "# LICENSE.STATUS\n",
    "lic_status <- data %>% filter(CONDITIONAL.APPROVAL == \"Y\")\n",
    "lic_status <- create_unique_counts(lic_status, \"LICENSE.STATUS\")\n",
    "lic_status <- lic_status[order(-lic_status$Count), ]\n",
    "# Calculate percentages\n",
    "percentages <- round(lic_status$Count/sum(lic_status$Count) * 100, 1)\n",
    "# Create labels with custom names and percentages\n",
    "sector_labels <- paste(lic_status$LICENSE.STATUS, \"(\", percentages, \"%)\", sep = \" \")\n",
    "# Create a pie chart\n",
    "pie(lic_status$Count, labels = sector_labels, main = \"License Status where conditional approval is Y\")"
   ]
  },
  {
   "cell_type": "code",
   "execution_count": 25,
   "id": "0621b1d2",
   "metadata": {},
   "outputs": [
    {
     "data": {
      "image/png": "[encoded data removed]",
      "text/plain": [
       "Plot with title \"License Status where conditional approval is N\""
      ]
     },
     "metadata": {
      "image/png": {
       "height": 420,
       "width": 420
      }
     },
     "output_type": "display_data"
    }
   ],
   "source": [
    "# LICENSE.STATUS\n",
    "lic_status <- data %>% filter(CONDITIONAL.APPROVAL == \"N\")\n",
    "lic_status <- create_unique_counts(lic_status, \"LICENSE.STATUS\")\n",
    "lic_status <- lic_status[order(-lic_status$Count), ]\n",
    "# Calculate percentages\n",
    "percentages <- round(lic_status$Count/sum(lic_status$Count) * 100, 1)\n",
    "# Create labels with custom names and percentages\n",
    "sector_labels <- paste(lic_status$LICENSE.STATUS, \"(\", percentages, \"%)\", sep = \" \")\n",
    "# Create a pie chart\n",
    "pie(lic_status$Count, labels = sector_labels, main = \"License Status where conditional approval is N\")"
   ]
  },
  {
   "cell_type": "markdown",
   "id": "449e2aed",
   "metadata": {},
   "source": [
    "### Unimportant Features"
   ]
  },
  {
   "cell_type": "code",
   "execution_count": 26,
   "id": "cde2dbf4",
   "metadata": {},
   "outputs": [
    {
     "data": {
      "text/html": [
       "<table class=\"dataframe\">\n",
       "<caption>A data.frame: 5 × 12</caption>\n",
       "<thead>\n",
       "\t<tr><th></th><th scope=col>ZIP.CODE</th><th scope=col>WARD</th><th scope=col>POLICE.DISTRICT</th><th scope=col>LICENSE.CODE</th><th scope=col>APPLICATION.TYPE</th><th scope=col>CONDITIONAL.APPROVAL</th><th scope=col>LICENSE.TERM.START.DATE</th><th scope=col>LICENSE.TERM.EXPIRATION.DATE</th><th scope=col>LICENSE.STATUS</th><th scope=col>SSA</th><th scope=col>Community.Areas</th><th scope=col>Census.Tracts</th></tr>\n",
       "\t<tr><th></th><th scope=col>&lt;chr&gt;</th><th scope=col>&lt;int&gt;</th><th scope=col>&lt;int&gt;</th><th scope=col>&lt;int&gt;</th><th scope=col>&lt;chr&gt;</th><th scope=col>&lt;chr&gt;</th><th scope=col>&lt;chr&gt;</th><th scope=col>&lt;chr&gt;</th><th scope=col>&lt;chr&gt;</th><th scope=col>&lt;int&gt;</th><th scope=col>&lt;int&gt;</th><th scope=col>&lt;int&gt;</th></tr>\n",
       "</thead>\n",
       "<tbody>\n",
       "\t<tr><th scope=row>1</th><td>60613</td><td>46</td><td>19</td><td>1470</td><td>RENEW</td><td>N</td><td>06/16/2022</td><td>06/15/2024</td><td>AAI</td><td>34</td><td>31</td><td>577</td></tr>\n",
       "\t<tr><th scope=row>2</th><td>60613</td><td>44</td><td>19</td><td>1050</td><td>RENEW</td><td>N</td><td>06/16/2020</td><td>06/15/2022</td><td>AAI</td><td>17</td><td>57</td><td>691</td></tr>\n",
       "\t<tr><th scope=row>3</th><td>60613</td><td>46</td><td>19</td><td>1781</td><td>RENEW</td><td>N</td><td>06/16/2022</td><td>06/15/2023</td><td>AAI</td><td>18</td><td>57</td><td> 83</td></tr>\n",
       "\t<tr><th scope=row>4</th><td>60625</td><td>47</td><td>19</td><td>4409</td><td>ISSUE</td><td>N</td><td>08/08/2022</td><td>08/13/2022</td><td>AAI</td><td>21</td><td> 6</td><td>667</td></tr>\n",
       "\t<tr><th scope=row>5</th><td>60632</td><td>12</td><td> 9</td><td>1010</td><td>ISSUE</td><td>N</td><td>05/11/2022</td><td>05/15/2024</td><td>AAI</td><td>39</td><td>55</td><td>196</td></tr>\n",
       "</tbody>\n",
       "</table>\n"
      ],
      "text/latex": [
       "A data.frame: 5 × 12\n",
       "\\begin{tabular}{r|llllllllllll}\n",
       "  & ZIP.CODE & WARD & POLICE.DISTRICT & LICENSE.CODE & APPLICATION.TYPE & CONDITIONAL.APPROVAL & LICENSE.TERM.START.DATE & LICENSE.TERM.EXPIRATION.DATE & LICENSE.STATUS & SSA & Community.Areas & Census.Tracts\\\\\n",
       "  & <chr> & <int> & <int> & <int> & <chr> & <chr> & <chr> & <chr> & <chr> & <int> & <int> & <int>\\\\\n",
       "\\hline\n",
       "\t1 & 60613 & 46 & 19 & 1470 & RENEW & N & 06/16/2022 & 06/15/2024 & AAI & 34 & 31 & 577\\\\\n",
       "\t2 & 60613 & 44 & 19 & 1050 & RENEW & N & 06/16/2020 & 06/15/2022 & AAI & 17 & 57 & 691\\\\\n",
       "\t3 & 60613 & 46 & 19 & 1781 & RENEW & N & 06/16/2022 & 06/15/2023 & AAI & 18 & 57 &  83\\\\\n",
       "\t4 & 60625 & 47 & 19 & 4409 & ISSUE & N & 08/08/2022 & 08/13/2022 & AAI & 21 &  6 & 667\\\\\n",
       "\t5 & 60632 & 12 &  9 & 1010 & ISSUE & N & 05/11/2022 & 05/15/2024 & AAI & 39 & 55 & 196\\\\\n",
       "\\end{tabular}\n"
      ],
      "text/markdown": [
       "\n",
       "A data.frame: 5 × 12\n",
       "\n",
       "| <!--/--> | ZIP.CODE &lt;chr&gt; | WARD &lt;int&gt; | POLICE.DISTRICT &lt;int&gt; | LICENSE.CODE &lt;int&gt; | APPLICATION.TYPE &lt;chr&gt; | CONDITIONAL.APPROVAL &lt;chr&gt; | LICENSE.TERM.START.DATE &lt;chr&gt; | LICENSE.TERM.EXPIRATION.DATE &lt;chr&gt; | LICENSE.STATUS &lt;chr&gt; | SSA &lt;int&gt; | Community.Areas &lt;int&gt; | Census.Tracts &lt;int&gt; |\n",
       "|---|---|---|---|---|---|---|---|---|---|---|---|---|\n",
       "| 1 | 60613 | 46 | 19 | 1470 | RENEW | N | 06/16/2022 | 06/15/2024 | AAI | 34 | 31 | 577 |\n",
       "| 2 | 60613 | 44 | 19 | 1050 | RENEW | N | 06/16/2020 | 06/15/2022 | AAI | 17 | 57 | 691 |\n",
       "| 3 | 60613 | 46 | 19 | 1781 | RENEW | N | 06/16/2022 | 06/15/2023 | AAI | 18 | 57 |  83 |\n",
       "| 4 | 60625 | 47 | 19 | 4409 | ISSUE | N | 08/08/2022 | 08/13/2022 | AAI | 21 |  6 | 667 |\n",
       "| 5 | 60632 | 12 |  9 | 1010 | ISSUE | N | 05/11/2022 | 05/15/2024 | AAI | 39 | 55 | 196 |\n",
       "\n"
      ],
      "text/plain": [
       "  ZIP.CODE WARD POLICE.DISTRICT LICENSE.CODE APPLICATION.TYPE\n",
       "1 60613    46   19              1470         RENEW           \n",
       "2 60613    44   19              1050         RENEW           \n",
       "3 60613    46   19              1781         RENEW           \n",
       "4 60625    47   19              4409         ISSUE           \n",
       "5 60632    12    9              1010         ISSUE           \n",
       "  CONDITIONAL.APPROVAL LICENSE.TERM.START.DATE LICENSE.TERM.EXPIRATION.DATE\n",
       "1 N                    06/16/2022              06/15/2024                  \n",
       "2 N                    06/16/2020              06/15/2022                  \n",
       "3 N                    06/16/2022              06/15/2023                  \n",
       "4 N                    08/08/2022              08/13/2022                  \n",
       "5 N                    05/11/2022              05/15/2024                  \n",
       "  LICENSE.STATUS SSA Community.Areas Census.Tracts\n",
       "1 AAI            34  31              577          \n",
       "2 AAI            17  57              691          \n",
       "3 AAI            18  57               83          \n",
       "4 AAI            21   6              667          \n",
       "5 AAI            39  55              196          "
      ]
     },
     "metadata": {},
     "output_type": "display_data"
    }
   ],
   "source": [
    "# unimportant features based on the eda\n",
    "drop_columns <- c(\"ID\", \"LEGAL.NAME\", \"DOING.BUSINESS.AS.NAME\", \"ADDRESS\", \"STATE\", \n",
    "                  \"WARD.PRECINCT\", \"LICENSE.DESCRIPTION\", \"BUSINESS.ACTIVITY\",\n",
    "                  \"LICENSE.NUMBER\", \"APPLICATION.CREATED.DATE\", \"LICENSE.STATUS.CHANGE.DATE\",\n",
    "                  \"LATITUDE\", \"LONGITUDE\", \"LOCATION\", \"LICENSE.APPROVED.FOR.ISSUANCE\", \"DATE.ISSUED\",\n",
    "                  \"APPLICATION.REQUIREMENTS.COMPLETE\", \"PAYMENT.DATE\", \"LICENSE.ID\", \"ACCOUNT.NUMBER\", \n",
    "                  \"SITE.NUMBER\", \"CITY\", \"PRECINCT\", \"BUSINESS.ACTIVITY.ID\", \"Historical.Wards.2003.2015\",\n",
    "                  \"Zip.Codes\", \"Wards\")\n",
    "data <- data[, !(names(data) %in% drop_columns)]\n",
    "head(data, 5)"
   ]
  },
  {
   "cell_type": "code",
   "execution_count": 27,
   "id": "ae9e2b34",
   "metadata": {},
   "outputs": [
    {
     "data": {
      "text/html": [
       "<table class=\"dataframe\">\n",
       "<caption>A data.frame: 5 × 12</caption>\n",
       "<thead>\n",
       "\t<tr><th></th><th scope=col>ZIP.CODE</th><th scope=col>WARD</th><th scope=col>POLICE.DISTRICT</th><th scope=col>LICENSE.CODE</th><th scope=col>APPLICATION.TYPE</th><th scope=col>CONDITIONAL.APPROVAL</th><th scope=col>LICENSE.TERM.START.DATE</th><th scope=col>LICENSE.TERM.EXPIRATION.DATE</th><th scope=col>LICENSE.STATUS</th><th scope=col>SSA</th><th scope=col>Community.Areas</th><th scope=col>Census.Tracts</th></tr>\n",
       "\t<tr><th></th><th scope=col>&lt;chr&gt;</th><th scope=col>&lt;int&gt;</th><th scope=col>&lt;int&gt;</th><th scope=col>&lt;int&gt;</th><th scope=col>&lt;chr&gt;</th><th scope=col>&lt;chr&gt;</th><th scope=col>&lt;chr&gt;</th><th scope=col>&lt;chr&gt;</th><th scope=col>&lt;chr&gt;</th><th scope=col>&lt;int&gt;</th><th scope=col>&lt;int&gt;</th><th scope=col>&lt;int&gt;</th></tr>\n",
       "</thead>\n",
       "<tbody>\n",
       "\t<tr><th scope=row>1</th><td>60613</td><td>46</td><td>19</td><td>1470</td><td>RENEW</td><td>N</td><td>06/16/2022</td><td>06/15/2024</td><td>AAI</td><td>34</td><td>31</td><td>577</td></tr>\n",
       "\t<tr><th scope=row>2</th><td>60613</td><td>44</td><td>19</td><td>1050</td><td>RENEW</td><td>N</td><td>06/16/2020</td><td>06/15/2022</td><td>AAI</td><td>17</td><td>57</td><td>691</td></tr>\n",
       "\t<tr><th scope=row>3</th><td>60613</td><td>46</td><td>19</td><td>1781</td><td>RENEW</td><td>N</td><td>06/16/2022</td><td>06/15/2023</td><td>AAI</td><td>18</td><td>57</td><td> 83</td></tr>\n",
       "\t<tr><th scope=row>4</th><td>60625</td><td>47</td><td>19</td><td>4409</td><td>ISSUE</td><td>N</td><td>08/08/2022</td><td>08/13/2022</td><td>AAI</td><td>21</td><td> 6</td><td>667</td></tr>\n",
       "\t<tr><th scope=row>5</th><td>60632</td><td>12</td><td> 9</td><td>1010</td><td>ISSUE</td><td>N</td><td>05/11/2022</td><td>05/15/2024</td><td>AAI</td><td>39</td><td>55</td><td>196</td></tr>\n",
       "</tbody>\n",
       "</table>\n"
      ],
      "text/latex": [
       "A data.frame: 5 × 12\n",
       "\\begin{tabular}{r|llllllllllll}\n",
       "  & ZIP.CODE & WARD & POLICE.DISTRICT & LICENSE.CODE & APPLICATION.TYPE & CONDITIONAL.APPROVAL & LICENSE.TERM.START.DATE & LICENSE.TERM.EXPIRATION.DATE & LICENSE.STATUS & SSA & Community.Areas & Census.Tracts\\\\\n",
       "  & <chr> & <int> & <int> & <int> & <chr> & <chr> & <chr> & <chr> & <chr> & <int> & <int> & <int>\\\\\n",
       "\\hline\n",
       "\t1 & 60613 & 46 & 19 & 1470 & RENEW & N & 06/16/2022 & 06/15/2024 & AAI & 34 & 31 & 577\\\\\n",
       "\t2 & 60613 & 44 & 19 & 1050 & RENEW & N & 06/16/2020 & 06/15/2022 & AAI & 17 & 57 & 691\\\\\n",
       "\t3 & 60613 & 46 & 19 & 1781 & RENEW & N & 06/16/2022 & 06/15/2023 & AAI & 18 & 57 &  83\\\\\n",
       "\t4 & 60625 & 47 & 19 & 4409 & ISSUE & N & 08/08/2022 & 08/13/2022 & AAI & 21 &  6 & 667\\\\\n",
       "\t5 & 60632 & 12 &  9 & 1010 & ISSUE & N & 05/11/2022 & 05/15/2024 & AAI & 39 & 55 & 196\\\\\n",
       "\\end{tabular}\n"
      ],
      "text/markdown": [
       "\n",
       "A data.frame: 5 × 12\n",
       "\n",
       "| <!--/--> | ZIP.CODE &lt;chr&gt; | WARD &lt;int&gt; | POLICE.DISTRICT &lt;int&gt; | LICENSE.CODE &lt;int&gt; | APPLICATION.TYPE &lt;chr&gt; | CONDITIONAL.APPROVAL &lt;chr&gt; | LICENSE.TERM.START.DATE &lt;chr&gt; | LICENSE.TERM.EXPIRATION.DATE &lt;chr&gt; | LICENSE.STATUS &lt;chr&gt; | SSA &lt;int&gt; | Community.Areas &lt;int&gt; | Census.Tracts &lt;int&gt; |\n",
       "|---|---|---|---|---|---|---|---|---|---|---|---|---|\n",
       "| 1 | 60613 | 46 | 19 | 1470 | RENEW | N | 06/16/2022 | 06/15/2024 | AAI | 34 | 31 | 577 |\n",
       "| 2 | 60613 | 44 | 19 | 1050 | RENEW | N | 06/16/2020 | 06/15/2022 | AAI | 17 | 57 | 691 |\n",
       "| 3 | 60613 | 46 | 19 | 1781 | RENEW | N | 06/16/2022 | 06/15/2023 | AAI | 18 | 57 |  83 |\n",
       "| 4 | 60625 | 47 | 19 | 4409 | ISSUE | N | 08/08/2022 | 08/13/2022 | AAI | 21 |  6 | 667 |\n",
       "| 5 | 60632 | 12 |  9 | 1010 | ISSUE | N | 05/11/2022 | 05/15/2024 | AAI | 39 | 55 | 196 |\n",
       "\n"
      ],
      "text/plain": [
       "  ZIP.CODE WARD POLICE.DISTRICT LICENSE.CODE APPLICATION.TYPE\n",
       "1 60613    46   19              1470         RENEW           \n",
       "2 60613    44   19              1050         RENEW           \n",
       "3 60613    46   19              1781         RENEW           \n",
       "4 60625    47   19              4409         ISSUE           \n",
       "5 60632    12    9              1010         ISSUE           \n",
       "  CONDITIONAL.APPROVAL LICENSE.TERM.START.DATE LICENSE.TERM.EXPIRATION.DATE\n",
       "1 N                    06/16/2022              06/15/2024                  \n",
       "2 N                    06/16/2020              06/15/2022                  \n",
       "3 N                    06/16/2022              06/15/2023                  \n",
       "4 N                    08/08/2022              08/13/2022                  \n",
       "5 N                    05/11/2022              05/15/2024                  \n",
       "  LICENSE.STATUS SSA Community.Areas Census.Tracts\n",
       "1 AAI            34  31              577          \n",
       "2 AAI            17  57              691          \n",
       "3 AAI            18  57               83          \n",
       "4 AAI            21   6              667          \n",
       "5 AAI            39  55              196          "
      ]
     },
     "metadata": {},
     "output_type": "display_data"
    }
   ],
   "source": [
    "# drop empty fields\n",
    "data <- data %>% filter(LICENSE.TERM.START.DATE != \"\")\n",
    "data <- data %>% filter(LICENSE.TERM.EXPIRATION.DATE != \"\")\n",
    "data <- data %>% filter(ZIP.CODE != \"\")\n",
    "head(data, 5)"
   ]
  },
  {
   "cell_type": "code",
   "execution_count": 28,
   "id": "403a21c0",
   "metadata": {},
   "outputs": [
    {
     "data": {
      "text/html": [
       "<table class=\"dataframe\">\n",
       "<caption>A data.frame: 5 × 11</caption>\n",
       "<thead>\n",
       "\t<tr><th></th><th scope=col>ZIP.CODE</th><th scope=col>WARD</th><th scope=col>POLICE.DISTRICT</th><th scope=col>LICENSE.CODE</th><th scope=col>APPLICATION.TYPE</th><th scope=col>CONDITIONAL.APPROVAL</th><th scope=col>LICENSE.STATUS</th><th scope=col>SSA</th><th scope=col>Community.Areas</th><th scope=col>Census.Tracts</th><th scope=col>LICENSE.TERM</th></tr>\n",
       "\t<tr><th></th><th scope=col>&lt;chr&gt;</th><th scope=col>&lt;int&gt;</th><th scope=col>&lt;int&gt;</th><th scope=col>&lt;int&gt;</th><th scope=col>&lt;chr&gt;</th><th scope=col>&lt;chr&gt;</th><th scope=col>&lt;chr&gt;</th><th scope=col>&lt;int&gt;</th><th scope=col>&lt;int&gt;</th><th scope=col>&lt;int&gt;</th><th scope=col>&lt;dbl&gt;</th></tr>\n",
       "</thead>\n",
       "<tbody>\n",
       "\t<tr><th scope=row>1</th><td>60613</td><td>46</td><td>19</td><td>1470</td><td>RENEW</td><td>N</td><td>AAI</td><td>34</td><td>31</td><td>577</td><td>730</td></tr>\n",
       "\t<tr><th scope=row>2</th><td>60613</td><td>44</td><td>19</td><td>1050</td><td>RENEW</td><td>N</td><td>AAI</td><td>17</td><td>57</td><td>691</td><td>729</td></tr>\n",
       "\t<tr><th scope=row>3</th><td>60613</td><td>46</td><td>19</td><td>1781</td><td>RENEW</td><td>N</td><td>AAI</td><td>18</td><td>57</td><td> 83</td><td>364</td></tr>\n",
       "\t<tr><th scope=row>4</th><td>60625</td><td>47</td><td>19</td><td>4409</td><td>ISSUE</td><td>N</td><td>AAI</td><td>21</td><td> 6</td><td>667</td><td>  5</td></tr>\n",
       "\t<tr><th scope=row>5</th><td>60632</td><td>12</td><td> 9</td><td>1010</td><td>ISSUE</td><td>N</td><td>AAI</td><td>39</td><td>55</td><td>196</td><td>735</td></tr>\n",
       "</tbody>\n",
       "</table>\n"
      ],
      "text/latex": [
       "A data.frame: 5 × 11\n",
       "\\begin{tabular}{r|lllllllllll}\n",
       "  & ZIP.CODE & WARD & POLICE.DISTRICT & LICENSE.CODE & APPLICATION.TYPE & CONDITIONAL.APPROVAL & LICENSE.STATUS & SSA & Community.Areas & Census.Tracts & LICENSE.TERM\\\\\n",
       "  & <chr> & <int> & <int> & <int> & <chr> & <chr> & <chr> & <int> & <int> & <int> & <dbl>\\\\\n",
       "\\hline\n",
       "\t1 & 60613 & 46 & 19 & 1470 & RENEW & N & AAI & 34 & 31 & 577 & 730\\\\\n",
       "\t2 & 60613 & 44 & 19 & 1050 & RENEW & N & AAI & 17 & 57 & 691 & 729\\\\\n",
       "\t3 & 60613 & 46 & 19 & 1781 & RENEW & N & AAI & 18 & 57 &  83 & 364\\\\\n",
       "\t4 & 60625 & 47 & 19 & 4409 & ISSUE & N & AAI & 21 &  6 & 667 &   5\\\\\n",
       "\t5 & 60632 & 12 &  9 & 1010 & ISSUE & N & AAI & 39 & 55 & 196 & 735\\\\\n",
       "\\end{tabular}\n"
      ],
      "text/markdown": [
       "\n",
       "A data.frame: 5 × 11\n",
       "\n",
       "| <!--/--> | ZIP.CODE &lt;chr&gt; | WARD &lt;int&gt; | POLICE.DISTRICT &lt;int&gt; | LICENSE.CODE &lt;int&gt; | APPLICATION.TYPE &lt;chr&gt; | CONDITIONAL.APPROVAL &lt;chr&gt; | LICENSE.STATUS &lt;chr&gt; | SSA &lt;int&gt; | Community.Areas &lt;int&gt; | Census.Tracts &lt;int&gt; | LICENSE.TERM &lt;dbl&gt; |\n",
       "|---|---|---|---|---|---|---|---|---|---|---|---|\n",
       "| 1 | 60613 | 46 | 19 | 1470 | RENEW | N | AAI | 34 | 31 | 577 | 730 |\n",
       "| 2 | 60613 | 44 | 19 | 1050 | RENEW | N | AAI | 17 | 57 | 691 | 729 |\n",
       "| 3 | 60613 | 46 | 19 | 1781 | RENEW | N | AAI | 18 | 57 |  83 | 364 |\n",
       "| 4 | 60625 | 47 | 19 | 4409 | ISSUE | N | AAI | 21 |  6 | 667 |   5 |\n",
       "| 5 | 60632 | 12 |  9 | 1010 | ISSUE | N | AAI | 39 | 55 | 196 | 735 |\n",
       "\n"
      ],
      "text/plain": [
       "  ZIP.CODE WARD POLICE.DISTRICT LICENSE.CODE APPLICATION.TYPE\n",
       "1 60613    46   19              1470         RENEW           \n",
       "2 60613    44   19              1050         RENEW           \n",
       "3 60613    46   19              1781         RENEW           \n",
       "4 60625    47   19              4409         ISSUE           \n",
       "5 60632    12    9              1010         ISSUE           \n",
       "  CONDITIONAL.APPROVAL LICENSE.STATUS SSA Community.Areas Census.Tracts\n",
       "1 N                    AAI            34  31              577          \n",
       "2 N                    AAI            17  57              691          \n",
       "3 N                    AAI            18  57               83          \n",
       "4 N                    AAI            21   6              667          \n",
       "5 N                    AAI            39  55              196          \n",
       "  LICENSE.TERM\n",
       "1 730         \n",
       "2 729         \n",
       "3 364         \n",
       "4   5         \n",
       "5 735         "
      ]
     },
     "metadata": {},
     "output_type": "display_data"
    }
   ],
   "source": [
    "# Convert \"DateColumn\" to date format\n",
    "data$LICENSE.TERM.START.DATE <- as.Date(data$LICENSE.TERM.START.DATE, format = \"%m/%d/%Y\")\n",
    "data$LICENSE.TERM.EXPIRATION.DATE <- as.Date(data$LICENSE.TERM.EXPIRATION.DATE, format = \"%m/%d/%Y\")\n",
    "# Calculate the number of days between the two date columns - License term\n",
    "data$LICENSE.TERM <- as.numeric(data$LICENSE.TERM.EXPIRATION.DATE - data$LICENSE.TERM.START.DATE)\n",
    "data <- data[, !(names(data) %in% c(\"LICENSE.TERM.EXPIRATION.DATE\", \"LICENSE.TERM.START.DATE\"))]\n",
    "head(data, 5)"
   ]
  },
  {
   "cell_type": "markdown",
   "id": "07104268",
   "metadata": {},
   "source": [
    "### Train and Test Data Preparation"
   ]
  },
  {
   "cell_type": "code",
   "execution_count": 29,
   "id": "d15ec5fc",
   "metadata": {},
   "outputs": [],
   "source": [
    "set.seed(123)\n",
    "\n",
    "# Define the proportion for random sampling\n",
    "sample_proportion <- 0.7  # Proportion for random sampling\n",
    "\n",
    "# Stratify the data\n",
    "stratified_data <- data %>% group_by(CONDITIONAL.APPROVAL) %>%\n",
    "  sample_frac(sample_proportion)\n",
    "\n",
    "# Create training and testing sets\n",
    "train_data <- stratified_data\n",
    "test_data <- data[!rownames(data) %in% rownames(train_data), ]"
   ]
  },
  {
   "cell_type": "code",
   "execution_count": 30,
   "id": "11e1f6a2",
   "metadata": {},
   "outputs": [
    {
     "data": {
      "text/html": [
       "<table class=\"dataframe\">\n",
       "<caption>A grouped_df: 5 × 11</caption>\n",
       "<thead>\n",
       "\t<tr><th scope=col>ZIP.CODE</th><th scope=col>WARD</th><th scope=col>POLICE.DISTRICT</th><th scope=col>LICENSE.CODE</th><th scope=col>APPLICATION.TYPE</th><th scope=col>CONDITIONAL.APPROVAL</th><th scope=col>LICENSE.STATUS</th><th scope=col>SSA</th><th scope=col>Community.Areas</th><th scope=col>Census.Tracts</th><th scope=col>LICENSE.TERM</th></tr>\n",
       "\t<tr><th scope=col>&lt;chr&gt;</th><th scope=col>&lt;int&gt;</th><th scope=col>&lt;int&gt;</th><th scope=col>&lt;int&gt;</th><th scope=col>&lt;chr&gt;</th><th scope=col>&lt;chr&gt;</th><th scope=col>&lt;chr&gt;</th><th scope=col>&lt;int&gt;</th><th scope=col>&lt;int&gt;</th><th scope=col>&lt;int&gt;</th><th scope=col>&lt;dbl&gt;</th></tr>\n",
       "</thead>\n",
       "<tbody>\n",
       "\t<tr><td>60609</td><td>15</td><td> 9</td><td>1006</td><td>ISSUE</td><td>N</td><td>AAI</td><td>10</td><td>59</td><td>709</td><td>266</td></tr>\n",
       "\t<tr><td>60661</td><td>27</td><td>12</td><td>1476</td><td>ISSUE</td><td>N</td><td>AAI</td><td>16</td><td>29</td><td> 91</td><td>  3</td></tr>\n",
       "\t<tr><td>60617</td><td> 8</td><td> 4</td><td>1010</td><td>RENEW</td><td>N</td><td>AAI</td><td>50</td><td>44</td><td>491</td><td>729</td></tr>\n",
       "\t<tr><td>60647</td><td> 1</td><td>14</td><td>1472</td><td>RENEW</td><td>N</td><td>AAI</td><td>33</td><td>25</td><td>481</td><td>730</td></tr>\n",
       "\t<tr><td>60601</td><td>42</td><td> 1</td><td>1006</td><td>ISSUE</td><td>N</td><td>AAI</td><td> 1</td><td>38</td><td> 92</td><td> 83</td></tr>\n",
       "</tbody>\n",
       "</table>\n"
      ],
      "text/latex": [
       "A grouped\\_df: 5 × 11\n",
       "\\begin{tabular}{lllllllllll}\n",
       " ZIP.CODE & WARD & POLICE.DISTRICT & LICENSE.CODE & APPLICATION.TYPE & CONDITIONAL.APPROVAL & LICENSE.STATUS & SSA & Community.Areas & Census.Tracts & LICENSE.TERM\\\\\n",
       " <chr> & <int> & <int> & <int> & <chr> & <chr> & <chr> & <int> & <int> & <int> & <dbl>\\\\\n",
       "\\hline\n",
       "\t 60609 & 15 &  9 & 1006 & ISSUE & N & AAI & 10 & 59 & 709 & 266\\\\\n",
       "\t 60661 & 27 & 12 & 1476 & ISSUE & N & AAI & 16 & 29 &  91 &   3\\\\\n",
       "\t 60617 &  8 &  4 & 1010 & RENEW & N & AAI & 50 & 44 & 491 & 729\\\\\n",
       "\t 60647 &  1 & 14 & 1472 & RENEW & N & AAI & 33 & 25 & 481 & 730\\\\\n",
       "\t 60601 & 42 &  1 & 1006 & ISSUE & N & AAI &  1 & 38 &  92 &  83\\\\\n",
       "\\end{tabular}\n"
      ],
      "text/markdown": [
       "\n",
       "A grouped_df: 5 × 11\n",
       "\n",
       "| ZIP.CODE &lt;chr&gt; | WARD &lt;int&gt; | POLICE.DISTRICT &lt;int&gt; | LICENSE.CODE &lt;int&gt; | APPLICATION.TYPE &lt;chr&gt; | CONDITIONAL.APPROVAL &lt;chr&gt; | LICENSE.STATUS &lt;chr&gt; | SSA &lt;int&gt; | Community.Areas &lt;int&gt; | Census.Tracts &lt;int&gt; | LICENSE.TERM &lt;dbl&gt; |\n",
       "|---|---|---|---|---|---|---|---|---|---|---|\n",
       "| 60609 | 15 |  9 | 1006 | ISSUE | N | AAI | 10 | 59 | 709 | 266 |\n",
       "| 60661 | 27 | 12 | 1476 | ISSUE | N | AAI | 16 | 29 |  91 |   3 |\n",
       "| 60617 |  8 |  4 | 1010 | RENEW | N | AAI | 50 | 44 | 491 | 729 |\n",
       "| 60647 |  1 | 14 | 1472 | RENEW | N | AAI | 33 | 25 | 481 | 730 |\n",
       "| 60601 | 42 |  1 | 1006 | ISSUE | N | AAI |  1 | 38 |  92 |  83 |\n",
       "\n"
      ],
      "text/plain": [
       "  ZIP.CODE WARD POLICE.DISTRICT LICENSE.CODE APPLICATION.TYPE\n",
       "1 60609    15    9              1006         ISSUE           \n",
       "2 60661    27   12              1476         ISSUE           \n",
       "3 60617     8    4              1010         RENEW           \n",
       "4 60647     1   14              1472         RENEW           \n",
       "5 60601    42    1              1006         ISSUE           \n",
       "  CONDITIONAL.APPROVAL LICENSE.STATUS SSA Community.Areas Census.Tracts\n",
       "1 N                    AAI            10  59              709          \n",
       "2 N                    AAI            16  29               91          \n",
       "3 N                    AAI            50  44              491          \n",
       "4 N                    AAI            33  25              481          \n",
       "5 N                    AAI             1  38               92          \n",
       "  LICENSE.TERM\n",
       "1 266         \n",
       "2   3         \n",
       "3 729         \n",
       "4 730         \n",
       "5  83         "
      ]
     },
     "metadata": {},
     "output_type": "display_data"
    }
   ],
   "source": [
    "head(train_data, 5)"
   ]
  },
  {
   "cell_type": "code",
   "execution_count": 31,
   "id": "d1dc7591",
   "metadata": {},
   "outputs": [
    {
     "data": {
      "text/html": [
       "<table class=\"dataframe\">\n",
       "<caption>A data.frame: 5 × 11</caption>\n",
       "<thead>\n",
       "\t<tr><th></th><th scope=col>ZIP.CODE</th><th scope=col>WARD</th><th scope=col>POLICE.DISTRICT</th><th scope=col>LICENSE.CODE</th><th scope=col>APPLICATION.TYPE</th><th scope=col>CONDITIONAL.APPROVAL</th><th scope=col>LICENSE.STATUS</th><th scope=col>SSA</th><th scope=col>Community.Areas</th><th scope=col>Census.Tracts</th><th scope=col>LICENSE.TERM</th></tr>\n",
       "\t<tr><th></th><th scope=col>&lt;chr&gt;</th><th scope=col>&lt;int&gt;</th><th scope=col>&lt;int&gt;</th><th scope=col>&lt;int&gt;</th><th scope=col>&lt;chr&gt;</th><th scope=col>&lt;chr&gt;</th><th scope=col>&lt;chr&gt;</th><th scope=col>&lt;int&gt;</th><th scope=col>&lt;int&gt;</th><th scope=col>&lt;int&gt;</th><th scope=col>&lt;dbl&gt;</th></tr>\n",
       "</thead>\n",
       "<tbody>\n",
       "\t<tr><th scope=row>191460</th><td>60653</td><td> 4</td><td> 2</td><td>1012</td><td>ISSUE</td><td>N</td><td>AAI</td><td>47</td><td> 5</td><td>395</td><td>230</td></tr>\n",
       "\t<tr><th scope=row>191461</th><td>60619</td><td> 8</td><td> 4</td><td>1006</td><td>RENEW</td><td>N</td><td>AAI</td><td>50</td><td>44</td><td>490</td><td>729</td></tr>\n",
       "\t<tr><th scope=row>191462</th><td>60659</td><td>50</td><td>24</td><td>1010</td><td>RENEW</td><td>N</td><td>AAI</td><td>43</td><td>20</td><td> 31</td><td>729</td></tr>\n",
       "\t<tr><th scope=row>191463</th><td>60619</td><td> 8</td><td> 6</td><td>1010</td><td>ISSUE</td><td>N</td><td>AAI</td><td>51</td><td>40</td><td>141</td><td>751</td></tr>\n",
       "\t<tr><th scope=row>191464</th><td>60643</td><td>19</td><td>22</td><td>1010</td><td>RENEW</td><td>N</td><td>AAI</td><td>20</td><td>74</td><td>379</td><td>364</td></tr>\n",
       "</tbody>\n",
       "</table>\n"
      ],
      "text/latex": [
       "A data.frame: 5 × 11\n",
       "\\begin{tabular}{r|lllllllllll}\n",
       "  & ZIP.CODE & WARD & POLICE.DISTRICT & LICENSE.CODE & APPLICATION.TYPE & CONDITIONAL.APPROVAL & LICENSE.STATUS & SSA & Community.Areas & Census.Tracts & LICENSE.TERM\\\\\n",
       "  & <chr> & <int> & <int> & <int> & <chr> & <chr> & <chr> & <int> & <int> & <int> & <dbl>\\\\\n",
       "\\hline\n",
       "\t191460 & 60653 &  4 &  2 & 1012 & ISSUE & N & AAI & 47 &  5 & 395 & 230\\\\\n",
       "\t191461 & 60619 &  8 &  4 & 1006 & RENEW & N & AAI & 50 & 44 & 490 & 729\\\\\n",
       "\t191462 & 60659 & 50 & 24 & 1010 & RENEW & N & AAI & 43 & 20 &  31 & 729\\\\\n",
       "\t191463 & 60619 &  8 &  6 & 1010 & ISSUE & N & AAI & 51 & 40 & 141 & 751\\\\\n",
       "\t191464 & 60643 & 19 & 22 & 1010 & RENEW & N & AAI & 20 & 74 & 379 & 364\\\\\n",
       "\\end{tabular}\n"
      ],
      "text/markdown": [
       "\n",
       "A data.frame: 5 × 11\n",
       "\n",
       "| <!--/--> | ZIP.CODE &lt;chr&gt; | WARD &lt;int&gt; | POLICE.DISTRICT &lt;int&gt; | LICENSE.CODE &lt;int&gt; | APPLICATION.TYPE &lt;chr&gt; | CONDITIONAL.APPROVAL &lt;chr&gt; | LICENSE.STATUS &lt;chr&gt; | SSA &lt;int&gt; | Community.Areas &lt;int&gt; | Census.Tracts &lt;int&gt; | LICENSE.TERM &lt;dbl&gt; |\n",
       "|---|---|---|---|---|---|---|---|---|---|---|---|\n",
       "| 191460 | 60653 |  4 |  2 | 1012 | ISSUE | N | AAI | 47 |  5 | 395 | 230 |\n",
       "| 191461 | 60619 |  8 |  4 | 1006 | RENEW | N | AAI | 50 | 44 | 490 | 729 |\n",
       "| 191462 | 60659 | 50 | 24 | 1010 | RENEW | N | AAI | 43 | 20 |  31 | 729 |\n",
       "| 191463 | 60619 |  8 |  6 | 1010 | ISSUE | N | AAI | 51 | 40 | 141 | 751 |\n",
       "| 191464 | 60643 | 19 | 22 | 1010 | RENEW | N | AAI | 20 | 74 | 379 | 364 |\n",
       "\n"
      ],
      "text/plain": [
       "       ZIP.CODE WARD POLICE.DISTRICT LICENSE.CODE APPLICATION.TYPE\n",
       "191460 60653     4    2              1012         ISSUE           \n",
       "191461 60619     8    4              1006         RENEW           \n",
       "191462 60659    50   24              1010         RENEW           \n",
       "191463 60619     8    6              1010         ISSUE           \n",
       "191464 60643    19   22              1010         RENEW           \n",
       "       CONDITIONAL.APPROVAL LICENSE.STATUS SSA Community.Areas Census.Tracts\n",
       "191460 N                    AAI            47   5              395          \n",
       "191461 N                    AAI            50  44              490          \n",
       "191462 N                    AAI            43  20               31          \n",
       "191463 N                    AAI            51  40              141          \n",
       "191464 N                    AAI            20  74              379          \n",
       "       LICENSE.TERM\n",
       "191460 230         \n",
       "191461 729         \n",
       "191462 729         \n",
       "191463 751         \n",
       "191464 364         "
      ]
     },
     "metadata": {},
     "output_type": "display_data"
    }
   ],
   "source": [
    "head(test_data, 5)"
   ]
  },
  {
   "cell_type": "code",
   "execution_count": 32,
   "id": "f03c1dfd",
   "metadata": {},
   "outputs": [
    {
     "name": "stdout",
     "output_type": "stream",
     "text": [
      "Training data dimensions: 191459 11 \n",
      "Testing data dimensions: 82054 11 \n"
     ]
    }
   ],
   "source": [
    "# View the dimensions of the training and testing sets\n",
    "cat(\"Training data dimensions:\", dim(train_data), \"\\n\")\n",
    "cat(\"Testing data dimensions:\", dim(test_data), \"\\n\")"
   ]
  },
  {
   "cell_type": "markdown",
   "id": "5025b757",
   "metadata": {},
   "source": [
    "### Encoding "
   ]
  },
  {
   "cell_type": "code",
   "execution_count": 34,
   "id": "f7cbd661",
   "metadata": {},
   "outputs": [],
   "source": [
    "# Probability encoding function\n",
    "probability_encoding <- function(data, categorical_var, target_var) {\n",
    "  probabilities <- data %>%\n",
    "    group_by(.data[[categorical_var]]) %>%\n",
    "    summarise(Probability = mean(ifelse(.data[[target_var]] == \"Y\", 1, 0)), .groups = \"drop\") %>%\n",
    "    arrange(desc(Probability))\n",
    "  return(probabilities)\n",
    "}"
   ]
  },
  {
   "cell_type": "code",
   "execution_count": 35,
   "id": "868ccd15",
   "metadata": {},
   "outputs": [],
   "source": [
    "# probability encoding of the categorical features\n",
    "categorical_columns <- c(names(data[, !names(data) %in% c(\"CONDITIONAL.APPROVAL\", \"LICENSE.TERM\",\"APPLICATION.TYPE\")]))\n",
    "for (cols in categorical_columns) {\n",
    "  encoded <- probability_encoding(train_data, cols, \"CONDITIONAL.APPROVAL\")\n",
    "  train_data <- left_join(train_data, encoded, by = cols)\n",
    "  train_data <- train_data[, !(names(train_data) %in% c(cols))]\n",
    "  test_data <- left_join(test_data, encoded, by = cols)\n",
    "  test_data <- test_data[, !(names(test_data) %in% c(cols))]\n",
    "  names(train_data)[names(train_data) == \"Probability\"] <- cols\n",
    "  names(test_data)[names(test_data) == \"Probability\"] <- cols\n",
    "}"
   ]
  },
  {
   "cell_type": "code",
   "execution_count": 36,
   "id": "38a03bff",
   "metadata": {},
   "outputs": [],
   "source": [
    "dummies <- caret::dummyVars(\" ~ APPLICATION.TYPE\", data = train_data)\n",
    "train_dummies <- as.data.frame(predict(dummies, newdata = train_data))\n",
    "test_dummies <- as.data.frame(predict(dummies, newdata = test_data))\n",
    "train_data <- cbind(train_data,train_dummies)\n",
    "test_data <- cbind(test_data,test_dummies)\n",
    "train_data <- train_data[, !(names(train_data) %in% c( \"APPLICATION.TYPE\"))]\n",
    "test_data <- test_data[, !(names(test_data) %in% c( \"APPLICATION.TYPE\"))]"
   ]
  },
  {
   "cell_type": "code",
   "execution_count": 37,
   "id": "82746c70",
   "metadata": {},
   "outputs": [
    {
     "data": {
      "text/html": [
       "<table class=\"dataframe\">\n",
       "<caption>A grouped_df: 5 × 16</caption>\n",
       "<thead>\n",
       "\t<tr><th scope=col>CONDITIONAL.APPROVAL</th><th scope=col>LICENSE.TERM</th><th scope=col>ZIP.CODE</th><th scope=col>WARD</th><th scope=col>POLICE.DISTRICT</th><th scope=col>LICENSE.CODE</th><th scope=col>LICENSE.STATUS</th><th scope=col>SSA</th><th scope=col>Community.Areas</th><th scope=col>Census.Tracts</th><th scope=col>APPLICATION.TYPEC_CAPA</th><th scope=col>APPLICATION.TYPEC_EXPA</th><th scope=col>APPLICATION.TYPEC_LOC</th><th scope=col>APPLICATION.TYPEC_SBA</th><th scope=col>APPLICATION.TYPEISSUE</th><th scope=col>APPLICATION.TYPERENEW</th></tr>\n",
       "\t<tr><th scope=col>&lt;chr&gt;</th><th scope=col>&lt;dbl&gt;</th><th scope=col>&lt;dbl&gt;</th><th scope=col>&lt;dbl&gt;</th><th scope=col>&lt;dbl&gt;</th><th scope=col>&lt;dbl&gt;</th><th scope=col>&lt;dbl&gt;</th><th scope=col>&lt;dbl&gt;</th><th scope=col>&lt;dbl&gt;</th><th scope=col>&lt;dbl&gt;</th><th scope=col>&lt;dbl&gt;</th><th scope=col>&lt;dbl&gt;</th><th scope=col>&lt;dbl&gt;</th><th scope=col>&lt;dbl&gt;</th><th scope=col>&lt;dbl&gt;</th><th scope=col>&lt;dbl&gt;</th></tr>\n",
       "</thead>\n",
       "<tbody>\n",
       "\t<tr><td>N</td><td>266</td><td>0.0006350550</td><td>0.0008798944</td><td>0.0005248885</td><td>6.367365e-03</td><td>0.004168975</td><td>0.0001649621</td><td>0.000128783</td><td>0.000000000</td><td>0</td><td>0</td><td>0</td><td>0</td><td>1</td><td>0</td></tr>\n",
       "\t<tr><td>N</td><td>  3</td><td>0.0041152263</td><td>0.0077954475</td><td>0.0081512109</td><td>0.000000e+00</td><td>0.004168975</td><td>0.0035971223</td><td>0.003597122</td><td>0.005760369</td><td>0</td><td>0</td><td>0</td><td>0</td><td>1</td><td>0</td></tr>\n",
       "\t<tr><td>N</td><td>729</td><td>0.0006436387</td><td>0.0006581545</td><td>0.0008538668</td><td>3.720976e-05</td><td>0.004168975</td><td>0.0011307101</td><td>0.001493652</td><td>0.006968641</td><td>0</td><td>0</td><td>0</td><td>0</td><td>0</td><td>1</td></tr>\n",
       "\t<tr><td>N</td><td>730</td><td>0.0067411402</td><td>0.0121079226</td><td>0.0109575599</td><td>0.000000e+00</td><td>0.004168975</td><td>0.0107854805</td><td>0.010635667</td><td>0.021753909</td><td>0</td><td>0</td><td>0</td><td>0</td><td>0</td><td>1</td></tr>\n",
       "\t<tr><td>N</td><td> 83</td><td>0.0118918919</td><td>0.0120021822</td><td>0.0067395727</td><td>6.367365e-03</td><td>0.004168975</td><td>0.0067395727</td><td>0.006739573</td><td>0.009355509</td><td>0</td><td>0</td><td>0</td><td>0</td><td>1</td><td>0</td></tr>\n",
       "</tbody>\n",
       "</table>\n"
      ],
      "text/latex": [
       "A grouped\\_df: 5 × 16\n",
       "\\begin{tabular}{llllllllllllllll}\n",
       " CONDITIONAL.APPROVAL & LICENSE.TERM & ZIP.CODE & WARD & POLICE.DISTRICT & LICENSE.CODE & LICENSE.STATUS & SSA & Community.Areas & Census.Tracts & APPLICATION.TYPEC\\_CAPA & APPLICATION.TYPEC\\_EXPA & APPLICATION.TYPEC\\_LOC & APPLICATION.TYPEC\\_SBA & APPLICATION.TYPEISSUE & APPLICATION.TYPERENEW\\\\\n",
       " <chr> & <dbl> & <dbl> & <dbl> & <dbl> & <dbl> & <dbl> & <dbl> & <dbl> & <dbl> & <dbl> & <dbl> & <dbl> & <dbl> & <dbl> & <dbl>\\\\\n",
       "\\hline\n",
       "\t N & 266 & 0.0006350550 & 0.0008798944 & 0.0005248885 & 6.367365e-03 & 0.004168975 & 0.0001649621 & 0.000128783 & 0.000000000 & 0 & 0 & 0 & 0 & 1 & 0\\\\\n",
       "\t N &   3 & 0.0041152263 & 0.0077954475 & 0.0081512109 & 0.000000e+00 & 0.004168975 & 0.0035971223 & 0.003597122 & 0.005760369 & 0 & 0 & 0 & 0 & 1 & 0\\\\\n",
       "\t N & 729 & 0.0006436387 & 0.0006581545 & 0.0008538668 & 3.720976e-05 & 0.004168975 & 0.0011307101 & 0.001493652 & 0.006968641 & 0 & 0 & 0 & 0 & 0 & 1\\\\\n",
       "\t N & 730 & 0.0067411402 & 0.0121079226 & 0.0109575599 & 0.000000e+00 & 0.004168975 & 0.0107854805 & 0.010635667 & 0.021753909 & 0 & 0 & 0 & 0 & 0 & 1\\\\\n",
       "\t N &  83 & 0.0118918919 & 0.0120021822 & 0.0067395727 & 6.367365e-03 & 0.004168975 & 0.0067395727 & 0.006739573 & 0.009355509 & 0 & 0 & 0 & 0 & 1 & 0\\\\\n",
       "\\end{tabular}\n"
      ],
      "text/markdown": [
       "\n",
       "A grouped_df: 5 × 16\n",
       "\n",
       "| CONDITIONAL.APPROVAL &lt;chr&gt; | LICENSE.TERM &lt;dbl&gt; | ZIP.CODE &lt;dbl&gt; | WARD &lt;dbl&gt; | POLICE.DISTRICT &lt;dbl&gt; | LICENSE.CODE &lt;dbl&gt; | LICENSE.STATUS &lt;dbl&gt; | SSA &lt;dbl&gt; | Community.Areas &lt;dbl&gt; | Census.Tracts &lt;dbl&gt; | APPLICATION.TYPEC_CAPA &lt;dbl&gt; | APPLICATION.TYPEC_EXPA &lt;dbl&gt; | APPLICATION.TYPEC_LOC &lt;dbl&gt; | APPLICATION.TYPEC_SBA &lt;dbl&gt; | APPLICATION.TYPEISSUE &lt;dbl&gt; | APPLICATION.TYPERENEW &lt;dbl&gt; |\n",
       "|---|---|---|---|---|---|---|---|---|---|---|---|---|---|---|---|\n",
       "| N | 266 | 0.0006350550 | 0.0008798944 | 0.0005248885 | 6.367365e-03 | 0.004168975 | 0.0001649621 | 0.000128783 | 0.000000000 | 0 | 0 | 0 | 0 | 1 | 0 |\n",
       "| N |   3 | 0.0041152263 | 0.0077954475 | 0.0081512109 | 0.000000e+00 | 0.004168975 | 0.0035971223 | 0.003597122 | 0.005760369 | 0 | 0 | 0 | 0 | 1 | 0 |\n",
       "| N | 729 | 0.0006436387 | 0.0006581545 | 0.0008538668 | 3.720976e-05 | 0.004168975 | 0.0011307101 | 0.001493652 | 0.006968641 | 0 | 0 | 0 | 0 | 0 | 1 |\n",
       "| N | 730 | 0.0067411402 | 0.0121079226 | 0.0109575599 | 0.000000e+00 | 0.004168975 | 0.0107854805 | 0.010635667 | 0.021753909 | 0 | 0 | 0 | 0 | 0 | 1 |\n",
       "| N |  83 | 0.0118918919 | 0.0120021822 | 0.0067395727 | 6.367365e-03 | 0.004168975 | 0.0067395727 | 0.006739573 | 0.009355509 | 0 | 0 | 0 | 0 | 1 | 0 |\n",
       "\n"
      ],
      "text/plain": [
       "  CONDITIONAL.APPROVAL LICENSE.TERM ZIP.CODE     WARD         POLICE.DISTRICT\n",
       "1 N                    266          0.0006350550 0.0008798944 0.0005248885   \n",
       "2 N                      3          0.0041152263 0.0077954475 0.0081512109   \n",
       "3 N                    729          0.0006436387 0.0006581545 0.0008538668   \n",
       "4 N                    730          0.0067411402 0.0121079226 0.0109575599   \n",
       "5 N                     83          0.0118918919 0.0120021822 0.0067395727   \n",
       "  LICENSE.CODE LICENSE.STATUS SSA          Community.Areas Census.Tracts\n",
       "1 6.367365e-03 0.004168975    0.0001649621 0.000128783     0.000000000  \n",
       "2 0.000000e+00 0.004168975    0.0035971223 0.003597122     0.005760369  \n",
       "3 3.720976e-05 0.004168975    0.0011307101 0.001493652     0.006968641  \n",
       "4 0.000000e+00 0.004168975    0.0107854805 0.010635667     0.021753909  \n",
       "5 6.367365e-03 0.004168975    0.0067395727 0.006739573     0.009355509  \n",
       "  APPLICATION.TYPEC_CAPA APPLICATION.TYPEC_EXPA APPLICATION.TYPEC_LOC\n",
       "1 0                      0                      0                    \n",
       "2 0                      0                      0                    \n",
       "3 0                      0                      0                    \n",
       "4 0                      0                      0                    \n",
       "5 0                      0                      0                    \n",
       "  APPLICATION.TYPEC_SBA APPLICATION.TYPEISSUE APPLICATION.TYPERENEW\n",
       "1 0                     1                     0                    \n",
       "2 0                     1                     0                    \n",
       "3 0                     0                     1                    \n",
       "4 0                     0                     1                    \n",
       "5 0                     1                     0                    "
      ]
     },
     "metadata": {},
     "output_type": "display_data"
    }
   ],
   "source": [
    "head(train_data, 5)"
   ]
  },
  {
   "cell_type": "code",
   "execution_count": 38,
   "id": "fc9f33ed",
   "metadata": {},
   "outputs": [
    {
     "data": {
      "text/html": [
       "<table class=\"dataframe\">\n",
       "<caption>A data.frame: 5 × 16</caption>\n",
       "<thead>\n",
       "\t<tr><th></th><th scope=col>CONDITIONAL.APPROVAL</th><th scope=col>LICENSE.TERM</th><th scope=col>ZIP.CODE</th><th scope=col>WARD</th><th scope=col>POLICE.DISTRICT</th><th scope=col>LICENSE.CODE</th><th scope=col>LICENSE.STATUS</th><th scope=col>SSA</th><th scope=col>Community.Areas</th><th scope=col>Census.Tracts</th><th scope=col>APPLICATION.TYPEC_CAPA</th><th scope=col>APPLICATION.TYPEC_EXPA</th><th scope=col>APPLICATION.TYPEC_LOC</th><th scope=col>APPLICATION.TYPEC_SBA</th><th scope=col>APPLICATION.TYPEISSUE</th><th scope=col>APPLICATION.TYPERENEW</th></tr>\n",
       "\t<tr><th></th><th scope=col>&lt;chr&gt;</th><th scope=col>&lt;dbl&gt;</th><th scope=col>&lt;dbl&gt;</th><th scope=col>&lt;dbl&gt;</th><th scope=col>&lt;dbl&gt;</th><th scope=col>&lt;dbl&gt;</th><th scope=col>&lt;dbl&gt;</th><th scope=col>&lt;dbl&gt;</th><th scope=col>&lt;dbl&gt;</th><th scope=col>&lt;dbl&gt;</th><th scope=col>&lt;dbl&gt;</th><th scope=col>&lt;dbl&gt;</th><th scope=col>&lt;dbl&gt;</th><th scope=col>&lt;dbl&gt;</th><th scope=col>&lt;dbl&gt;</th><th scope=col>&lt;dbl&gt;</th></tr>\n",
       "</thead>\n",
       "<tbody>\n",
       "\t<tr><th scope=row>1</th><td>N</td><td>230</td><td>0.0009866798</td><td>0.0088737201</td><td>0.0065616798</td><td>0.000000e+00</td><td>0.004168975</td><td>0.0014673514</td><td>0.0014204545</td><td>0.000000000</td><td>0</td><td>0</td><td>0</td><td>0</td><td>1</td><td>0</td></tr>\n",
       "\t<tr><th scope=row>2</th><td>N</td><td>729</td><td>0.0005329070</td><td>0.0006581545</td><td>0.0008538668</td><td>6.367365e-03</td><td>0.004168975</td><td>0.0011307101</td><td>0.0014936520</td><td>0.000000000</td><td>0</td><td>0</td><td>0</td><td>0</td><td>0</td><td>1</td></tr>\n",
       "\t<tr><th scope=row>3</th><td>N</td><td>729</td><td>0.0000000000</td><td>0.0000000000</td><td>0.0025402202</td><td>3.720976e-05</td><td>0.004168975</td><td>0.0000000000</td><td>0.0000000000</td><td>0.000000000</td><td>0</td><td>0</td><td>0</td><td>0</td><td>0</td><td>1</td></tr>\n",
       "\t<tr><th scope=row>4</th><td>N</td><td>751</td><td>0.0005329070</td><td>0.0006581545</td><td>0.0002449780</td><td>3.720976e-05</td><td>0.004168975</td><td>0.0006372471</td><td>0.0002607562</td><td>0.000000000</td><td>0</td><td>0</td><td>0</td><td>0</td><td>1</td><td>0</td></tr>\n",
       "\t<tr><th scope=row>5</th><td>N</td><td>364</td><td>0.0015970796</td><td>0.0014806589</td><td>0.0009592326</td><td>3.720976e-05</td><td>0.004168975</td><td>0.0030131827</td><td>0.0016882386</td><td>0.002325581</td><td>0</td><td>0</td><td>0</td><td>0</td><td>0</td><td>1</td></tr>\n",
       "</tbody>\n",
       "</table>\n"
      ],
      "text/latex": [
       "A data.frame: 5 × 16\n",
       "\\begin{tabular}{r|llllllllllllllll}\n",
       "  & CONDITIONAL.APPROVAL & LICENSE.TERM & ZIP.CODE & WARD & POLICE.DISTRICT & LICENSE.CODE & LICENSE.STATUS & SSA & Community.Areas & Census.Tracts & APPLICATION.TYPEC\\_CAPA & APPLICATION.TYPEC\\_EXPA & APPLICATION.TYPEC\\_LOC & APPLICATION.TYPEC\\_SBA & APPLICATION.TYPEISSUE & APPLICATION.TYPERENEW\\\\\n",
       "  & <chr> & <dbl> & <dbl> & <dbl> & <dbl> & <dbl> & <dbl> & <dbl> & <dbl> & <dbl> & <dbl> & <dbl> & <dbl> & <dbl> & <dbl> & <dbl>\\\\\n",
       "\\hline\n",
       "\t1 & N & 230 & 0.0009866798 & 0.0088737201 & 0.0065616798 & 0.000000e+00 & 0.004168975 & 0.0014673514 & 0.0014204545 & 0.000000000 & 0 & 0 & 0 & 0 & 1 & 0\\\\\n",
       "\t2 & N & 729 & 0.0005329070 & 0.0006581545 & 0.0008538668 & 6.367365e-03 & 0.004168975 & 0.0011307101 & 0.0014936520 & 0.000000000 & 0 & 0 & 0 & 0 & 0 & 1\\\\\n",
       "\t3 & N & 729 & 0.0000000000 & 0.0000000000 & 0.0025402202 & 3.720976e-05 & 0.004168975 & 0.0000000000 & 0.0000000000 & 0.000000000 & 0 & 0 & 0 & 0 & 0 & 1\\\\\n",
       "\t4 & N & 751 & 0.0005329070 & 0.0006581545 & 0.0002449780 & 3.720976e-05 & 0.004168975 & 0.0006372471 & 0.0002607562 & 0.000000000 & 0 & 0 & 0 & 0 & 1 & 0\\\\\n",
       "\t5 & N & 364 & 0.0015970796 & 0.0014806589 & 0.0009592326 & 3.720976e-05 & 0.004168975 & 0.0030131827 & 0.0016882386 & 0.002325581 & 0 & 0 & 0 & 0 & 0 & 1\\\\\n",
       "\\end{tabular}\n"
      ],
      "text/markdown": [
       "\n",
       "A data.frame: 5 × 16\n",
       "\n",
       "| <!--/--> | CONDITIONAL.APPROVAL &lt;chr&gt; | LICENSE.TERM &lt;dbl&gt; | ZIP.CODE &lt;dbl&gt; | WARD &lt;dbl&gt; | POLICE.DISTRICT &lt;dbl&gt; | LICENSE.CODE &lt;dbl&gt; | LICENSE.STATUS &lt;dbl&gt; | SSA &lt;dbl&gt; | Community.Areas &lt;dbl&gt; | Census.Tracts &lt;dbl&gt; | APPLICATION.TYPEC_CAPA &lt;dbl&gt; | APPLICATION.TYPEC_EXPA &lt;dbl&gt; | APPLICATION.TYPEC_LOC &lt;dbl&gt; | APPLICATION.TYPEC_SBA &lt;dbl&gt; | APPLICATION.TYPEISSUE &lt;dbl&gt; | APPLICATION.TYPERENEW &lt;dbl&gt; |\n",
       "|---|---|---|---|---|---|---|---|---|---|---|---|---|---|---|---|---|\n",
       "| 1 | N | 230 | 0.0009866798 | 0.0088737201 | 0.0065616798 | 0.000000e+00 | 0.004168975 | 0.0014673514 | 0.0014204545 | 0.000000000 | 0 | 0 | 0 | 0 | 1 | 0 |\n",
       "| 2 | N | 729 | 0.0005329070 | 0.0006581545 | 0.0008538668 | 6.367365e-03 | 0.004168975 | 0.0011307101 | 0.0014936520 | 0.000000000 | 0 | 0 | 0 | 0 | 0 | 1 |\n",
       "| 3 | N | 729 | 0.0000000000 | 0.0000000000 | 0.0025402202 | 3.720976e-05 | 0.004168975 | 0.0000000000 | 0.0000000000 | 0.000000000 | 0 | 0 | 0 | 0 | 0 | 1 |\n",
       "| 4 | N | 751 | 0.0005329070 | 0.0006581545 | 0.0002449780 | 3.720976e-05 | 0.004168975 | 0.0006372471 | 0.0002607562 | 0.000000000 | 0 | 0 | 0 | 0 | 1 | 0 |\n",
       "| 5 | N | 364 | 0.0015970796 | 0.0014806589 | 0.0009592326 | 3.720976e-05 | 0.004168975 | 0.0030131827 | 0.0016882386 | 0.002325581 | 0 | 0 | 0 | 0 | 0 | 1 |\n",
       "\n"
      ],
      "text/plain": [
       "  CONDITIONAL.APPROVAL LICENSE.TERM ZIP.CODE     WARD         POLICE.DISTRICT\n",
       "1 N                    230          0.0009866798 0.0088737201 0.0065616798   \n",
       "2 N                    729          0.0005329070 0.0006581545 0.0008538668   \n",
       "3 N                    729          0.0000000000 0.0000000000 0.0025402202   \n",
       "4 N                    751          0.0005329070 0.0006581545 0.0002449780   \n",
       "5 N                    364          0.0015970796 0.0014806589 0.0009592326   \n",
       "  LICENSE.CODE LICENSE.STATUS SSA          Community.Areas Census.Tracts\n",
       "1 0.000000e+00 0.004168975    0.0014673514 0.0014204545    0.000000000  \n",
       "2 6.367365e-03 0.004168975    0.0011307101 0.0014936520    0.000000000  \n",
       "3 3.720976e-05 0.004168975    0.0000000000 0.0000000000    0.000000000  \n",
       "4 3.720976e-05 0.004168975    0.0006372471 0.0002607562    0.000000000  \n",
       "5 3.720976e-05 0.004168975    0.0030131827 0.0016882386    0.002325581  \n",
       "  APPLICATION.TYPEC_CAPA APPLICATION.TYPEC_EXPA APPLICATION.TYPEC_LOC\n",
       "1 0                      0                      0                    \n",
       "2 0                      0                      0                    \n",
       "3 0                      0                      0                    \n",
       "4 0                      0                      0                    \n",
       "5 0                      0                      0                    \n",
       "  APPLICATION.TYPEC_SBA APPLICATION.TYPEISSUE APPLICATION.TYPERENEW\n",
       "1 0                     1                     0                    \n",
       "2 0                     0                     1                    \n",
       "3 0                     0                     1                    \n",
       "4 0                     1                     0                    \n",
       "5 0                     0                     1                    "
      ]
     },
     "metadata": {},
     "output_type": "display_data"
    }
   ],
   "source": [
    "head(test_data, 5)"
   ]
  },
  {
   "cell_type": "code",
   "execution_count": 40,
   "id": "15c326c8",
   "metadata": {},
   "outputs": [],
   "source": [
    "# Select only numeric columns\n",
    "numeric_cols <- sapply(test_data, is.numeric)\n",
    "test_data[, numeric_cols] <- na.aggregate(test_data[, numeric_cols], FUN = mean)"
   ]
  },
  {
   "cell_type": "code",
   "execution_count": 41,
   "id": "6d460fc0",
   "metadata": {},
   "outputs": [],
   "source": [
    "# factorizing the target variable\n",
    "data$CONDITIONAL.APPROVAL<- factor(data$CONDITIONAL.APPROVAL, levels = c(\"N\", \"Y\"))"
   ]
  },
  {
   "cell_type": "code",
   "execution_count": 42,
   "id": "d4ec746e",
   "metadata": {},
   "outputs": [
    {
     "name": "stdout",
     "output_type": "stream",
     "text": [
      "[1] \"Target variable distribution in training data\"\n",
      "\n",
      "     N      Y \n",
      "190684    775 \n"
     ]
    }
   ],
   "source": [
    "# Count unique values in the \"Category\" column\n",
    "value_counts <- table(train_data$CONDITIONAL.APPROVAL)\n",
    "print(\"Target variable distribution in training data\")\n",
    "# View the value counts\n",
    "print(value_counts)"
   ]
  },
  {
   "cell_type": "code",
   "execution_count": 43,
   "id": "3025c92e",
   "metadata": {},
   "outputs": [
    {
     "name": "stdout",
     "output_type": "stream",
     "text": [
      "[1] \"Target variable distribution in test data\"\n",
      "\n",
      "    N     Y \n",
      "81703   351 \n"
     ]
    }
   ],
   "source": [
    "# Count unique values in the \"Category\" column\n",
    "value_counts <- table(test_data$CONDITIONAL.APPROVAL)\n",
    "print(\"Target variable distribution in test data\")\n",
    "# View the value counts\n",
    "print(value_counts)"
   ]
  },
  {
   "cell_type": "markdown",
   "id": "7e97b1f3",
   "metadata": {},
   "source": [
    "### Oversampling "
   ]
  },
  {
   "cell_type": "code",
   "execution_count": 44,
   "id": "cfc3f2bb",
   "metadata": {},
   "outputs": [
    {
     "name": "stdout",
     "output_type": "stream",
     "text": [
      "[1] \"Target variable distribution in train data before oversampling\"\n"
     ]
    },
    {
     "data": {
      "text/plain": [
       "\n",
       "     N      Y \n",
       "190684    775 "
      ]
     },
     "metadata": {},
     "output_type": "display_data"
    }
   ],
   "source": [
    "# Check the class distribution before oversampling\n",
    "print(\"Target variable distribution in train data before oversampling\")\n",
    "table(train_data$CONDITIONAL.APPROVAL)"
   ]
  },
  {
   "cell_type": "code",
   "execution_count": 45,
   "id": "2c184f9e",
   "metadata": {},
   "outputs": [],
   "source": [
    "# Oversample the minority class using ROSE\n",
    "oversampled_data <- ovun.sample(CONDITIONAL.APPROVAL ~ ., data = train_data, method = \"over\", \n",
    "                                seed = 123)\n",
    "train_oversampled <- oversampled_data$data"
   ]
  },
  {
   "cell_type": "code",
   "execution_count": 46,
   "id": "eb64c589",
   "metadata": {},
   "outputs": [
    {
     "name": "stdout",
     "output_type": "stream",
     "text": [
      "[1] \"Target variable distribution in train data after oversampling\"\n"
     ]
    },
    {
     "data": {
      "text/plain": [
       "\n",
       "     N      Y \n",
       "190684 190595 "
      ]
     },
     "metadata": {},
     "output_type": "display_data"
    }
   ],
   "source": [
    "# Check the class distribution after oversampling\n",
    "print(\"Target variable distribution in train data after oversampling\")\n",
    "table(train_oversampled$CONDITIONAL.APPROVAL)"
   ]
  },
  {
   "cell_type": "markdown",
   "id": "33619203",
   "metadata": {},
   "source": [
    "# Training Decision Tree Model and Predicting"
   ]
  },
  {
   "cell_type": "code",
   "execution_count": 47,
   "id": "19322ca6",
   "metadata": {},
   "outputs": [],
   "source": [
    "# training the decision tree model\n",
    "control <- rpart.control(minsplit=20, minbucket=5, maxdepth=20)\n",
    "tree_advanced <- rpart(CONDITIONAL.APPROVAL ~ ., data = train_oversampled, \n",
    "                       method=\"class\", control=control)"
   ]
  },
  {
   "cell_type": "code",
   "execution_count": 48,
   "id": "9639283f",
   "metadata": {},
   "outputs": [],
   "source": [
    "# Predict on the test set\n",
    "predictions_advanced <- predict(tree_advanced, test_data, type = \"class\")"
   ]
  },
  {
   "cell_type": "code",
   "execution_count": 49,
   "id": "fc8a7414",
   "metadata": {},
   "outputs": [],
   "source": [
    "results <- data.frame(Predictions = predictions_advanced)\n",
    "results$Y_True <- test_data$CONDITIONAL.APPROVAL"
   ]
  },
  {
   "cell_type": "code",
   "execution_count": 50,
   "id": "6fddeb76",
   "metadata": {},
   "outputs": [],
   "source": [
    "test_data$CONDITIONAL.APPROVAL <- factor(test_data$CONDITIONAL.APPROVAL, \n",
    "                                         levels =levels(predictions_advanced))"
   ]
  },
  {
   "cell_type": "markdown",
   "id": "4ae5fbb0",
   "metadata": {},
   "source": [
    "### Evaluating the Model"
   ]
  },
  {
   "cell_type": "code",
   "execution_count": 51,
   "id": "0b714bd1",
   "metadata": {},
   "outputs": [
    {
     "name": "stdout",
     "output_type": "stream",
     "text": [
      "[1] \"Confusion Matrix for Tuned model\"\n"
     ]
    },
    {
     "data": {
      "text/plain": [
       "Confusion Matrix and Statistics\n",
       "\n",
       "          Reference\n",
       "Prediction     N     Y\n",
       "         N 79391     9\n",
       "         Y  2312   342\n",
       "                                          \n",
       "               Accuracy : 0.9717          \n",
       "                 95% CI : (0.9706, 0.9728)\n",
       "    No Information Rate : 0.9957          \n",
       "    P-Value [Acc > NIR] : 1               \n",
       "                                          \n",
       "                  Kappa : 0.2217          \n",
       "                                          \n",
       " Mcnemar's Test P-Value : <2e-16          \n",
       "                                          \n",
       "            Sensitivity : 0.9717          \n",
       "            Specificity : 0.9744          \n",
       "         Pos Pred Value : 0.9999          \n",
       "         Neg Pred Value : 0.1289          \n",
       "             Prevalence : 0.9957          \n",
       "         Detection Rate : 0.9675          \n",
       "   Detection Prevalence : 0.9677          \n",
       "      Balanced Accuracy : 0.9730          \n",
       "                                          \n",
       "       'Positive' Class : N               \n",
       "                                          "
      ]
     },
     "metadata": {},
     "output_type": "display_data"
    }
   ],
   "source": [
    "# Evaluate the model with the Confusion Matrix\n",
    "cm <- confusionMatrix(predictions_advanced, test_data$CONDITIONAL.APPROVAL)\n",
    "print(\"Confusion Matrix for Tuned model\")\n",
    "cm"
   ]
  },
  {
   "cell_type": "code",
   "execution_count": 52,
   "id": "2d7d47cb",
   "metadata": {},
   "outputs": [
    {
     "name": "stdout",
     "output_type": "stream",
     "text": [
      "[1] \"Accuracy:  0.971713749482048\"\n",
      "[1] \"Recall or Sensitivity:  0.971702385469322\"\n",
      "[1] \"Precision:  0.999886649874055\"\n",
      "[1] \"F1 Score:  0.98559306778893\"\n"
     ]
    }
   ],
   "source": [
    "# model - evaluated metrics\n",
    "print(paste(\"Accuracy: \", cm$overall['Accuracy']))\n",
    "print(paste(\"Recall or Sensitivity: \", cm$byClass['Sensitivity']))\n",
    "print(paste(\"Precision: \", cm$byClass['Pos Pred Value']))\n",
    "print(paste(\"F1 Score: \", cm$byClass['F1']))"
   ]
  },
  {
   "cell_type": "code",
   "execution_count": 53,
   "id": "d7b9ab9a",
   "metadata": {},
   "outputs": [
    {
     "name": "stderr",
     "output_type": "stream",
     "text": [
      "Setting levels: control = N, case = Y\n",
      "\n",
      "Setting direction: controls < cases\n",
      "\n"
     ]
    },
    {
     "data": {
      "image/png": "[encoded data removed]",
      "text/plain": [
       "plot without title"
      ]
     },
     "metadata": {
      "image/png": {
       "height": 420,
       "width": 420
      }
     },
     "output_type": "display_data"
    }
   ],
   "source": [
    "# auc roc curve\n",
    "predicted_probabilities <- predict(tree_advanced, test_data, type=\"prob\")[, 2]\n",
    "tree_roc <- roc(test_data$CONDITIONAL.APPROVAL, predicted_probabilities)\n",
    "#print(paste(\"AUC Score: \", tree_roc))\n",
    "plot(tree_roc)"
   ]
  },
  {
   "cell_type": "markdown",
   "id": "6fbac84c",
   "metadata": {},
   "source": [
    "### Feature Importance "
   ]
  },
  {
   "cell_type": "code",
   "execution_count": 54,
   "id": "b7896e48",
   "metadata": {},
   "outputs": [
    {
     "data": {
      "text/html": [
       "<table class=\"dataframe\">\n",
       "<caption>A data.frame: 10 × 2</caption>\n",
       "<thead>\n",
       "\t<tr><th scope=col>Variable.Importance</th><th scope=col>Feature</th></tr>\n",
       "\t<tr><th scope=col>&lt;dbl&gt;</th><th scope=col>&lt;chr&gt;</th></tr>\n",
       "</thead>\n",
       "<tbody>\n",
       "\t<tr><td>123822.7071</td><td>APPLICATION.TYPERENEW</td></tr>\n",
       "\t<tr><td>111758.2899</td><td>APPLICATION.TYPEISSUE</td></tr>\n",
       "\t<tr><td> 97908.2278</td><td>LICENSE.CODE         </td></tr>\n",
       "\t<tr><td> 60747.6821</td><td>Census.Tracts        </td></tr>\n",
       "\t<tr><td> 52592.7519</td><td>LICENSE.TERM         </td></tr>\n",
       "\t<tr><td> 38491.4077</td><td>SSA                  </td></tr>\n",
       "\t<tr><td>  9062.7146</td><td>WARD                 </td></tr>\n",
       "\t<tr><td>  8374.9399</td><td>Community.Areas      </td></tr>\n",
       "\t<tr><td>  2117.2390</td><td>ZIP.CODE             </td></tr>\n",
       "\t<tr><td>   391.5315</td><td>POLICE.DISTRICT      </td></tr>\n",
       "</tbody>\n",
       "</table>\n"
      ],
      "text/latex": [
       "A data.frame: 10 × 2\n",
       "\\begin{tabular}{ll}\n",
       " Variable.Importance & Feature\\\\\n",
       " <dbl> & <chr>\\\\\n",
       "\\hline\n",
       "\t 123822.7071 & APPLICATION.TYPERENEW\\\\\n",
       "\t 111758.2899 & APPLICATION.TYPEISSUE\\\\\n",
       "\t  97908.2278 & LICENSE.CODE         \\\\\n",
       "\t  60747.6821 & Census.Tracts        \\\\\n",
       "\t  52592.7519 & LICENSE.TERM         \\\\\n",
       "\t  38491.4077 & SSA                  \\\\\n",
       "\t   9062.7146 & WARD                 \\\\\n",
       "\t   8374.9399 & Community.Areas      \\\\\n",
       "\t   2117.2390 & ZIP.CODE             \\\\\n",
       "\t    391.5315 & POLICE.DISTRICT      \\\\\n",
       "\\end{tabular}\n"
      ],
      "text/markdown": [
       "\n",
       "A data.frame: 10 × 2\n",
       "\n",
       "| Variable.Importance &lt;dbl&gt; | Feature &lt;chr&gt; |\n",
       "|---|---|\n",
       "| 123822.7071 | APPLICATION.TYPERENEW |\n",
       "| 111758.2899 | APPLICATION.TYPEISSUE |\n",
       "|  97908.2278 | LICENSE.CODE          |\n",
       "|  60747.6821 | Census.Tracts         |\n",
       "|  52592.7519 | LICENSE.TERM          |\n",
       "|  38491.4077 | SSA                   |\n",
       "|   9062.7146 | WARD                  |\n",
       "|   8374.9399 | Community.Areas       |\n",
       "|   2117.2390 | ZIP.CODE              |\n",
       "|    391.5315 | POLICE.DISTRICT       |\n",
       "\n"
      ],
      "text/plain": [
       "   Variable.Importance Feature              \n",
       "1  123822.7071         APPLICATION.TYPERENEW\n",
       "2  111758.2899         APPLICATION.TYPEISSUE\n",
       "3   97908.2278         LICENSE.CODE         \n",
       "4   60747.6821         Census.Tracts        \n",
       "5   52592.7519         LICENSE.TERM         \n",
       "6   38491.4077         SSA                  \n",
       "7    9062.7146         WARD                 \n",
       "8    8374.9399         Community.Areas      \n",
       "9    2117.2390         ZIP.CODE             \n",
       "10    391.5315         POLICE.DISTRICT      "
      ]
     },
     "metadata": {},
     "output_type": "display_data"
    }
   ],
   "source": [
    "# feature importance\n",
    "feature_imp <- as.data.frame(tree_advanced$variable.importance)\n",
    "\n",
    "feature_imp$Feature <- rownames(feature_imp)\n",
    "rownames(feature_imp) <- NULL\n",
    "names(feature_imp)[names(feature_imp) == \"tree_advanced$variable.importance\"] <- \"Variable.Importance\"\n",
    "feature_imp"
   ]
  },
  {
   "cell_type": "markdown",
   "id": "d887dcc6",
   "metadata": {},
   "source": [
    "### Decision Tree"
   ]
  },
  {
   "cell_type": "code",
   "execution_count": 55,
   "id": "a64ef140",
   "metadata": {},
   "outputs": [
    {
     "data": {
      "image/png": "[encoded data removed]",
      "text/plain": [
       "plot without title"
      ]
     },
     "metadata": {
      "image/png": {
       "height": 420,
       "width": 420
      }
     },
     "output_type": "display_data"
    }
   ],
   "source": [
    "# decision tree\n",
    "rpart.plot(tree_advanced)"
   ]
  },
  {
   "cell_type": "code",
   "execution_count": null,
   "id": "b2ddcfe2",
   "metadata": {},
   "outputs": [],
   "source": []
  }
 ],
 "metadata": {
  "kernelspec": {
   "display_name": "R",
   "language": "R",
   "name": "ir"
  },
  "language_info": {
   "codemirror_mode": "r",
   "file_extension": ".r",
   "mimetype": "text/x-r-source",
   "name": "R",
   "pygments_lexer": "r",
   "version": "4.3.1"
  }
 },
 "nbformat": 4,
 "nbformat_minor": 5
}
